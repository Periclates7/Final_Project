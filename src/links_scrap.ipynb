{
 "cells": [
  {
   "cell_type": "code",
   "execution_count": 3,
   "id": "f2ac79d5",
   "metadata": {},
   "outputs": [],
   "source": [
    "import pandas as pd\n",
    "import numpy as np\n",
    "\n",
    "from selenium.webdriver.chrome.options import Options\n",
    "from webdriver_manager.chrome import ChromeDriverManager\n",
    "from selenium import webdriver\n",
    "from selenium.webdriver.common.by import By\n",
    "PATH=ChromeDriverManager().install()"
   ]
  },
  {
   "cell_type": "code",
   "execution_count": 12,
   "id": "d3352a67",
   "metadata": {},
   "outputs": [],
   "source": [
    "def scrapeo_links():\n",
    "    pags = [f'https://www.leagueofgraphs.com/es/rankings/summoners/page-{i}' for i in range(1, 51)]\n",
    "    links_total = []\n",
    "    for url in pags:\n",
    "        \n",
    "        driver=webdriver.Chrome(PATH)               \n",
    "        driver.get(url)\n",
    "        \n",
    "        links_invo = [driver.find_elements(By.TAG_NAME, 'a')[i].get_attribute('href') for i in range(len(driver.find_elements(By.TAG_NAME, 'a')))]\n",
    "        \n",
    "        driver.quit()\n",
    "        \n",
    "        links = links_invo[302:-23]\n",
    "        links_total.append(links)\n",
    "    return links_total"
   ]
  },
  {
   "cell_type": "code",
   "execution_count": 13,
   "id": "d1d0683e",
   "metadata": {},
   "outputs": [
    {
     "name": "stderr",
     "output_type": "stream",
     "text": [
      "/var/folders/_n/g7dsgr5d6hs1plzfmyy449980000gn/T/ipykernel_5312/1823259529.py:6: DeprecationWarning: executable_path has been deprecated, please pass in a Service object\n",
      "  driver=webdriver.Chrome(PATH)\n"
     ]
    }
   ],
   "source": [
    "links = scrapeo_links()"
   ]
  },
  {
   "cell_type": "code",
   "execution_count": 14,
   "id": "cfb5e53f",
   "metadata": {},
   "outputs": [],
   "source": [
    "links_total = []\n",
    "\n",
    "for lst in links:\n",
    "    for link in lst:\n",
    "        if 'summoners' not in link:\n",
    "            links_total.append(link)        "
   ]
  },
  {
   "cell_type": "code",
   "execution_count": 15,
   "id": "5151eef8",
   "metadata": {
    "scrolled": true
   },
   "outputs": [
    {
     "data": {
      "text/plain": [
       "4776"
      ]
     },
     "execution_count": 15,
     "metadata": {},
     "output_type": "execute_result"
    }
   ],
   "source": [
    "len(links_total)"
   ]
  },
  {
   "cell_type": "code",
   "execution_count": 18,
   "id": "05a7381e",
   "metadata": {},
   "outputs": [],
   "source": [
    "import multiprocessing as mp\n",
    "from multiprocessing import get_context\n",
    "from scrapeo_player import *                      \n",
    "                                           \n",
    "pool = mp.Pool(mp.cpu_count())"
   ]
  },
  {
   "cell_type": "code",
   "execution_count": null,
   "id": "d4983782",
   "metadata": {},
   "outputs": [],
   "source": [
    "pool.map(scrapeo_player, links_total)"
   ]
  },
  {
   "cell_type": "code",
   "execution_count": null,
   "id": "6e2ca86c",
   "metadata": {},
   "outputs": [],
   "source": [
    "df_1 = pd.DataFrame(data_champs)"
   ]
  },
  {
   "cell_type": "code",
   "execution_count": null,
   "id": "b21ce5dc",
   "metadata": {},
   "outputs": [],
   "source": [
    "df_1.to_csv('..data/df_1.csv', index = False)"
   ]
  },
  {
   "cell_type": "code",
   "execution_count": null,
   "id": "87aa220b",
   "metadata": {},
   "outputs": [],
   "source": [
    "import multiprocessing as mp\n",
    "from multiprocessing import get_context\n",
    "from scrapeo_rol_kda import *                      \n",
    "                                           \n",
    "pool = mp.Pool(mp.cpu_count())"
   ]
  },
  {
   "cell_type": "code",
   "execution_count": null,
   "id": "1c06a669",
   "metadata": {},
   "outputs": [],
   "source": [
    "data_rol = pool.map(scrapeo_rol_kda, links_total)"
   ]
  },
  {
   "cell_type": "code",
   "execution_count": null,
   "id": "0fed8d51",
   "metadata": {},
   "outputs": [],
   "source": [
    "df_2 = pd.DataFrame(data_rol)"
   ]
  },
  {
   "cell_type": "code",
   "execution_count": null,
   "id": "4736cbd9",
   "metadata": {},
   "outputs": [],
   "source": [
    "df_2.to_csv('..data/df_2.csv', index = False)"
   ]
  },
  {
   "cell_type": "code",
   "execution_count": null,
   "id": "c78a086b",
   "metadata": {},
   "outputs": [],
   "source": [
    "jhgkjhgkjhgkjhgjhgkjhgkjhgkjghkjhgj"
   ]
  }
 ],
 "metadata": {
  "kernelspec": {
   "display_name": "Python 3 (ipykernel)",
   "language": "python",
   "name": "python3"
  },
  "language_info": {
   "codemirror_mode": {
    "name": "ipython",
    "version": 3
   },
   "file_extension": ".py",
   "mimetype": "text/x-python",
   "name": "python",
   "nbconvert_exporter": "python",
   "pygments_lexer": "ipython3",
   "version": "3.9.13"
  }
 },
 "nbformat": 4,
 "nbformat_minor": 5
}
