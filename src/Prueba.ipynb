{
 "cells": [
  {
   "cell_type": "code",
   "execution_count": 1,
   "id": "de3aec8c",
   "metadata": {},
   "outputs": [],
   "source": [
    "import numpy as np\n",
    "import pandas as pd\n",
    "import time\n",
    "\n",
    "pd.set_option('display.max_rows', None)\n",
    "pd.set_option('display.max_columns', None)\n",
    "\n",
    "import warnings\n",
    "warnings.filterwarnings('ignore')\n"
   ]
  },
  {
   "cell_type": "code",
   "execution_count": 2,
   "id": "923138ca",
   "metadata": {},
   "outputs": [
    {
     "name": "stderr",
     "output_type": "stream",
     "text": [
      "[WDM] - Downloading: 100%|█████████████████| 8.82M/8.82M [00:03<00:00, 2.89MB/s]\n"
     ]
    }
   ],
   "source": [
    "from selenium.webdriver.chrome.options import Options\n",
    "from webdriver_manager.chrome import ChromeDriverManager\n",
    "from selenium import webdriver\n",
    "from selenium.webdriver.common.by import By\n",
    "PATH=ChromeDriverManager().install()\n",
    "\n",
    "import requests\n",
    "from bs4 import BeautifulSoup"
   ]
  },
  {
   "cell_type": "code",
   "execution_count": 3,
   "id": "a7de917d",
   "metadata": {},
   "outputs": [],
   "source": [
    "url = 'https://www.leagueofgraphs.com/es/rankings/summoners'\n",
    "\n",
    "driver=webdriver.Chrome(PATH)               \n",
    "driver.get(url)"
   ]
  },
  {
   "cell_type": "code",
   "execution_count": 4,
   "id": "8e831e9f",
   "metadata": {},
   "outputs": [],
   "source": [
    "links_invo = [driver.find_elements(By.TAG_NAME, 'a')[i].get_attribute('href') for i in range(len(driver.find_elements(By.TAG_NAME, 'a')))]\n",
    "driver.quit()"
   ]
  },
  {
   "cell_type": "code",
   "execution_count": 30,
   "id": "9312c578",
   "metadata": {},
   "outputs": [],
   "source": [
    "links_1 = links_invo[302:-23]"
   ]
  },
  {
   "cell_type": "code",
   "execution_count": 32,
   "id": "cc6d444a",
   "metadata": {},
   "outputs": [
    {
     "data": {
      "text/plain": [
       "'https://www.leagueofgraphs.com/es/summoner/euw/Yagiao'"
      ]
     },
     "execution_count": 32,
     "metadata": {},
     "output_type": "execute_result"
    }
   ],
   "source": [
    "links_1[-1]"
   ]
  },
  {
   "cell_type": "code",
   "execution_count": 13,
   "id": "2b3a0a1a",
   "metadata": {},
   "outputs": [
    {
     "data": {
      "text/plain": [
       "'6K OnFleek (NA)'"
      ]
     },
     "execution_count": 13,
     "metadata": {},
     "output_type": "execute_result"
    }
   ],
   "source": [
    "url = 'https://www.leagueofgraphs.com/es/summoner/na/6K+OnFleek'\n",
    "\n",
    "driver=webdriver.Chrome(PATH)               \n",
    "driver.get(url)\n",
    "\n",
    "name_reg= driver.find_element(By.TAG_NAME, 'h2').text\n",
    "driver.quit()\n",
    "\n",
    "name_reg"
   ]
  },
  {
   "cell_type": "code",
   "execution_count": 114,
   "id": "daee54d8",
   "metadata": {
    "scrolled": false
   },
   "outputs": [
    {
     "data": {
      "text/plain": [
       "('6K OnFleek',\n",
       " 'NA',\n",
       " 'Challenger',\n",
       " 1859,\n",
       " 'Soloqueue',\n",
       " 1,\n",
       " 'Top 0.000010%',\n",
       " 150,\n",
       " 111,\n",
       " 260,\n",
       " 57.7)"
      ]
     },
     "execution_count": 114,
     "metadata": {},
     "output_type": "execute_result"
    }
   ],
   "source": [
    "url = 'https://www.leagueofgraphs.com/es/summoner/na/6K+OnFleek'\n",
    "\n",
    "driver=webdriver.Chrome(PATH)               \n",
    "driver.get(url)\n",
    "\n",
    "name_reg= driver.find_element(By.TAG_NAME, 'h2').text \n",
    "nombre = name_reg.split('(')[0][:-1]\n",
    "region = name_reg.split('(')[1].rstrip(')')\n",
    "\n",
    "liga = driver.find_element(By.CLASS_NAME, 'leagueTier').text\n",
    "liga = liga.split(' ')[0]\n",
    "\n",
    "lp = driver.find_element(By.CLASS_NAME, 'leaguePoints').text\n",
    "lp = int(lp[:-3])\n",
    "\n",
    "cola = driver.find_element(By.CLASS_NAME, 'queue').text\n",
    "rank = int(driver.find_element(By.CLASS_NAME, 'highlight').text)\n",
    "rank_per = driver.find_element(By.CLASS_NAME, 'topRankPercentage').text\n",
    "wins = int(driver.find_element(By.CLASS_NAME, 'winsNumber').text)\n",
    "loses = int(driver.find_element(By.CLASS_NAME, 'lossesNumber').text)\n",
    "n_games = int(driver.find_element(By.ID, 'graphDD2').text)\n",
    "winrate_total = driver.find_element(By.ID, 'graphDD3').text\n",
    "winrate_total = float(winrate_total[:-1])\n",
    "\n",
    "\n",
    "driver.quit()\n",
    "\n",
    "nombre , region, liga, lp, cola, rank, rank_per, wins, loses, n_games, winrate_total"
   ]
  },
  {
   "cell_type": "markdown",
   "id": "4f5340f5",
   "metadata": {},
   "source": [
    "**KDA**"
   ]
  },
  {
   "cell_type": "code",
   "execution_count": 105,
   "id": "a840d073",
   "metadata": {},
   "outputs": [
    {
     "data": {
      "text/plain": [
       "'6.4'"
      ]
     },
     "execution_count": 105,
     "metadata": {},
     "output_type": "execute_result"
    }
   ],
   "source": [
    "kills_player_kda = kills[-4]\n",
    "kills_player_kda"
   ]
  },
  {
   "cell_type": "code",
   "execution_count": 106,
   "id": "a803d63e",
   "metadata": {},
   "outputs": [
    {
     "data": {
      "text/plain": [
       "'4.6'"
      ]
     },
     "execution_count": 106,
     "metadata": {},
     "output_type": "execute_result"
    }
   ],
   "source": [
    "deaths_player_kda = deaths[-4]\n",
    "deaths_player_kda"
   ]
  },
  {
   "cell_type": "code",
   "execution_count": 107,
   "id": "9385684e",
   "metadata": {},
   "outputs": [
    {
     "data": {
      "text/plain": [
       "'7.4'"
      ]
     },
     "execution_count": 107,
     "metadata": {},
     "output_type": "execute_result"
    }
   ],
   "source": [
    "assists_player_kda = assists[-4]\n",
    "assists_player_kda"
   ]
  },
  {
   "cell_type": "markdown",
   "id": "30c33c34",
   "metadata": {},
   "source": [
    "**NOMBRE CAMPEONES + JUGADOS POR JUGADOR**"
   ]
  },
  {
   "cell_type": "code",
   "execution_count": 26,
   "id": "93234c6c",
   "metadata": {},
   "outputs": [],
   "source": [
    "url = 'https://www.leagueofgraphs.com/es/summoner/na/6K+OnFleek'\n",
    "\n",
    "driver=webdriver.Chrome(PATH)               \n",
    "driver.get(url)\n",
    "\n",
    "champs_name = [driver.find_elements(By.CLASS_NAME, 'name')[i].text for i in range(len(driver.find_elements(By.CLASS_NAME, 'name')))]\n",
    "driver.quit()"
   ]
  },
  {
   "cell_type": "code",
   "execution_count": 44,
   "id": "5cd2e173",
   "metadata": {},
   "outputs": [
    {
     "data": {
      "text/plain": [
       "['Sylas', 'Jax', 'Vi', 'Lee Sin', 'Elise', 'Viego', 'Maokai', 'Kindred']"
      ]
     },
     "execution_count": 44,
     "metadata": {},
     "output_type": "execute_result"
    }
   ],
   "source": [
    "campeones = champs_name[1:9]\n",
    "campeones"
   ]
  },
  {
   "cell_type": "code",
   "execution_count": 43,
   "id": "6a415df6",
   "metadata": {},
   "outputs": [
    {
     "data": {
      "text/plain": [
       "'Kindred'"
      ]
     },
     "execution_count": 43,
     "metadata": {},
     "output_type": "execute_result"
    }
   ],
   "source": [
    "champ_1 = campeones[0]\n",
    "champ_2 = campeones[1]\n",
    "champ_3 = campeones[2]\n",
    "champ_4 = campeones[3]\n",
    "champ_5 = campeones[4]\n",
    "champ_6 = campeones[5]\n",
    "champ_7 = campeones[6]\n",
    "champ_8 = campeones[7]\n",
    "\n",
    "champ_8"
   ]
  },
  {
   "cell_type": "markdown",
   "id": "5079d746",
   "metadata": {},
   "source": [
    "**RANK CAMPEONES + JUGADOS POR JUGADOR**"
   ]
  },
  {
   "cell_type": "code",
   "execution_count": 49,
   "id": "42f20049",
   "metadata": {},
   "outputs": [],
   "source": [
    "driver=webdriver.Chrome(PATH)               \n",
    "driver.get(url)\n",
    "\n",
    "regional_rank = [driver.find_elements(By.CLASS_NAME, 'regionalRank')[i].text for i in range(len(driver.find_elements(By.CLASS_NAME, 'regionalRank')))]\n",
    "driver.quit()"
   ]
  },
  {
   "cell_type": "code",
   "execution_count": 50,
   "id": "bb6b7381",
   "metadata": {},
   "outputs": [
    {
     "data": {
      "text/plain": [
       "['125', '142', '101', '304', '451', '241', '1,819', '908']"
      ]
     },
     "execution_count": 50,
     "metadata": {},
     "output_type": "execute_result"
    }
   ],
   "source": [
    "regional_rank = regional_rank[1:9]\n",
    "regional_rank"
   ]
  },
  {
   "cell_type": "code",
   "execution_count": 51,
   "id": "d42392d7",
   "metadata": {},
   "outputs": [
    {
     "data": {
      "text/plain": [
       "'908'"
      ]
     },
     "execution_count": 51,
     "metadata": {},
     "output_type": "execute_result"
    }
   ],
   "source": [
    "regional_rank_1 = regional_rank[0]\n",
    "regional_rank_2 = regional_rank[1]\n",
    "regional_rank_3 = regional_rank[2]\n",
    "regional_rank_4 = regional_rank[3]\n",
    "regional_rank_5 = regional_rank[4]\n",
    "regional_rank_6 = regional_rank[5]\n",
    "regional_rank_7 = regional_rank[6]\n",
    "regional_rank_8 = regional_rank[7]\n",
    "regional_rank_8"
   ]
  },
  {
   "cell_type": "markdown",
   "id": "077fcfab",
   "metadata": {},
   "source": [
    "**KILLS CAMPEONES + JUGADOS POR JUGADOR**"
   ]
  },
  {
   "cell_type": "code",
   "execution_count": 94,
   "id": "bfe25915",
   "metadata": {},
   "outputs": [],
   "source": [
    "url = 'https://www.leagueofgraphs.com/es/summoner/na/6K+OnFleek'\n",
    "\n",
    "driver=webdriver.Chrome(PATH)               \n",
    "driver.get(url)\n",
    "\n",
    "kills = [driver.find_elements(By.CLASS_NAME, 'kills')[i].text for i in range(len(driver.find_elements(By.CLASS_NAME, 'kills')))]\n",
    "driver.quit()\n",
    "\n"
   ]
  },
  {
   "cell_type": "code",
   "execution_count": 95,
   "id": "bfc2f117",
   "metadata": {},
   "outputs": [
    {
     "data": {
      "text/plain": [
       "['9.1', '5.5', '6.2', '6.3', '6.9', '6.3', '4.6', '6.3']"
      ]
     },
     "execution_count": 95,
     "metadata": {},
     "output_type": "execute_result"
    }
   ],
   "source": [
    "kills_champs = kills[29:37]\n",
    "kills_champs"
   ]
  },
  {
   "cell_type": "code",
   "execution_count": 96,
   "id": "00f93a8f",
   "metadata": {},
   "outputs": [
    {
     "data": {
      "text/plain": [
       "'6.3'"
      ]
     },
     "execution_count": 96,
     "metadata": {},
     "output_type": "execute_result"
    }
   ],
   "source": [
    "kills_champ_1 = kills_champs[0]\n",
    "kills_champ_2 = kills_champs[1]\n",
    "kills_champ_3 = kills_champs[2]\n",
    "kills_champ_4 = kills_champs[3]\n",
    "kills_champ_5 = kills_champs[4]\n",
    "kills_champ_6 = kills_champs[5]\n",
    "kills_champ_7 = kills_champs[6]\n",
    "kills_champ_8 = kills_champs[7]\n",
    "kills_champ_8"
   ]
  },
  {
   "cell_type": "markdown",
   "id": "fca94e65",
   "metadata": {},
   "source": [
    "**MUERTES CAMPEONES + JUGADOS POR JUGADOR**"
   ]
  },
  {
   "cell_type": "code",
   "execution_count": 97,
   "id": "c40eacfe",
   "metadata": {},
   "outputs": [],
   "source": [
    "url = 'https://www.leagueofgraphs.com/es/summoner/na/6K+OnFleek'\n",
    "\n",
    "driver=webdriver.Chrome(PATH)               \n",
    "driver.get(url)\n",
    "\n",
    "deaths = [driver.find_elements(By.CLASS_NAME, 'deaths')[i].text for i in range(len(driver.find_elements(By.CLASS_NAME, 'deaths')))]\n",
    "driver.quit()"
   ]
  },
  {
   "cell_type": "code",
   "execution_count": 98,
   "id": "d74f5503",
   "metadata": {
    "scrolled": false
   },
   "outputs": [
    {
     "data": {
      "text/plain": [
       "['4.8', '4.5', '5.1', '4.4', '4.4', '4.7', '4.1', '6.2']"
      ]
     },
     "execution_count": 98,
     "metadata": {},
     "output_type": "execute_result"
    }
   ],
   "source": [
    "deaths_champs = deaths[29:37]\n",
    "deaths_champs"
   ]
  },
  {
   "cell_type": "code",
   "execution_count": 99,
   "id": "4733e676",
   "metadata": {},
   "outputs": [
    {
     "data": {
      "text/plain": [
       "'6.2'"
      ]
     },
     "execution_count": 99,
     "metadata": {},
     "output_type": "execute_result"
    }
   ],
   "source": [
    "deaths_champ_1 = deaths_champs[0]\n",
    "deaths_champ_2 = deaths_champs[1]\n",
    "deaths_champ_3 = deaths_champs[2]\n",
    "deaths_champ_4 = deaths_champs[3]\n",
    "deaths_champ_5 = deaths_champs[4]\n",
    "deaths_champ_6 = deaths_champs[5]\n",
    "deaths_champ_7 = deaths_champs[6]\n",
    "deaths_champ_8 = deaths_champs[7]\n",
    "deaths_champ_8"
   ]
  },
  {
   "cell_type": "markdown",
   "id": "b934dca7",
   "metadata": {},
   "source": [
    "**ASSISTS CAMPEONES + JUGADOS POR JUGADOR**"
   ]
  },
  {
   "cell_type": "code",
   "execution_count": 100,
   "id": "998ea2ac",
   "metadata": {},
   "outputs": [],
   "source": [
    "url = 'https://www.leagueofgraphs.com/es/summoner/na/6K+OnFleek'\n",
    "\n",
    "driver=webdriver.Chrome(PATH)               \n",
    "driver.get(url)\n",
    "\n",
    "assists = [driver.find_elements(By.CLASS_NAME, 'assists')[i].text for i in range(len(driver.find_elements(By.CLASS_NAME, 'assists')))]\n",
    "driver.quit()\n"
   ]
  },
  {
   "cell_type": "code",
   "execution_count": 101,
   "id": "c22a955b",
   "metadata": {},
   "outputs": [
    {
     "data": {
      "text/plain": [
       "['6.5', '3.2', '8.9', '7.6', '8.9', '7.4', '9.9', '8.6']"
      ]
     },
     "execution_count": 101,
     "metadata": {},
     "output_type": "execute_result"
    }
   ],
   "source": [
    "assists_champs = assists[29:37]\n",
    "assists_champs"
   ]
  },
  {
   "cell_type": "code",
   "execution_count": 102,
   "id": "b11def2b",
   "metadata": {
    "scrolled": true
   },
   "outputs": [
    {
     "data": {
      "text/plain": [
       "'8.6'"
      ]
     },
     "execution_count": 102,
     "metadata": {},
     "output_type": "execute_result"
    }
   ],
   "source": [
    "assists_champ_1 = assists_champs[0]\n",
    "assists_champ_2 = assists_champs[1]\n",
    "assists_champ_3 = assists_champs[2]\n",
    "assists_champ_4 = assists_champs[3]\n",
    "assists_champ_5 = assists_champs[4]\n",
    "assists_champ_6 = assists_champs[5]\n",
    "assists_champ_7 = assists_champs[6]\n",
    "assists_champ_8 = assists_champs[7]\n",
    "assists_champ_8"
   ]
  },
  {
   "cell_type": "markdown",
   "id": "b596225d",
   "metadata": {},
   "source": [
    "**PARTIDAS POR CAMPEÓN**"
   ]
  },
  {
   "cell_type": "code",
   "execution_count": 67,
   "id": "0f7002f2",
   "metadata": {},
   "outputs": [],
   "source": [
    "driver=webdriver.Chrome(PATH)               \n",
    "driver.get(url)\n",
    "\n",
    "progress_bar = [driver.find_elements(By.CLASS_NAME, 'progressBarTxt')[i].text for i in range(len(driver.find_elements(By.CLASS_NAME, 'progressBarTxt')))]\n",
    "driver.quit()"
   ]
  },
  {
   "cell_type": "code",
   "execution_count": 71,
   "id": "61044f10",
   "metadata": {},
   "outputs": [],
   "source": [
    "games_per_champ = progress_bar[:16:2]"
   ]
  },
  {
   "cell_type": "code",
   "execution_count": 73,
   "id": "365bf1cc",
   "metadata": {},
   "outputs": [
    {
     "data": {
      "text/plain": [
       "['44', '32', '30', '24', '16', '16', '16', '13']"
      ]
     },
     "execution_count": 73,
     "metadata": {},
     "output_type": "execute_result"
    }
   ],
   "source": [
    "games_per_champ"
   ]
  },
  {
   "cell_type": "code",
   "execution_count": 72,
   "id": "99161959",
   "metadata": {},
   "outputs": [
    {
     "data": {
      "text/plain": [
       "'13'"
      ]
     },
     "execution_count": 72,
     "metadata": {},
     "output_type": "execute_result"
    }
   ],
   "source": [
    "games_champ_1 = games_per_champ[0]\n",
    "games_champ_2 = games_per_champ[1]\n",
    "games_champ_3 = games_per_champ[2]\n",
    "games_champ_4 = games_per_champ[3]\n",
    "games_champ_5 = games_per_champ[4]\n",
    "games_champ_6 = games_per_champ[5]\n",
    "games_champ_7 = games_per_champ[6]\n",
    "games_champ_8 = games_per_champ[7]\n",
    "games_champ_8"
   ]
  },
  {
   "cell_type": "markdown",
   "id": "1a5448d3",
   "metadata": {},
   "source": [
    "**WINRATE POR CAMPEON**"
   ]
  },
  {
   "cell_type": "code",
   "execution_count": 74,
   "id": "115a76f9",
   "metadata": {},
   "outputs": [
    {
     "data": {
      "text/plain": [
       "['50.0%', '65.6%', '63.3%', '58.3%', '68.8%', '68.8%', '56.3%', '53.8%']"
      ]
     },
     "execution_count": 74,
     "metadata": {},
     "output_type": "execute_result"
    }
   ],
   "source": [
    "winrate_per_champ = progress_bar[1:16:2]\n",
    "winrate_per_champ"
   ]
  },
  {
   "cell_type": "code",
   "execution_count": 79,
   "id": "41ac89a1",
   "metadata": {},
   "outputs": [
    {
     "data": {
      "text/plain": [
       "'53.8%'"
      ]
     },
     "execution_count": 79,
     "metadata": {},
     "output_type": "execute_result"
    }
   ],
   "source": [
    "winrate_champ_1 = winrate_per_champ[0]\n",
    "winrate_champ_2 = winrate_per_champ[1]\n",
    "winrate_champ_3 = winrate_per_champ[2]\n",
    "winrate_champ_4 = winrate_per_champ[3]\n",
    "winrate_champ_5 = winrate_per_champ[4]\n",
    "winrate_champ_6 = winrate_per_champ[5]\n",
    "winrate_champ_7 = winrate_per_champ[6]\n",
    "winrate_champ_8 = winrate_per_champ[7]\n",
    "winrate_champ_8"
   ]
  },
  {
   "cell_type": "code",
   "execution_count": 80,
   "id": "1f3f87ec",
   "metadata": {},
   "outputs": [
    {
     "data": {
      "text/plain": [
       "'53.8'"
      ]
     },
     "execution_count": 80,
     "metadata": {},
     "output_type": "execute_result"
    }
   ],
   "source": [
    "winrate_champ_1 = winrate_champ_1[:-1]\n",
    "winrate_champ_2 = winrate_champ_2[:-1]\n",
    "winrate_champ_3 = winrate_champ_3[:-1]\n",
    "winrate_champ_4 = winrate_champ_4[:-1]\n",
    "winrate_champ_5 = winrate_champ_5[:-1]\n",
    "winrate_champ_6 = winrate_champ_6[:-1]\n",
    "winrate_champ_7 = winrate_champ_7[:-1]\n",
    "winrate_champ_8 = winrate_champ_8[:-1]\n",
    "winrate_champ_8"
   ]
  },
  {
   "cell_type": "markdown",
   "id": "92e571b9",
   "metadata": {},
   "source": [
    "**ESTADISTICAS POR ROL**"
   ]
  },
  {
   "cell_type": "code",
   "execution_count": 82,
   "id": "cfcd04b2",
   "metadata": {},
   "outputs": [
    {
     "data": {
      "text/plain": [
       "['199', '58.3%', '56', '58.9%', '5', '20.0%']"
      ]
     },
     "execution_count": 82,
     "metadata": {},
     "output_type": "execute_result"
    }
   ],
   "source": [
    "progress_bar[-6::]"
   ]
  },
  {
   "cell_type": "code",
   "execution_count": 85,
   "id": "51efa518",
   "metadata": {},
   "outputs": [
    {
     "data": {
      "text/plain": [
       "['Jungler', 'Top', 'Mid']"
      ]
     },
     "execution_count": 85,
     "metadata": {},
     "output_type": "execute_result"
    }
   ],
   "source": [
    "champs_name[-9:-6]"
   ]
  },
  {
   "cell_type": "code",
   "execution_count": 91,
   "id": "f96a1a15",
   "metadata": {},
   "outputs": [
    {
     "data": {
      "text/plain": [
       "['Jungler', 'Top', 'Mid']"
      ]
     },
     "execution_count": 91,
     "metadata": {},
     "output_type": "execute_result"
    }
   ],
   "source": [
    "roles = champs_name[-9:-6]\n",
    "roles"
   ]
  },
  {
   "cell_type": "code",
   "execution_count": 92,
   "id": "04bad50b",
   "metadata": {},
   "outputs": [
    {
     "data": {
      "text/plain": [
       "'Mid'"
      ]
     },
     "execution_count": 92,
     "metadata": {},
     "output_type": "execute_result"
    }
   ],
   "source": [
    "rol_1 = roles[0]\n",
    "rol_2 = roles[1]\n",
    "rol_3 = roles[2]\n",
    "rol_3"
   ]
  },
  {
   "cell_type": "code",
   "execution_count": 86,
   "id": "a2bf2713",
   "metadata": {},
   "outputs": [
    {
     "data": {
      "text/plain": [
       "['199', '56', '5']"
      ]
     },
     "execution_count": 86,
     "metadata": {},
     "output_type": "execute_result"
    }
   ],
   "source": [
    "games_per_rol = progress_bar[-6::2]\n",
    "games_per_rol"
   ]
  },
  {
   "cell_type": "code",
   "execution_count": 87,
   "id": "1458df9f",
   "metadata": {},
   "outputs": [
    {
     "data": {
      "text/plain": [
       "'5'"
      ]
     },
     "execution_count": 87,
     "metadata": {},
     "output_type": "execute_result"
    }
   ],
   "source": [
    "games_per_rol_1 = games_per_rol[0]\n",
    "games_per_rol_2 = games_per_rol[1]\n",
    "games_per_rol_3 = games_per_rol[2]\n",
    "games_per_rol_3"
   ]
  },
  {
   "cell_type": "code",
   "execution_count": 88,
   "id": "46784ecd",
   "metadata": {},
   "outputs": [
    {
     "data": {
      "text/plain": [
       "['58.3%', '58.9%', '20.0%']"
      ]
     },
     "execution_count": 88,
     "metadata": {},
     "output_type": "execute_result"
    }
   ],
   "source": [
    "winrate_per_rol = progress_bar[-5::2]\n",
    "winrate_per_rol"
   ]
  },
  {
   "cell_type": "code",
   "execution_count": 89,
   "id": "b308d387",
   "metadata": {},
   "outputs": [
    {
     "data": {
      "text/plain": [
       "'20.0%'"
      ]
     },
     "execution_count": 89,
     "metadata": {},
     "output_type": "execute_result"
    }
   ],
   "source": [
    "winrate_per_rol_1 = winrate_per_rol[0]\n",
    "winrate_per_rol_2 = winrate_per_rol[1]\n",
    "winrate_per_rol_3 = winrate_per_rol[2]\n",
    "winrate_per_rol_3"
   ]
  },
  {
   "cell_type": "code",
   "execution_count": 90,
   "id": "4d67bf75",
   "metadata": {},
   "outputs": [
    {
     "data": {
      "text/plain": [
       "'20.0'"
      ]
     },
     "execution_count": 90,
     "metadata": {},
     "output_type": "execute_result"
    }
   ],
   "source": [
    "winrate_per_rol_1 = winrate_per_rol_1[:-1]\n",
    "winrate_per_rol_2 = winrate_per_rol_2[:-1]\n",
    "winrate_per_rol_3 = winrate_per_rol_3[:-1]\n",
    "winrate_per_rol_3"
   ]
  },
  {
   "cell_type": "code",
   "execution_count": 122,
   "id": "5e5c560c",
   "metadata": {},
   "outputs": [],
   "source": [
    "data = scrapeo('https://www.leagueofgraphs.com/es/summoner/na/6K+OnFleek')"
   ]
  },
  {
   "cell_type": "code",
   "execution_count": 124,
   "id": "dd6baf70",
   "metadata": {},
   "outputs": [
    {
     "data": {
      "text/plain": [
       "{'nombre_invocador': '6K OnFleek',\n",
       " 'region': 'NA',\n",
       " 'liga': 'Challenger',\n",
       " 'lps': 1859,\n",
       " 'cola': 'Soloqueue',\n",
       " 'ranking_mundial': '1',\n",
       " 'ranking_porcentaje': 'Top 0.000010%',\n",
       " 'wins': 150,\n",
       " 'loses': 111,\n",
       " 'n_games': 260,\n",
       " 'winrate_total': 57.7,\n",
       " 'kills_player_kda': 6.4,\n",
       " 'deaths_player_kda': 4.6,\n",
       " 'assists_player_kda': 7.4,\n",
       " 'rol_1': 'Jungler',\n",
       " 'games_per_rol_1': 199,\n",
       " 'winrate_per_rol_1': 58.3,\n",
       " 'rol_2': 'Top',\n",
       " 'games_per_rol_2': 56,\n",
       " 'winrate_per_rol_2': 58.9,\n",
       " 'rol_3': 'Mid',\n",
       " 'games_per_rol_3': 5,\n",
       " 'winrate_per_rol_3': 20.0,\n",
       " 'champ_1': 'Sylas',\n",
       " 'regional_rank_1': '(NA: 1)',\n",
       " 'kills_champ_1': 9.1,\n",
       " 'deaths_champ_1': 4.8,\n",
       " 'assists_champ_1': 57.7,\n",
       " 'games_champ_1': 44,\n",
       " 'winrate_champ_1': 50.0,\n",
       " 'champ_2': 'Jax',\n",
       " 'regional_rank_2': '125',\n",
       " 'kills_champ_2': 5.5,\n",
       " 'deaths_champ_2': 4.5,\n",
       " 'assists_champ_2': 3.2,\n",
       " 'games_champ_2': 32,\n",
       " 'winrate_champ_2': 65.6,\n",
       " 'champ_3': 'Vi',\n",
       " 'regional_rank_3': '142',\n",
       " 'kills_champ_3': 6.2,\n",
       " 'deaths_champ_3': 5.1,\n",
       " 'assists_champ_3': 8.9,\n",
       " 'games_champ_3': 30,\n",
       " 'winrate_champ_3': 63.3,\n",
       " 'champ_4': 'Lee Sin',\n",
       " 'regional_rank_4': '100',\n",
       " 'kills_champ_4': 6.3,\n",
       " 'deaths_champ_4': 4.4,\n",
       " 'assists_champ_4': 7.6,\n",
       " 'games_champ_4': 24,\n",
       " 'winrate_champ_4': 58.3,\n",
       " 'champ_5': 'Elise',\n",
       " 'regional_rank_5': '304',\n",
       " 'kills_champ_5': 6.9,\n",
       " 'deaths_champ_5': 4.4,\n",
       " 'assists_champ_5': 8.9,\n",
       " 'games_champ_5': 16,\n",
       " 'winrate_champ_5': 68.8,\n",
       " 'champ_6': 'Viego',\n",
       " 'regional_rank_6': '452',\n",
       " 'kills_champ_6': 6.3,\n",
       " 'deaths_champ_6': 4.7,\n",
       " 'assists_champ_6': 7.4,\n",
       " 'games_champ_6': 16,\n",
       " 'winrate_champ_6': 68.8,\n",
       " 'champ_7': 'Maokai',\n",
       " 'regional_rank_7': '241',\n",
       " 'kills_champ_7': 4.6,\n",
       " 'deaths_champ_7': 4.1,\n",
       " 'assists_champ_7': 9.9,\n",
       " 'games_champ_7': 16,\n",
       " 'winrate_champ_7': 56.3,\n",
       " 'champ_8': 'Kindred',\n",
       " 'regional_rank_8': '1,821',\n",
       " 'kills_champ_8': 6.3,\n",
       " 'deaths_champ_8': 6.2,\n",
       " 'assists_champ_8': 8.6,\n",
       " 'games_champ_8': 13,\n",
       " 'winrate_champ_8': 53.8}"
      ]
     },
     "execution_count": 124,
     "metadata": {},
     "output_type": "execute_result"
    }
   ],
   "source": [
    "data"
   ]
  },
  {
   "cell_type": "code",
   "execution_count": 196,
   "id": "b178e54e",
   "metadata": {},
   "outputs": [],
   "source": [
    "import multiprocessing as mp\n",
    "from multiprocessing import get_context\n",
    "from funciones import *                      # Documento .py externo donde almaceno las funciones para poder hacer el map\n",
    "                                           # RUTA: ETL-Project/src/funcion.py\n",
    "pool = mp.Pool(mp.cpu_count())"
   ]
  },
  {
   "cell_type": "code",
   "execution_count": 197,
   "id": "a51f8fa1",
   "metadata": {},
   "outputs": [],
   "source": [
    "data = pool.map(scrapeo, links_1[:5])"
   ]
  },
  {
   "cell_type": "code",
   "execution_count": 198,
   "id": "05926ab6",
   "metadata": {},
   "outputs": [],
   "source": [
    "df = pd.DataFrame(data)"
   ]
  },
  {
   "cell_type": "code",
   "execution_count": 199,
   "id": "aaaed5c0",
   "metadata": {},
   "outputs": [
    {
     "data": {
      "text/html": [
       "<div>\n",
       "<style scoped>\n",
       "    .dataframe tbody tr th:only-of-type {\n",
       "        vertical-align: middle;\n",
       "    }\n",
       "\n",
       "    .dataframe tbody tr th {\n",
       "        vertical-align: top;\n",
       "    }\n",
       "\n",
       "    .dataframe thead th {\n",
       "        text-align: right;\n",
       "    }\n",
       "</style>\n",
       "<table border=\"1\" class=\"dataframe\">\n",
       "  <thead>\n",
       "    <tr style=\"text-align: right;\">\n",
       "      <th></th>\n",
       "      <th>nombre_invocador</th>\n",
       "      <th>region</th>\n",
       "      <th>liga</th>\n",
       "      <th>lps</th>\n",
       "      <th>cola</th>\n",
       "      <th>ranking_mundial</th>\n",
       "      <th>ranking_porcentaje</th>\n",
       "      <th>wins</th>\n",
       "      <th>loses</th>\n",
       "      <th>n_games</th>\n",
       "      <th>winrate_total</th>\n",
       "      <th>kills_player_kda</th>\n",
       "      <th>deaths_player_kda</th>\n",
       "      <th>assists_player_kda</th>\n",
       "      <th>rol_1</th>\n",
       "      <th>games_per_rol_1</th>\n",
       "      <th>winrate_per_rol_1</th>\n",
       "      <th>rol_2</th>\n",
       "      <th>games_per_rol_2</th>\n",
       "      <th>winrate_per_rol_2</th>\n",
       "      <th>rol_3</th>\n",
       "      <th>games_per_rol_3</th>\n",
       "      <th>winrate_per_rol_3</th>\n",
       "      <th>champ_1</th>\n",
       "      <th>regional_rank_1</th>\n",
       "      <th>kills_champ_1</th>\n",
       "      <th>deaths_champ_1</th>\n",
       "      <th>assists_champ_1</th>\n",
       "      <th>games_champ_1</th>\n",
       "      <th>winrate_champ_1</th>\n",
       "      <th>champ_2</th>\n",
       "      <th>regional_rank_2</th>\n",
       "      <th>kills_champ_2</th>\n",
       "      <th>deaths_champ_2</th>\n",
       "      <th>assists_champ_2</th>\n",
       "      <th>games_champ_2</th>\n",
       "      <th>winrate_champ_2</th>\n",
       "      <th>champ_3</th>\n",
       "      <th>regional_rank_3</th>\n",
       "      <th>kills_champ_3</th>\n",
       "      <th>deaths_champ_3</th>\n",
       "      <th>assists_champ_3</th>\n",
       "      <th>games_champ_3</th>\n",
       "      <th>winrate_champ_3</th>\n",
       "      <th>champ_4</th>\n",
       "      <th>regional_rank_4</th>\n",
       "      <th>kills_champ_4</th>\n",
       "      <th>deaths_champ_4</th>\n",
       "      <th>assists_champ_4</th>\n",
       "      <th>games_champ_4</th>\n",
       "      <th>winrate_champ_4</th>\n",
       "      <th>champ_5</th>\n",
       "      <th>regional_rank_5</th>\n",
       "      <th>kills_champ_5</th>\n",
       "      <th>deaths_champ_5</th>\n",
       "      <th>assists_champ_5</th>\n",
       "      <th>games_champ_5</th>\n",
       "      <th>winrate_champ_5</th>\n",
       "      <th>champ_6</th>\n",
       "      <th>regional_rank_6</th>\n",
       "      <th>kills_champ_6</th>\n",
       "      <th>deaths_champ_6</th>\n",
       "      <th>assists_champ_6</th>\n",
       "      <th>games_champ_6</th>\n",
       "      <th>winrate_champ_6</th>\n",
       "      <th>champ_7</th>\n",
       "      <th>regional_rank_7</th>\n",
       "      <th>kills_champ_7</th>\n",
       "      <th>deaths_champ_7</th>\n",
       "      <th>assists_champ_7</th>\n",
       "      <th>games_champ_7</th>\n",
       "      <th>winrate_champ_7</th>\n",
       "      <th>champ_8</th>\n",
       "      <th>regional_rank_8</th>\n",
       "      <th>kills_champ_8</th>\n",
       "      <th>deaths_champ_8</th>\n",
       "      <th>assists_champ_8</th>\n",
       "      <th>games_champ_8</th>\n",
       "      <th>winrate_champ_8</th>\n",
       "    </tr>\n",
       "  </thead>\n",
       "  <tbody>\n",
       "    <tr>\n",
       "      <th>0</th>\n",
       "      <td>6K OnFleek</td>\n",
       "      <td>NA</td>\n",
       "      <td>Challenger</td>\n",
       "      <td>1859</td>\n",
       "      <td>Soloqueue</td>\n",
       "      <td>1</td>\n",
       "      <td>Top 0.000010%</td>\n",
       "      <td>150</td>\n",
       "      <td>111</td>\n",
       "      <td>260</td>\n",
       "      <td>57.7</td>\n",
       "      <td>0</td>\n",
       "      <td>0</td>\n",
       "      <td>0</td>\n",
       "      <td>Jungler</td>\n",
       "      <td>199</td>\n",
       "      <td>58.3</td>\n",
       "      <td>Top</td>\n",
       "      <td>56</td>\n",
       "      <td>58.9</td>\n",
       "      <td>Mid</td>\n",
       "      <td>5</td>\n",
       "      <td>20.0</td>\n",
       "      <td>Sylas</td>\n",
       "      <td>(NA: 1)</td>\n",
       "      <td>9.1</td>\n",
       "      <td>4.8</td>\n",
       "      <td>57.7</td>\n",
       "      <td>44</td>\n",
       "      <td>50.0</td>\n",
       "      <td>Jax</td>\n",
       "      <td>125</td>\n",
       "      <td>5.5</td>\n",
       "      <td>4.5</td>\n",
       "      <td>3.2</td>\n",
       "      <td>32</td>\n",
       "      <td>65.6</td>\n",
       "      <td>Vi</td>\n",
       "      <td>142</td>\n",
       "      <td>6.2</td>\n",
       "      <td>5.1</td>\n",
       "      <td>8.9</td>\n",
       "      <td>30</td>\n",
       "      <td>63.3</td>\n",
       "      <td>Lee Sin</td>\n",
       "      <td>100</td>\n",
       "      <td>6.3</td>\n",
       "      <td>4.4</td>\n",
       "      <td>7.6</td>\n",
       "      <td>24</td>\n",
       "      <td>58.3</td>\n",
       "      <td>Elise</td>\n",
       "      <td>306</td>\n",
       "      <td>6.9</td>\n",
       "      <td>4.4</td>\n",
       "      <td>8.9</td>\n",
       "      <td>16</td>\n",
       "      <td>68.8</td>\n",
       "      <td>Viego</td>\n",
       "      <td>452</td>\n",
       "      <td>6.3</td>\n",
       "      <td>4.7</td>\n",
       "      <td>7.4</td>\n",
       "      <td>16</td>\n",
       "      <td>68.8</td>\n",
       "      <td>Maokai</td>\n",
       "      <td>242</td>\n",
       "      <td>4.6</td>\n",
       "      <td>4.1</td>\n",
       "      <td>9.9</td>\n",
       "      <td>16</td>\n",
       "      <td>56.3</td>\n",
       "      <td>Kindred</td>\n",
       "      <td>1,821</td>\n",
       "      <td>6.3</td>\n",
       "      <td>6.2</td>\n",
       "      <td>8.6</td>\n",
       "      <td>13</td>\n",
       "      <td>53.8</td>\n",
       "    </tr>\n",
       "    <tr>\n",
       "      <th>1</th>\n",
       "      <td>Noah7</td>\n",
       "      <td>EUW</td>\n",
       "      <td>Challenger</td>\n",
       "      <td>1762</td>\n",
       "      <td>Soloqueue</td>\n",
       "      <td>2</td>\n",
       "      <td>Top 0.000021%</td>\n",
       "      <td>242</td>\n",
       "      <td>159</td>\n",
       "      <td>401</td>\n",
       "      <td>60.6</td>\n",
       "      <td>0</td>\n",
       "      <td>0</td>\n",
       "      <td>0</td>\n",
       "      <td>SK JENAX\\nGrandMaster</td>\n",
       "      <td>5</td>\n",
       "      <td>60.0</td>\n",
       "      <td>Batuuu\\nGrandMaster</td>\n",
       "      <td>5</td>\n",
       "      <td>60.0</td>\n",
       "      <td>Yùmèn nuhαi\\nMaster</td>\n",
       "      <td>5</td>\n",
       "      <td>100.0</td>\n",
       "      <td>Zeri</td>\n",
       "      <td>(EUW: 1)</td>\n",
       "      <td>10.0</td>\n",
       "      <td>5.5</td>\n",
       "      <td>60.6</td>\n",
       "      <td>102</td>\n",
       "      <td>65.7</td>\n",
       "      <td>Lucian</td>\n",
       "      <td>16</td>\n",
       "      <td>10.4</td>\n",
       "      <td>6.1</td>\n",
       "      <td>7.9</td>\n",
       "      <td>54</td>\n",
       "      <td>66.7</td>\n",
       "      <td>Ezreal</td>\n",
       "      <td>2</td>\n",
       "      <td>8.4</td>\n",
       "      <td>5.0</td>\n",
       "      <td>6.6</td>\n",
       "      <td>49</td>\n",
       "      <td>59.2</td>\n",
       "      <td>Graves</td>\n",
       "      <td>47</td>\n",
       "      <td>8.9</td>\n",
       "      <td>4.4</td>\n",
       "      <td>7.9</td>\n",
       "      <td>47</td>\n",
       "      <td>59.6</td>\n",
       "      <td>Caitlyn</td>\n",
       "      <td>22</td>\n",
       "      <td>6.8</td>\n",
       "      <td>5.8</td>\n",
       "      <td>6.3</td>\n",
       "      <td>30</td>\n",
       "      <td>53.3</td>\n",
       "      <td>Varus</td>\n",
       "      <td>4,351</td>\n",
       "      <td>9.0</td>\n",
       "      <td>6.6</td>\n",
       "      <td>8.6</td>\n",
       "      <td>25</td>\n",
       "      <td>52.0</td>\n",
       "      <td>Kai'Sa</td>\n",
       "      <td>2,282</td>\n",
       "      <td>10.2</td>\n",
       "      <td>5.7</td>\n",
       "      <td>6.6</td>\n",
       "      <td>22</td>\n",
       "      <td>68.2</td>\n",
       "      <td>Lee Sin</td>\n",
       "      <td>1,314</td>\n",
       "      <td>7.3</td>\n",
       "      <td>7.3</td>\n",
       "      <td>10.9</td>\n",
       "      <td>16</td>\n",
       "      <td>43.8</td>\n",
       "    </tr>\n",
       "    <tr>\n",
       "      <th>2</th>\n",
       "      <td>frosty</td>\n",
       "      <td>BR</td>\n",
       "      <td>Challenger</td>\n",
       "      <td>1760</td>\n",
       "      <td>Soloqueue</td>\n",
       "      <td>3</td>\n",
       "      <td>Top 0.000032%</td>\n",
       "      <td>194</td>\n",
       "      <td>141</td>\n",
       "      <td>336</td>\n",
       "      <td>57.7</td>\n",
       "      <td>0</td>\n",
       "      <td>0</td>\n",
       "      <td>0</td>\n",
       "      <td></td>\n",
       "      <td>1</td>\n",
       "      <td>0.0</td>\n",
       "      <td></td>\n",
       "      <td>22</td>\n",
       "      <td>86.4</td>\n",
       "      <td></td>\n",
       "      <td>4</td>\n",
       "      <td>25.0</td>\n",
       "      <td>Ashe</td>\n",
       "      <td>(BR: 1)</td>\n",
       "      <td>3.6</td>\n",
       "      <td>4.9</td>\n",
       "      <td>57.7</td>\n",
       "      <td>68</td>\n",
       "      <td>52.9</td>\n",
       "      <td>Karma</td>\n",
       "      <td>21</td>\n",
       "      <td>4.2</td>\n",
       "      <td>4.5</td>\n",
       "      <td>16.8</td>\n",
       "      <td>34</td>\n",
       "      <td>64.7</td>\n",
       "      <td>Heimerdinger</td>\n",
       "      <td>65</td>\n",
       "      <td>4.6</td>\n",
       "      <td>5.4</td>\n",
       "      <td>11.6</td>\n",
       "      <td>34</td>\n",
       "      <td>58.8</td>\n",
       "      <td>Rakan</td>\n",
       "      <td>37</td>\n",
       "      <td>2.0</td>\n",
       "      <td>4.1</td>\n",
       "      <td>17.4</td>\n",
       "      <td>33</td>\n",
       "      <td>60.6</td>\n",
       "      <td>Ezreal</td>\n",
       "      <td>77</td>\n",
       "      <td>8.6</td>\n",
       "      <td>5.3</td>\n",
       "      <td>7.2</td>\n",
       "      <td>29</td>\n",
       "      <td>55.2</td>\n",
       "      <td>Zeri</td>\n",
       "      <td>337</td>\n",
       "      <td>9.3</td>\n",
       "      <td>4.4</td>\n",
       "      <td>6.8</td>\n",
       "      <td>23</td>\n",
       "      <td>73.9</td>\n",
       "      <td>Nautilus</td>\n",
       "      <td>144</td>\n",
       "      <td>2.2</td>\n",
       "      <td>4.8</td>\n",
       "      <td>14.8</td>\n",
       "      <td>17</td>\n",
       "      <td>58.8</td>\n",
       "      <td>Varus</td>\n",
       "      <td>266</td>\n",
       "      <td>7.9</td>\n",
       "      <td>5.3</td>\n",
       "      <td>9.5</td>\n",
       "      <td>16</td>\n",
       "      <td>56.3</td>\n",
       "    </tr>\n",
       "    <tr>\n",
       "      <th>3</th>\n",
       "      <td>ZEN sant</td>\n",
       "      <td>BR</td>\n",
       "      <td>Challenger</td>\n",
       "      <td>1687</td>\n",
       "      <td>Soloqueue</td>\n",
       "      <td>6</td>\n",
       "      <td>Top 0.000065%</td>\n",
       "      <td>225</td>\n",
       "      <td>178</td>\n",
       "      <td>402</td>\n",
       "      <td>55.7</td>\n",
       "      <td>0</td>\n",
       "      <td>0</td>\n",
       "      <td>0</td>\n",
       "      <td></td>\n",
       "      <td>8</td>\n",
       "      <td>62.5</td>\n",
       "      <td></td>\n",
       "      <td>6</td>\n",
       "      <td>50.0</td>\n",
       "      <td></td>\n",
       "      <td>4</td>\n",
       "      <td>50.0</td>\n",
       "      <td>Lucian</td>\n",
       "      <td>(BR: 3)</td>\n",
       "      <td>8.7</td>\n",
       "      <td>6.6</td>\n",
       "      <td>55.7</td>\n",
       "      <td>62</td>\n",
       "      <td>66.1</td>\n",
       "      <td>Varus</td>\n",
       "      <td>3</td>\n",
       "      <td>7.3</td>\n",
       "      <td>6.4</td>\n",
       "      <td>8.0</td>\n",
       "      <td>59</td>\n",
       "      <td>44.1</td>\n",
       "      <td>Caitlyn</td>\n",
       "      <td>58</td>\n",
       "      <td>6.2</td>\n",
       "      <td>6.4</td>\n",
       "      <td>8.5</td>\n",
       "      <td>36</td>\n",
       "      <td>50.0</td>\n",
       "      <td>Ezreal</td>\n",
       "      <td>365</td>\n",
       "      <td>6.7</td>\n",
       "      <td>6.3</td>\n",
       "      <td>8.1</td>\n",
       "      <td>34</td>\n",
       "      <td>58.8</td>\n",
       "      <td>Ashe</td>\n",
       "      <td>166</td>\n",
       "      <td>3.9</td>\n",
       "      <td>6.0</td>\n",
       "      <td>12.3</td>\n",
       "      <td>33</td>\n",
       "      <td>60.6</td>\n",
       "      <td>Jhin</td>\n",
       "      <td>130</td>\n",
       "      <td>6.0</td>\n",
       "      <td>5.0</td>\n",
       "      <td>8.6</td>\n",
       "      <td>21</td>\n",
       "      <td>52.4</td>\n",
       "      <td>Sivir</td>\n",
       "      <td>1,132</td>\n",
       "      <td>5.3</td>\n",
       "      <td>5.4</td>\n",
       "      <td>7.6</td>\n",
       "      <td>21</td>\n",
       "      <td>76.2</td>\n",
       "      <td>Zeri</td>\n",
       "      <td>56</td>\n",
       "      <td>6.1</td>\n",
       "      <td>4.7</td>\n",
       "      <td>5.0</td>\n",
       "      <td>18</td>\n",
       "      <td>55.6</td>\n",
       "    </tr>\n",
       "    <tr>\n",
       "      <th>4</th>\n",
       "      <td>Agurin</td>\n",
       "      <td>EUW</td>\n",
       "      <td>Challenger</td>\n",
       "      <td>1720</td>\n",
       "      <td>Soloqueue</td>\n",
       "      <td>4</td>\n",
       "      <td>Top 0.000043%</td>\n",
       "      <td>238</td>\n",
       "      <td>172</td>\n",
       "      <td></td>\n",
       "      <td>43</td>\n",
       "      <td>0</td>\n",
       "      <td>0</td>\n",
       "      <td>0</td>\n",
       "      <td></td>\n",
       "      <td>28</td>\n",
       "      <td>46.4</td>\n",
       "      <td></td>\n",
       "      <td>25</td>\n",
       "      <td>52.0</td>\n",
       "      <td></td>\n",
       "      <td>21</td>\n",
       "      <td>47.6</td>\n",
       "      <td>Jarvan IV</td>\n",
       "      <td>(EUW: 2)</td>\n",
       "      <td>6.2</td>\n",
       "      <td>5.1</td>\n",
       "      <td>43</td>\n",
       "      <td>113</td>\n",
       "      <td>59.3</td>\n",
       "      <td>Elise</td>\n",
       "      <td>(EUW: 3,437)</td>\n",
       "      <td>7.2</td>\n",
       "      <td>3.8</td>\n",
       "      <td>6.7</td>\n",
       "      <td>100</td>\n",
       "      <td>67.0</td>\n",
       "      <td>Wukong</td>\n",
       "      <td>43</td>\n",
       "      <td>5.9</td>\n",
       "      <td>4.3</td>\n",
       "      <td>7.0</td>\n",
       "      <td>68</td>\n",
       "      <td>55.9</td>\n",
       "      <td>Kha'Zix</td>\n",
       "      <td>4</td>\n",
       "      <td>6.5</td>\n",
       "      <td>5.1</td>\n",
       "      <td>8.0</td>\n",
       "      <td>49</td>\n",
       "      <td>53.1</td>\n",
       "      <td>Evelynn</td>\n",
       "      <td>57</td>\n",
       "      <td>8.2</td>\n",
       "      <td>4.3</td>\n",
       "      <td>6.4</td>\n",
       "      <td>33</td>\n",
       "      <td>54.5</td>\n",
       "      <td>Diana</td>\n",
       "      <td>68</td>\n",
       "      <td>7.1</td>\n",
       "      <td>5.5</td>\n",
       "      <td>6.7</td>\n",
       "      <td>18</td>\n",
       "      <td>44.4</td>\n",
       "      <td>Karma</td>\n",
       "      <td>364</td>\n",
       "      <td>2.7</td>\n",
       "      <td>5.2</td>\n",
       "      <td>11.5</td>\n",
       "      <td>13</td>\n",
       "      <td>53.8</td>\n",
       "      <td>Nocturne</td>\n",
       "      <td>3,524</td>\n",
       "      <td>5.3</td>\n",
       "      <td>5.7</td>\n",
       "      <td>6.9</td>\n",
       "      <td>9</td>\n",
       "      <td>33.3</td>\n",
       "    </tr>\n",
       "  </tbody>\n",
       "</table>\n",
       "</div>"
      ],
      "text/plain": [
       "  nombre_invocador region        liga   lps       cola ranking_mundial  \\\n",
       "0       6K OnFleek     NA  Challenger  1859  Soloqueue               1   \n",
       "1            Noah7    EUW  Challenger  1762  Soloqueue               2   \n",
       "2           frosty     BR  Challenger  1760  Soloqueue               3   \n",
       "3         ZEN sant     BR  Challenger  1687  Soloqueue               6   \n",
       "4           Agurin    EUW  Challenger  1720  Soloqueue               4   \n",
       "\n",
       "  ranking_porcentaje wins loses n_games winrate_total  kills_player_kda  \\\n",
       "0      Top 0.000010%  150   111     260          57.7                 0   \n",
       "1      Top 0.000021%  242   159     401          60.6                 0   \n",
       "2      Top 0.000032%  194   141     336          57.7                 0   \n",
       "3      Top 0.000065%  225   178     402          55.7                 0   \n",
       "4      Top 0.000043%  238   172                    43                 0   \n",
       "\n",
       "   deaths_player_kda  assists_player_kda                  rol_1  \\\n",
       "0                  0                   0                Jungler   \n",
       "1                  0                   0  SK JENAX\\nGrandMaster   \n",
       "2                  0                   0                          \n",
       "3                  0                   0                          \n",
       "4                  0                   0                          \n",
       "\n",
       "  games_per_rol_1 winrate_per_rol_1                rol_2 games_per_rol_2  \\\n",
       "0             199              58.3                  Top              56   \n",
       "1               5              60.0  Batuuu\\nGrandMaster               5   \n",
       "2               1               0.0                                   22   \n",
       "3               8              62.5                                    6   \n",
       "4              28              46.4                                   25   \n",
       "\n",
       "  winrate_per_rol_2                rol_3 games_per_rol_3 winrate_per_rol_3  \\\n",
       "0              58.9                  Mid               5              20.0   \n",
       "1              60.0  Yùmèn nuhαi\\nMaster               5             100.0   \n",
       "2              86.4                                    4              25.0   \n",
       "3              50.0                                    4              50.0   \n",
       "4              52.0                                   21              47.6   \n",
       "\n",
       "     champ_1 regional_rank_1 kills_champ_1 deaths_champ_1 assists_champ_1  \\\n",
       "0      Sylas         (NA: 1)           9.1            4.8            57.7   \n",
       "1       Zeri        (EUW: 1)          10.0            5.5            60.6   \n",
       "2       Ashe         (BR: 1)           3.6            4.9            57.7   \n",
       "3     Lucian         (BR: 3)           8.7            6.6            55.7   \n",
       "4  Jarvan IV        (EUW: 2)           6.2            5.1              43   \n",
       "\n",
       "  games_champ_1 winrate_champ_1 champ_2 regional_rank_2 kills_champ_2  \\\n",
       "0            44            50.0     Jax             125           5.5   \n",
       "1           102            65.7  Lucian              16          10.4   \n",
       "2            68            52.9   Karma              21           4.2   \n",
       "3            62            66.1   Varus               3           7.3   \n",
       "4           113            59.3   Elise    (EUW: 3,437)           7.2   \n",
       "\n",
       "  deaths_champ_2 assists_champ_2 games_champ_2 winrate_champ_2       champ_3  \\\n",
       "0            4.5             3.2            32            65.6            Vi   \n",
       "1            6.1             7.9            54            66.7        Ezreal   \n",
       "2            4.5            16.8            34            64.7  Heimerdinger   \n",
       "3            6.4             8.0            59            44.1       Caitlyn   \n",
       "4            3.8             6.7           100            67.0        Wukong   \n",
       "\n",
       "  regional_rank_3 kills_champ_3 deaths_champ_3 assists_champ_3 games_champ_3  \\\n",
       "0             142           6.2            5.1             8.9            30   \n",
       "1               2           8.4            5.0             6.6            49   \n",
       "2              65           4.6            5.4            11.6            34   \n",
       "3              58           6.2            6.4             8.5            36   \n",
       "4              43           5.9            4.3             7.0            68   \n",
       "\n",
       "  winrate_champ_3  champ_4 regional_rank_4 kills_champ_4 deaths_champ_4  \\\n",
       "0            63.3  Lee Sin             100           6.3            4.4   \n",
       "1            59.2   Graves              47           8.9            4.4   \n",
       "2            58.8    Rakan              37           2.0            4.1   \n",
       "3            50.0   Ezreal             365           6.7            6.3   \n",
       "4            55.9  Kha'Zix               4           6.5            5.1   \n",
       "\n",
       "  assists_champ_4 games_champ_4 winrate_champ_4  champ_5 regional_rank_5  \\\n",
       "0             7.6            24            58.3    Elise             306   \n",
       "1             7.9            47            59.6  Caitlyn              22   \n",
       "2            17.4            33            60.6   Ezreal              77   \n",
       "3             8.1            34            58.8     Ashe             166   \n",
       "4             8.0            49            53.1  Evelynn              57   \n",
       "\n",
       "  kills_champ_5 deaths_champ_5 assists_champ_5 games_champ_5 winrate_champ_5  \\\n",
       "0           6.9            4.4             8.9            16            68.8   \n",
       "1           6.8            5.8             6.3            30            53.3   \n",
       "2           8.6            5.3             7.2            29            55.2   \n",
       "3           3.9            6.0            12.3            33            60.6   \n",
       "4           8.2            4.3             6.4            33            54.5   \n",
       "\n",
       "  champ_6 regional_rank_6 kills_champ_6 deaths_champ_6 assists_champ_6  \\\n",
       "0   Viego             452           6.3            4.7             7.4   \n",
       "1   Varus           4,351           9.0            6.6             8.6   \n",
       "2    Zeri             337           9.3            4.4             6.8   \n",
       "3    Jhin             130           6.0            5.0             8.6   \n",
       "4   Diana              68           7.1            5.5             6.7   \n",
       "\n",
       "  games_champ_6 winrate_champ_6   champ_7 regional_rank_7 kills_champ_7  \\\n",
       "0            16            68.8    Maokai             242           4.6   \n",
       "1            25            52.0    Kai'Sa           2,282          10.2   \n",
       "2            23            73.9  Nautilus             144           2.2   \n",
       "3            21            52.4     Sivir           1,132           5.3   \n",
       "4            18            44.4     Karma             364           2.7   \n",
       "\n",
       "  deaths_champ_7 assists_champ_7 games_champ_7 winrate_champ_7   champ_8  \\\n",
       "0            4.1             9.9            16            56.3   Kindred   \n",
       "1            5.7             6.6            22            68.2   Lee Sin   \n",
       "2            4.8            14.8            17            58.8     Varus   \n",
       "3            5.4             7.6            21            76.2      Zeri   \n",
       "4            5.2            11.5            13            53.8  Nocturne   \n",
       "\n",
       "  regional_rank_8 kills_champ_8 deaths_champ_8 assists_champ_8 games_champ_8  \\\n",
       "0           1,821           6.3            6.2             8.6            13   \n",
       "1           1,314           7.3            7.3            10.9            16   \n",
       "2             266           7.9            5.3             9.5            16   \n",
       "3              56           6.1            4.7             5.0            18   \n",
       "4           3,524           5.3            5.7             6.9             9   \n",
       "\n",
       "  winrate_champ_8  \n",
       "0            53.8  \n",
       "1            43.8  \n",
       "2            56.3  \n",
       "3            55.6  \n",
       "4            33.3  "
      ]
     },
     "execution_count": 199,
     "metadata": {},
     "output_type": "execute_result"
    }
   ],
   "source": [
    "df.head()"
   ]
  },
  {
   "cell_type": "code",
   "execution_count": 175,
   "id": "79eaf083",
   "metadata": {},
   "outputs": [],
   "source": [
    "url = links_1[3]\n",
    "\n",
    "driver=webdriver.Chrome(PATH)               \n",
    "driver.get(url)\n",
    "\n",
    "kda_4 = [driver.find_elements(By.CLASS_NAME, 'kda')[i].text for i in range(len(driver.find_elements(By.CLASS_NAME, 'kda')))]\n",
    "driver.quit()"
   ]
  },
  {
   "cell_type": "code",
   "execution_count": 187,
   "id": "f2efd358",
   "metadata": {},
   "outputs": [
    {
     "name": "stdout",
     "output_type": "stream",
     "text": [
      "['8.7 / 6.6 / 8.5', '7.3 / 6.4 / 8.0', '6.2 / 6.4 / 8.5', '6.7 / 6.3 / 8.1', '3.9 / 6.0 / 12.3', '6.0 / 5.0 / 8.6', '5.3 / 5.4 / 7.6', '6.1 / 4.7 / 5.0']\n"
     ]
    }
   ],
   "source": [
    "count = 0\n",
    "i = len(kda_4) - 1\n",
    "while count < 8 and i >= 0:\n",
    "    if kda_4[i] != '':\n",
    "        count += 1\n",
    "    i -= 1\n",
    "\n",
    "if count == 8:\n",
    "    result = kda_4[i+1:]\n",
    "    result = result[:8]\n",
    "    print(result)\n",
    "else:\n",
    "    print(\"No se encontraron suficientes valores distintos de ''\")"
   ]
  },
  {
   "cell_type": "code",
   "execution_count": 190,
   "id": "56486e39",
   "metadata": {},
   "outputs": [
    {
     "data": {
      "text/plain": [
       "[['8.7', '6.6', '8.5'],\n",
       " ['7.3', '6.4', '8.0'],\n",
       " ['6.2', '6.4', '8.5'],\n",
       " ['6.7', '6.3', '8.1'],\n",
       " ['3.9', '6.0', '12.3'],\n",
       " ['6.0', '5.0', '8.6'],\n",
       " ['5.3', '5.4', '7.6'],\n",
       " ['6.1', '4.7', '5.0']]"
      ]
     },
     "execution_count": 190,
     "metadata": {},
     "output_type": "execute_result"
    }
   ],
   "source": [
    "prueba = [e.split(' / ') for e in result]\n",
    "prueba"
   ]
  },
  {
   "cell_type": "code",
   "execution_count": 191,
   "id": "1a31e279",
   "metadata": {},
   "outputs": [
    {
     "data": {
      "text/plain": [
       "'6.6'"
      ]
     },
     "execution_count": 191,
     "metadata": {},
     "output_type": "execute_result"
    }
   ],
   "source": [
    "prueba[0][1]"
   ]
  },
  {
   "cell_type": "code",
   "execution_count": null,
   "id": "58f230cd",
   "metadata": {},
   "outputs": [],
   "source": []
  },
  {
   "cell_type": "code",
   "execution_count": 121,
   "id": "f0c51601",
   "metadata": {},
   "outputs": [],
   "source": [
    "def scrapeo(url):\n",
    "    \n",
    "    driver=webdriver.Chrome(PATH)               \n",
    "    driver.get(url)\n",
    "    \n",
    "    \n",
    "    name_reg= driver.find_element(By.TAG_NAME, 'h2').text                        # Nombre de invocador\n",
    "    nombre = name_reg.split('(')[0][:-1]\n",
    "    region = name_reg.split('(')[1].rstrip(')')                                  # Región en la que juega el jugador\n",
    "\n",
    "    liga = driver.find_element(By.CLASS_NAME, 'leagueTier').text\n",
    "    liga = liga.split(' ')[0]                                                    # Liga (Challenger, GrandMaster, Master ...)\n",
    "\n",
    "    lp = driver.find_element(By.CLASS_NAME, 'leaguePoints').text\n",
    "    lp = int(lp[:-3])                                                            # LPs\n",
    "\n",
    "    cola = driver.find_element(By.CLASS_NAME, 'queue').text                      # Modalidad de juego\n",
    "    rank = driver.find_element(By.CLASS_NAME, 'highlight').text                  # Rank mundial \n",
    "    rank_per = driver.find_element(By.CLASS_NAME, 'topRankPercentage').text      # Rank del jugador en porcentaje\n",
    "    wins = int(driver.find_element(By.CLASS_NAME, 'winsNumber').text)            # Nº de victorias\n",
    "    loses = int(driver.find_element(By.CLASS_NAME, 'lossesNumber').text)         # Nº de derrotas\n",
    "    n_games = int(driver.find_element(By.ID, 'graphDD2').text)                   # Nº de partidas en la Season\n",
    "    winrate_total = driver.find_element(By.ID, 'graphDD3').text         \n",
    "    winrate_total = float(winrate_total[:-1])                                    # Winrate total del jugador\n",
    "    \n",
    "    \n",
    "    champs_name = [driver.find_elements(By.CLASS_NAME, 'name')[i].text for i in range(len(driver.find_elements(By.CLASS_NAME,       'name')))]\n",
    "    \n",
    "    # Nombre de los campeones más jugados por el jugador\n",
    "    \n",
    "    campeones = champs_name[1:9]\n",
    "    \n",
    "    champ_1 = campeones[0]\n",
    "    champ_2 = campeones[1]\n",
    "    champ_3 = campeones[2]\n",
    "    champ_4 = campeones[3]\n",
    "    champ_5 = campeones[4]\n",
    "    champ_6 = campeones[5]\n",
    "    champ_7 = campeones[6]\n",
    "    champ_8 = campeones[7]\n",
    "    \n",
    "    regional_rank = [driver.find_elements(By.CLASS_NAME, 'regionalRank')[i].text for i in             range(len(driver.find_elements(By.CLASS_NAME, 'regionalRank')))]\n",
    "    \n",
    "    # Rank por regiones de los campeones más jugados por el jugador\n",
    "    \n",
    "    regional_rank_1 = regional_rank[0]\n",
    "    regional_rank_2 = regional_rank[1]\n",
    "    regional_rank_3 = regional_rank[2]\n",
    "    regional_rank_4 = regional_rank[3]\n",
    "    regional_rank_5 = regional_rank[4]\n",
    "    regional_rank_6 = regional_rank[5]\n",
    "    regional_rank_7 = regional_rank[6]\n",
    "    regional_rank_8 = regional_rank[7]\n",
    "    \n",
    "    \n",
    "    # KDA de los campeones más jugados por el jugador\n",
    "    \n",
    "    kda = [driver.find_elements(By.CLASS_NAME, 'kda')[i].text for i in range(len(driver.find_elements(By.CLASS_NAME, 'kda')))]\n",
    "    \n",
    "    count = 0\n",
    "    i = len(kda) - 1\n",
    "    while count < 8 and i >= 0:\n",
    "        if kda[i] != '':\n",
    "            count += 1\n",
    "        i -= 1\n",
    "\n",
    "    if count == 8:\n",
    "        result = kda_4[i+1:]\n",
    "        result = result[:8]\n",
    "    \n",
    "    \n",
    "    kda = [e.split(' / ') for e in result]\n",
    "    \n",
    "    kills_champ_1 = kda[0][0]\n",
    "    kills_champ_2 = kda[1][0]\n",
    "    kills_champ_3 = kda[2][0]\n",
    "    kills_champ_4 = kda[3][0]\n",
    "    kills_champ_5 = kda[4][0]\n",
    "    kills_champ_6 = kda[5][0]\n",
    "    kills_champ_7 = kda[6][0]\n",
    "    kills_champ_8 = kda[7][0]\n",
    "    \n",
    "    deaths_champ_1 = kda[0][1]\n",
    "    deaths_champ_2 = kda[1][1]\n",
    "    deaths_champ_3 = kda[2][1]\n",
    "    deaths_champ_4 = kda[3][1]\n",
    "    deaths_champ_5 = kda[4][1]\n",
    "    deaths_champ_6 = kda[5][1]\n",
    "    deaths_champ_7 = kda[6][1]\n",
    "    deaths_champ_8 = kda[7][1]\n",
    "    \n",
    "    assists_champ_1 = kda[0][2]\n",
    "    assists_champ_2 = kda[1][2]\n",
    "    assists_champ_3 = kda[2][2]\n",
    "    assists_champ_4 = kda[3][2]\n",
    "    assists_champ_5 = kda[4][2]\n",
    "    assists_champ_6 = kda[5][2]\n",
    "    assists_champ_7 = kda[6][2]\n",
    "    assists_champ_8 = kda[7][2]\n",
    "    \n",
    "    \n",
    "    progress_bar = [driver.find_elements(By.CLASS_NAME, 'progressBarTxt')[i].text for i in range(len(driver.find_elements(By.CLASS_NAME, 'progressBarTxt')))]\n",
    "    \n",
    "    driver.quit()\n",
    "    \n",
    "    # Número de partidas jugadas de los campeones más jugados por el jugador\n",
    "    \n",
    "    games_per_champ = progress_bar[:16:2]\n",
    "    \n",
    "    games_champ_1 = int(games_per_champ[0])\n",
    "    games_champ_2 = int(games_per_champ[1])\n",
    "    games_champ_3 = int(games_per_champ[2])\n",
    "    games_champ_4 = int(games_per_champ[3])\n",
    "    games_champ_5 = int(games_per_champ[4])\n",
    "    games_champ_6 = int(games_per_champ[5])\n",
    "    games_champ_7 = int(games_per_champ[6])\n",
    "    games_champ_8 = int(games_per_champ[7])\n",
    "    \n",
    "    \n",
    "    # Winrate de los campeones más jugados por el jugador\n",
    "    \n",
    "    winrate_per_champ = progress_bar[1:16:2]\n",
    "    \n",
    "    winrate_champ_1 = winrate_per_champ[0]\n",
    "    winrate_champ_2 = winrate_per_champ[1]\n",
    "    winrate_champ_3 = winrate_per_champ[2]\n",
    "    winrate_champ_4 = winrate_per_champ[3]\n",
    "    winrate_champ_5 = winrate_per_champ[4]\n",
    "    winrate_champ_6 = winrate_per_champ[5]\n",
    "    winrate_champ_7 = winrate_per_champ[6]\n",
    "    winrate_champ_8 = winrate_per_champ[7]\n",
    "    \n",
    "    winrate_champ_1 = float(winrate_champ_1[:-1])              # Quitamos '%' y transformamos a float\n",
    "    winrate_champ_2 = float(winrate_champ_2[:-1])\n",
    "    winrate_champ_3 = float(winrate_champ_3[:-1])\n",
    "    winrate_champ_4 = float(winrate_champ_4[:-1])\n",
    "    winrate_champ_5 = float(winrate_champ_5[:-1])\n",
    "    winrate_champ_6 = float(winrate_champ_6[:-1])\n",
    "    winrate_champ_7 = float(winrate_champ_7[:-1])\n",
    "    winrate_champ_8 = float(winrate_champ_8[:-1])\n",
    "    \n",
    "    \n",
    "    # Roles + jugados por el jugador\n",
    "    \n",
    "    roles = champs_name[-9:-6]\n",
    "    \n",
    "    rol_1 = roles[0]\n",
    "    rol_2 = roles[1]\n",
    "    rol_3 = roles[2]\n",
    "    \n",
    "    \n",
    "    # Partidas en cada rol jugado por el jugador\n",
    "    \n",
    "    games_per_rol = progress_bar[-6::2]\n",
    "    \n",
    "    games_per_rol_1 = int(games_per_rol[0])\n",
    "    games_per_rol_2 = int(games_per_rol[1])\n",
    "    games_per_rol_3 = int(games_per_rol[2])\n",
    "    \n",
    "    \n",
    "    # Winrate para cada rol jugado por el jugador\n",
    "    \n",
    "    winrate_per_rol = progress_bar[-5::2]\n",
    "    \n",
    "    winrate_per_rol_1 = winrate_per_rol[0]\n",
    "    winrate_per_rol_2 = winrate_per_rol[1]\n",
    "    winrate_per_rol_3 = winrate_per_rol[2]\n",
    "    \n",
    "    winrate_per_rol_1 = float(winrate_per_rol_1[:-1])       # Quitamos '%' y transformamos a float\n",
    "    winrate_per_rol_2 = float(winrate_per_rol_2[:-1])\n",
    "    winrate_per_rol_3 = float(winrate_per_rol_3[:-1])\n",
    "    \n",
    "    \n",
    "    #KDA jugador\n",
    "    \n",
    "    kills_player_kda = float(kills[-4])\n",
    "    deaths_player_kda = float(deaths[-4])\n",
    "    assists_player_kda = float(assists[-4])\n",
    "    \n",
    "    \n",
    "    data = {'nombre_invocador':nombre,              # Preparamos nuestros datos scrapeados en un diccionario donde la key\n",
    "            'region':region,                        # será el nombre de la columna y el value una lista con nuestros datos\n",
    "            'liga': liga,\n",
    "            'lps':lp,\n",
    "            'cola':cola,\n",
    "            'ranking_mundial':rank,\n",
    "            'ranking_porcentaje':rank_per,\n",
    "            \n",
    "            'wins':wins,\n",
    "            'loses':loses,\n",
    "            'n_games':n_games,\n",
    "            'winrate_total':winrate_total,\n",
    "            \n",
    "            'kills_player_kda':kills_player_kda,\n",
    "            'deaths_player_kda':deaths_player_kda,\n",
    "            'assists_player_kda':assists_player_kda,\n",
    "            \n",
    "            'rol_1':rol_1,\n",
    "            'games_per_rol_1':games_per_rol_1,\n",
    "            'winrate_per_rol_1':winrate_per_rol_1,\n",
    "            \n",
    "            'rol_2':rol_2,\n",
    "            'games_per_rol_2':games_per_rol_2,\n",
    "            'winrate_per_rol_2':winrate_per_rol_2,\n",
    "            \n",
    "            'rol_3':rol_3,\n",
    "            'games_per_rol_3':games_per_rol_3,\n",
    "            'winrate_per_rol_3':winrate_per_rol_3,\n",
    "            \n",
    "            'champ_1':champ_1,\n",
    "            'regional_rank_1':regional_rank_1,\n",
    "            'kills_champ_1':kills_champ_1,\n",
    "            'deaths_champ_1':deaths_champ_1,\n",
    "            'assists_champ_1':winrate_total,\n",
    "            'games_champ_1':games_champ_1,\n",
    "            'winrate_champ_1':winrate_champ_1,\n",
    "            \n",
    "            'champ_2':champ_2,\n",
    "            'regional_rank_2':regional_rank_2,\n",
    "            'kills_champ_2':kills_champ_2,\n",
    "            'deaths_champ_2':deaths_champ_2,\n",
    "            'assists_champ_2':assists_champ_2,\n",
    "            'games_champ_2':games_champ_2,\n",
    "            'winrate_champ_2':winrate_champ_2,\n",
    "            \n",
    "            'champ_3':champ_3,\n",
    "            'regional_rank_3':regional_rank_3,\n",
    "            'kills_champ_3':kills_champ_3,\n",
    "            'deaths_champ_3':deaths_champ_3,\n",
    "            'assists_champ_3':assists_champ_3,\n",
    "            'games_champ_3':games_champ_3,\n",
    "            'winrate_champ_3':winrate_champ_3,\n",
    "            \n",
    "            'champ_4':champ_4,\n",
    "            'regional_rank_4':regional_rank_4,\n",
    "            'kills_champ_4':kills_champ_4,\n",
    "            'deaths_champ_4':deaths_champ_4,\n",
    "            'assists_champ_4':assists_champ_4,\n",
    "            'games_champ_4':games_champ_4,\n",
    "            'winrate_champ_4':winrate_champ_4,\n",
    "            \n",
    "            'champ_5':champ_5,\n",
    "            'regional_rank_5':regional_rank_5,\n",
    "            'kills_champ_5':kills_champ_5,\n",
    "            'deaths_champ_5':deaths_champ_5,\n",
    "            'assists_champ_5':assists_champ_5,\n",
    "            'games_champ_5':games_champ_5,\n",
    "            'winrate_champ_5':winrate_champ_5,\n",
    "            \n",
    "            'champ_6':champ_6,\n",
    "            'regional_rank_6':regional_rank_6,\n",
    "            'kills_champ_6':kills_champ_6,\n",
    "            'deaths_champ_6':deaths_champ_6,\n",
    "            'assists_champ_6':assists_champ_6,\n",
    "            'games_champ_6':games_champ_6,\n",
    "            'winrate_champ_6':winrate_champ_6,\n",
    "            \n",
    "            'champ_7':champ_7,\n",
    "            'regional_rank_7':regional_rank_7,\n",
    "            'kills_champ_7':kills_champ_7,\n",
    "            'deaths_champ_7':deaths_champ_7,\n",
    "            'assists_champ_7':assists_champ_7,\n",
    "            'games_champ_7':games_champ_7,\n",
    "            'winrate_champ_7':winrate_champ_7,\n",
    "            \n",
    "            'champ_8':champ_8,\n",
    "            'regional_rank_8':regional_rank_8,\n",
    "            'kills_champ_8':kills_champ_8,\n",
    "            'deaths_champ_8':deaths_champ_8,\n",
    "            'assists_champ_8':assists_champ_8,\n",
    "            'games_champ_8':games_champ_8,\n",
    "            'winrate_champ_8':winrate_champ_8,\n",
    "            }\n",
    "    \n",
    "    return data"
   ]
  },
  {
   "cell_type": "code",
   "execution_count": 201,
   "id": "937b7e01",
   "metadata": {},
   "outputs": [
    {
     "data": {
      "text/plain": [
       "'https://www.leagueofgraphs.com/es/summoner/euw/Agurin'"
      ]
     },
     "execution_count": 201,
     "metadata": {},
     "output_type": "execute_result"
    }
   ],
   "source": [
    "links_1[4]"
   ]
  },
  {
   "cell_type": "code",
   "execution_count": 212,
   "id": "b75f0746",
   "metadata": {},
   "outputs": [],
   "source": [
    "url = links_1[3]\n",
    "\n",
    "driver=webdriver.Chrome(PATH)               \n",
    "driver.get(url)\n",
    "\n",
    "rol = [driver.find_elements(By.CLASS_NAME, 'img-align-block')[i].text for i in range(len(driver.find_elements(By.CLASS_NAME, 'img-align-block')))]\n",
    "driver.quit()"
   ]
  },
  {
   "cell_type": "code",
   "execution_count": 214,
   "id": "4dafd48f",
   "metadata": {},
   "outputs": [
    {
     "data": {
      "text/plain": [
       "['AD Carry', 'Support', 'Top']"
      ]
     },
     "execution_count": 214,
     "metadata": {},
     "output_type": "execute_result"
    }
   ],
   "source": [
    "[e for e in rol if e in ['AD Carry', 'Support', 'Top', 'Mid', 'Jungler']][:3]"
   ]
  },
  {
   "cell_type": "code",
   "execution_count": 213,
   "id": "57fb23ec",
   "metadata": {},
   "outputs": [
    {
     "data": {
      "text/plain": [
       "['ZEN sant (BR)\\nNivel 667 - #11 Lucian - #488 Sivir - #818 Varus',\n",
       " '',\n",
       " '',\n",
       " '',\n",
       " '',\n",
       " '',\n",
       " '',\n",
       " '',\n",
       " '',\n",
       " '',\n",
       " '',\n",
       " '',\n",
       " '',\n",
       " '',\n",
       " '',\n",
       " '',\n",
       " '',\n",
       " '',\n",
       " '',\n",
       " '',\n",
       " '',\n",
       " '',\n",
       " '',\n",
       " '',\n",
       " '',\n",
       " '',\n",
       " '',\n",
       " '',\n",
       " '',\n",
       " '',\n",
       " '',\n",
       " '',\n",
       " '',\n",
       " '',\n",
       " '',\n",
       " '',\n",
       " '',\n",
       " '',\n",
       " '',\n",
       " '',\n",
       " '',\n",
       " '',\n",
       " '',\n",
       " '',\n",
       " '',\n",
       " '',\n",
       " '',\n",
       " '',\n",
       " '',\n",
       " '',\n",
       " '',\n",
       " '',\n",
       " '',\n",
       " '',\n",
       " '',\n",
       " '',\n",
       " '',\n",
       " '',\n",
       " '',\n",
       " '',\n",
       " '',\n",
       " '',\n",
       " '',\n",
       " '',\n",
       " '',\n",
       " '',\n",
       " '',\n",
       " '',\n",
       " '',\n",
       " '',\n",
       " '',\n",
       " '',\n",
       " '',\n",
       " '',\n",
       " '',\n",
       " '',\n",
       " '',\n",
       " '',\n",
       " '',\n",
       " '',\n",
       " '',\n",
       " '',\n",
       " '',\n",
       " '',\n",
       " '',\n",
       " '',\n",
       " '',\n",
       " '',\n",
       " '',\n",
       " '',\n",
       " '',\n",
       " '',\n",
       " '',\n",
       " '',\n",
       " '',\n",
       " '',\n",
       " '',\n",
       " '',\n",
       " '',\n",
       " '',\n",
       " '',\n",
       " '',\n",
       " '',\n",
       " '',\n",
       " '',\n",
       " '',\n",
       " '',\n",
       " '',\n",
       " '',\n",
       " '',\n",
       " '',\n",
       " '',\n",
       " '',\n",
       " '',\n",
       " '',\n",
       " '',\n",
       " '',\n",
       " '',\n",
       " '',\n",
       " '',\n",
       " '',\n",
       " '',\n",
       " '',\n",
       " '',\n",
       " '',\n",
       " '',\n",
       " '',\n",
       " '',\n",
       " '',\n",
       " '',\n",
       " '',\n",
       " '',\n",
       " '',\n",
       " '',\n",
       " '',\n",
       " '',\n",
       " '',\n",
       " '',\n",
       " '',\n",
       " '',\n",
       " '',\n",
       " '',\n",
       " '',\n",
       " '',\n",
       " '',\n",
       " '',\n",
       " '',\n",
       " '',\n",
       " '',\n",
       " '',\n",
       " '',\n",
       " '',\n",
       " '',\n",
       " '',\n",
       " '',\n",
       " '',\n",
       " '',\n",
       " '',\n",
       " '',\n",
       " '',\n",
       " '',\n",
       " '',\n",
       " '',\n",
       " 'Challenger 1687 PL\\nSoloqueue\\nRango: 6 (BR: 3)\\nTop 0.000065%\\nPL: 1687\\nVictorias: 225 Derrotas: 178',\n",
       " 'Diamante I\\nPuntuación promedio de los enemigos (Últimas 10 partidas)',\n",
       " '',\n",
       " '',\n",
       " '',\n",
       " '',\n",
       " '',\n",
       " '',\n",
       " '',\n",
       " '',\n",
       " '',\n",
       " '',\n",
       " '',\n",
       " '',\n",
       " '',\n",
       " '',\n",
       " '',\n",
       " '',\n",
       " '',\n",
       " '',\n",
       " '',\n",
       " '',\n",
       " '',\n",
       " '',\n",
       " '',\n",
       " '',\n",
       " '',\n",
       " '',\n",
       " '',\n",
       " '',\n",
       " '',\n",
       " '',\n",
       " '',\n",
       " '',\n",
       " '',\n",
       " '',\n",
       " '',\n",
       " '',\n",
       " '',\n",
       " '',\n",
       " '',\n",
       " '',\n",
       " '',\n",
       " '',\n",
       " '',\n",
       " '',\n",
       " '',\n",
       " '',\n",
       " '',\n",
       " '',\n",
       " '',\n",
       " '',\n",
       " '',\n",
       " '',\n",
       " '',\n",
       " '',\n",
       " '',\n",
       " '',\n",
       " '',\n",
       " '',\n",
       " '',\n",
       " '',\n",
       " '',\n",
       " '',\n",
       " '',\n",
       " '',\n",
       " '',\n",
       " '',\n",
       " '',\n",
       " '',\n",
       " '',\n",
       " '',\n",
       " '',\n",
       " '',\n",
       " '',\n",
       " '',\n",
       " '',\n",
       " '',\n",
       " '',\n",
       " '',\n",
       " '',\n",
       " '',\n",
       " '',\n",
       " '',\n",
       " '',\n",
       " '',\n",
       " '',\n",
       " '',\n",
       " '',\n",
       " '',\n",
       " '',\n",
       " '',\n",
       " '',\n",
       " '',\n",
       " '',\n",
       " '',\n",
       " '',\n",
       " '',\n",
       " '',\n",
       " '',\n",
       " '',\n",
       " '',\n",
       " '',\n",
       " '',\n",
       " '',\n",
       " '',\n",
       " '',\n",
       " '',\n",
       " '',\n",
       " '',\n",
       " '',\n",
       " '',\n",
       " '',\n",
       " '',\n",
       " '',\n",
       " '',\n",
       " '',\n",
       " '',\n",
       " '',\n",
       " '',\n",
       " '',\n",
       " '',\n",
       " '',\n",
       " '',\n",
       " '',\n",
       " '',\n",
       " '',\n",
       " '',\n",
       " '',\n",
       " '',\n",
       " '',\n",
       " '',\n",
       " '',\n",
       " '',\n",
       " '',\n",
       " '',\n",
       " '',\n",
       " '',\n",
       " '',\n",
       " '',\n",
       " '',\n",
       " '',\n",
       " '',\n",
       " '',\n",
       " '',\n",
       " '',\n",
       " '',\n",
       " '',\n",
       " '',\n",
       " '',\n",
       " '',\n",
       " '',\n",
       " '',\n",
       " '',\n",
       " '',\n",
       " '',\n",
       " '',\n",
       " '',\n",
       " '',\n",
       " '',\n",
       " '',\n",
       " '',\n",
       " '',\n",
       " '',\n",
       " '',\n",
       " '',\n",
       " '',\n",
       " '',\n",
       " '',\n",
       " '',\n",
       " 'Fenécios Tips',\n",
       " 'Vitinhodacg',\n",
       " 'PMTChordy',\n",
       " 'KGKD',\n",
       " 'ZEN sant',\n",
       " 'Fenécios Tips',\n",
       " 'JKG Dude',\n",
       " 'Savz',\n",
       " 'ZEN sant',\n",
       " 'Holstein Cow',\n",
       " 'RED Beta32',\n",
       " 'Robert Tongue',\n",
       " 'Niaeroula',\n",
       " 'ZEN sant',\n",
       " 'Boaventura10',\n",
       " 'bbehind',\n",
       " 'muratar',\n",
       " 'pezthd',\n",
       " 'ZEN sant',\n",
       " 'RIV ixdmmpxr',\n",
       " 'Zac ou Dodge',\n",
       " 'Lorenzx',\n",
       " 'Savz',\n",
       " 'zzmczx',\n",
       " 'ZEN sant',\n",
       " 'ZEN sant',\n",
       " 'Boldenone Blast',\n",
       " 'Gorilla Drift',\n",
       " 'eggs',\n",
       " 'ScoobyDoo061',\n",
       " 'CTL SnaKesKIn',\n",
       " 'VIRILHA',\n",
       " 'Ha te Trollei',\n",
       " 'Mattiuz',\n",
       " 'AHH FOOSH',\n",
       " 'llPrwolf',\n",
       " 'ViniciusTNK',\n",
       " 'jiansda',\n",
       " 'SerGio Do Str',\n",
       " 'SUPORTandoMeuADC',\n",
       " 'Nerflanc',\n",
       " 'Yanguir',\n",
       " 'Björ',\n",
       " 'Söneca',\n",
       " 'MOB Bozo',\n",
       " 'Gorilla Drift',\n",
       " 'eggs',\n",
       " 'Boldenone Blast',\n",
       " 'Pedrotti',\n",
       " 'ZEN sant',\n",
       " 'Fenécios Tips',\n",
       " 'Vitinhodacg',\n",
       " 'PMTChordy',\n",
       " 'KGKD',\n",
       " 'ZEN sant',\n",
       " 'RED Beta32',\n",
       " 'Robert Tongue',\n",
       " 'Niaeroula',\n",
       " 'ZEN sant',\n",
       " 'Boaventura10',\n",
       " 'TwTV Mirato',\n",
       " 'XIAOLONG PUMITA',\n",
       " 'RED Pusher',\n",
       " 'TitaN',\n",
       " 'bountyyspider',\n",
       " 'Omri',\n",
       " 'Minerva',\n",
       " 'moonbeam',\n",
       " 'ZEN sant',\n",
       " 'MT A Crise',\n",
       " 'Lucian\\nRango: 11\\n(BR: 3)\\n8.7 / 6.6 / 8.5',\n",
       " 'Varus\\nRango: 818\\n(BR: 58)\\n7.3 / 6.4 / 8.0',\n",
       " 'Caitlyn\\nRango: 3,856\\n(BR: 365)\\n6.2 / 6.4 / 8.5',\n",
       " 'Ezreal\\nRango: 2,043\\n(BR: 166)\\n6.7 / 6.3 / 8.1',\n",
       " 'Ashe\\nRango: 1,672\\n(BR: 130)\\n3.9 / 6.0 / 12.3',\n",
       " 'Jhin\\nRango: 18,026\\n(BR: 1,132)\\n6.0 / 5.0 / 8.6',\n",
       " 'Sivir\\nRango: 488\\n(BR: 56)\\n5.3 / 5.4 / 7.6',\n",
       " 'Zeri\\nRango: 6,537\\n(BR: 654)\\n6.1 / 4.7 / 5.0',\n",
       " '',\n",
       " '',\n",
       " '',\n",
       " '',\n",
       " '',\n",
       " '',\n",
       " '',\n",
       " '',\n",
       " '',\n",
       " '',\n",
       " '',\n",
       " '',\n",
       " '',\n",
       " '',\n",
       " '',\n",
       " '',\n",
       " '',\n",
       " '',\n",
       " '',\n",
       " '',\n",
       " '',\n",
       " '',\n",
       " '',\n",
       " '',\n",
       " '',\n",
       " '',\n",
       " '',\n",
       " '',\n",
       " '',\n",
       " '',\n",
       " '',\n",
       " '',\n",
       " '',\n",
       " '',\n",
       " '',\n",
       " '',\n",
       " '',\n",
       " '',\n",
       " '',\n",
       " '',\n",
       " '',\n",
       " '',\n",
       " '',\n",
       " '',\n",
       " '',\n",
       " '',\n",
       " '',\n",
       " '',\n",
       " '',\n",
       " '',\n",
       " '',\n",
       " '',\n",
       " '',\n",
       " '',\n",
       " '',\n",
       " '',\n",
       " '',\n",
       " '',\n",
       " '',\n",
       " '',\n",
       " '',\n",
       " '',\n",
       " '',\n",
       " '',\n",
       " '',\n",
       " '',\n",
       " '',\n",
       " '',\n",
       " '',\n",
       " '',\n",
       " '',\n",
       " '',\n",
       " '',\n",
       " '',\n",
       " '',\n",
       " '',\n",
       " '',\n",
       " '',\n",
       " '',\n",
       " '',\n",
       " '',\n",
       " '',\n",
       " '',\n",
       " '',\n",
       " '',\n",
       " '',\n",
       " '',\n",
       " '',\n",
       " '',\n",
       " '',\n",
       " '',\n",
       " '',\n",
       " '',\n",
       " '',\n",
       " '',\n",
       " '',\n",
       " '',\n",
       " '',\n",
       " '',\n",
       " '',\n",
       " '',\n",
       " '',\n",
       " '',\n",
       " '',\n",
       " '',\n",
       " '',\n",
       " '',\n",
       " '',\n",
       " '',\n",
       " '',\n",
       " 'AD Carry',\n",
       " 'Support',\n",
       " 'Top',\n",
       " 'Mid',\n",
       " 'Jungler',\n",
       " '',\n",
       " '',\n",
       " '',\n",
       " '',\n",
       " '',\n",
       " '',\n",
       " '',\n",
       " '',\n",
       " '',\n",
       " '',\n",
       " 'eggs\\nPlatino IV',\n",
       " 'Gorilla Drift\\nPlatino I',\n",
       " 'ScoobyDoo061\\nPlata III',\n",
       " 'Gozada gaucha\\nSin clasificar',\n",
       " 'Boldenone Blast\\nPlata II',\n",
       " 'Tatávio\\nSin clasificar']"
      ]
     },
     "execution_count": 213,
     "metadata": {},
     "output_type": "execute_result"
    }
   ],
   "source": [
    "rol"
   ]
  },
  {
   "cell_type": "code",
   "execution_count": null,
   "id": "e8f2bca7",
   "metadata": {},
   "outputs": [],
   "source": []
  }
 ],
 "metadata": {
  "kernelspec": {
   "display_name": "Python 3 (ipykernel)",
   "language": "python",
   "name": "python3"
  },
  "language_info": {
   "codemirror_mode": {
    "name": "ipython",
    "version": 3
   },
   "file_extension": ".py",
   "mimetype": "text/x-python",
   "name": "python",
   "nbconvert_exporter": "python",
   "pygments_lexer": "ipython3",
   "version": "3.9.13"
  }
 },
 "nbformat": 4,
 "nbformat_minor": 5
}
