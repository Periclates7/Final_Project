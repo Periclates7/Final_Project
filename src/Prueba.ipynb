{
 "cells": [
  {
   "cell_type": "code",
   "execution_count": 1,
   "id": "607d3b64",
   "metadata": {},
   "outputs": [],
   "source": [
    "import numpy as np\n",
    "import pandas as pd\n",
    "import time\n",
    "\n",
    "pd.set_option('display.max_rows', None)\n",
    "pd.set_option('display.max_columns', None)\n",
    "\n",
    "import warnings\n",
    "warnings.filterwarnings('ignore')\n"
   ]
  },
  {
   "cell_type": "code",
   "execution_count": 2,
   "id": "8d038a0e",
   "metadata": {},
   "outputs": [
    {
     "name": "stderr",
     "output_type": "stream",
     "text": [
      "[WDM] - Downloading: 100%|█████████████████| 8.82M/8.82M [00:03<00:00, 3.05MB/s]\n"
     ]
    }
   ],
   "source": [
    "from selenium.webdriver.chrome.options import Options\n",
    "from webdriver_manager.chrome import ChromeDriverManager\n",
    "from selenium import webdriver\n",
    "from selenium.webdriver.common.by import By\n",
    "PATH=ChromeDriverManager().install()\n",
    "\n",
    "import requests\n",
    "from bs4 import BeautifulSoup"
   ]
  },
  {
   "cell_type": "code",
   "execution_count": 5,
   "id": "21272786",
   "metadata": {},
   "outputs": [],
   "source": [
    "url = 'https://www.leagueofgraphs.com/es/rankings/summoners'\n",
    "\n",
    "driver=webdriver.Chrome(PATH)               \n",
    "driver.get(url)"
   ]
  },
  {
   "cell_type": "code",
   "execution_count": 6,
   "id": "94677880",
   "metadata": {},
   "outputs": [],
   "source": [
    "links_invo = [driver.find_elements(By.TAG_NAME, 'a')[i].get_attribute('href') for i in range(len(driver.find_elements(By.TAG_NAME, 'a')))]\n",
    "driver.quit()"
   ]
  },
  {
   "cell_type": "code",
   "execution_count": 7,
   "id": "401994f9",
   "metadata": {},
   "outputs": [],
   "source": [
    "links_1 = links_invo[302:-23]"
   ]
  },
  {
   "cell_type": "code",
   "execution_count": 8,
   "id": "3a15952a",
   "metadata": {},
   "outputs": [
    {
     "data": {
      "text/plain": [
       "'https://www.leagueofgraphs.com/es/summoner/br/scuro'"
      ]
     },
     "execution_count": 8,
     "metadata": {},
     "output_type": "execute_result"
    }
   ],
   "source": [
    "links_1[-1]"
   ]
  },
  {
   "cell_type": "code",
   "execution_count": 13,
   "id": "10c1a7c3",
   "metadata": {},
   "outputs": [
    {
     "data": {
      "text/plain": [
       "'6K OnFleek (NA)'"
      ]
     },
     "execution_count": 13,
     "metadata": {},
     "output_type": "execute_result"
    }
   ],
   "source": [
    "url = 'https://www.leagueofgraphs.com/es/summoner/na/6K+OnFleek'\n",
    "\n",
    "driver=webdriver.Chrome(PATH)               \n",
    "driver.get(url)\n",
    "\n",
    "name_reg= driver.find_element(By.TAG_NAME, 'h2').text\n",
    "driver.quit()\n",
    "\n",
    "name_reg"
   ]
  },
  {
   "cell_type": "code",
   "execution_count": 114,
   "id": "93ea7c23",
   "metadata": {
    "scrolled": false
   },
   "outputs": [
    {
     "data": {
      "text/plain": [
       "('6K OnFleek',\n",
       " 'NA',\n",
       " 'Challenger',\n",
       " 1859,\n",
       " 'Soloqueue',\n",
       " 1,\n",
       " 'Top 0.000010%',\n",
       " 150,\n",
       " 111,\n",
       " 260,\n",
       " 57.7)"
      ]
     },
     "execution_count": 114,
     "metadata": {},
     "output_type": "execute_result"
    }
   ],
   "source": [
    "url = 'https://www.leagueofgraphs.com/es/summoner/na/6K+OnFleek'\n",
    "\n",
    "driver=webdriver.Chrome(PATH)               \n",
    "driver.get(url)\n",
    "\n",
    "name_reg= driver.find_element(By.TAG_NAME, 'h2').text \n",
    "nombre = name_reg.split('(')[0][:-1]\n",
    "region = name_reg.split('(')[1].rstrip(')')\n",
    "\n",
    "liga = driver.find_element(By.CLASS_NAME, 'leagueTier').text\n",
    "liga = liga.split(' ')[0]\n",
    "\n",
    "lp = driver.find_element(By.CLASS_NAME, 'leaguePoints').text\n",
    "lp = int(lp[:-3])\n",
    "\n",
    "cola = driver.find_element(By.CLASS_NAME, 'queue').text\n",
    "rank = int(driver.find_element(By.CLASS_NAME, 'highlight').text)\n",
    "rank_per = driver.find_element(By.CLASS_NAME, 'topRankPercentage').text\n",
    "wins = int(driver.find_element(By.CLASS_NAME, 'winsNumber').text)\n",
    "loses = int(driver.find_element(By.CLASS_NAME, 'lossesNumber').text)\n",
    "n_games = int(driver.find_element(By.ID, 'graphDD2').text)\n",
    "winrate_total = driver.find_element(By.ID, 'graphDD3').text\n",
    "winrate_total = float(winrate_total[:-1])\n",
    "\n",
    "\n",
    "driver.quit()\n",
    "\n",
    "nombre , region, liga, lp, cola, rank, rank_per, wins, loses, n_games, winrate_total"
   ]
  },
  {
   "cell_type": "markdown",
   "id": "a26a8108",
   "metadata": {},
   "source": [
    "**KDA**"
   ]
  },
  {
   "cell_type": "code",
   "execution_count": 105,
   "id": "193fcc7d",
   "metadata": {},
   "outputs": [
    {
     "data": {
      "text/plain": [
       "'6.4'"
      ]
     },
     "execution_count": 105,
     "metadata": {},
     "output_type": "execute_result"
    }
   ],
   "source": [
    "kills_player_kda = kills[-4]\n",
    "kills_player_kda"
   ]
  },
  {
   "cell_type": "code",
   "execution_count": 106,
   "id": "b4b72e4b",
   "metadata": {},
   "outputs": [
    {
     "data": {
      "text/plain": [
       "'4.6'"
      ]
     },
     "execution_count": 106,
     "metadata": {},
     "output_type": "execute_result"
    }
   ],
   "source": [
    "deaths_player_kda = deaths[-4]\n",
    "deaths_player_kda"
   ]
  },
  {
   "cell_type": "code",
   "execution_count": 107,
   "id": "5fe20791",
   "metadata": {},
   "outputs": [
    {
     "data": {
      "text/plain": [
       "'7.4'"
      ]
     },
     "execution_count": 107,
     "metadata": {},
     "output_type": "execute_result"
    }
   ],
   "source": [
    "assists_player_kda = assists[-4]\n",
    "assists_player_kda"
   ]
  },
  {
   "cell_type": "markdown",
   "id": "9859b34d",
   "metadata": {},
   "source": [
    "**NOMBRE CAMPEONES + JUGADOS POR JUGADOR**"
   ]
  },
  {
   "cell_type": "code",
   "execution_count": 26,
   "id": "01bd484b",
   "metadata": {},
   "outputs": [],
   "source": [
    "url = 'https://www.leagueofgraphs.com/es/summoner/na/6K+OnFleek'\n",
    "\n",
    "driver=webdriver.Chrome(PATH)               \n",
    "driver.get(url)\n",
    "\n",
    "champs_name = [driver.find_elements(By.CLASS_NAME, 'name')[i].text for i in range(len(driver.find_elements(By.CLASS_NAME, 'name')))]\n",
    "driver.quit()"
   ]
  },
  {
   "cell_type": "code",
   "execution_count": 44,
   "id": "bc76eee4",
   "metadata": {},
   "outputs": [
    {
     "data": {
      "text/plain": [
       "['Sylas', 'Jax', 'Vi', 'Lee Sin', 'Elise', 'Viego', 'Maokai', 'Kindred']"
      ]
     },
     "execution_count": 44,
     "metadata": {},
     "output_type": "execute_result"
    }
   ],
   "source": [
    "campeones = champs_name[1:9]\n",
    "campeones"
   ]
  },
  {
   "cell_type": "code",
   "execution_count": 43,
   "id": "4227cef0",
   "metadata": {},
   "outputs": [
    {
     "data": {
      "text/plain": [
       "'Kindred'"
      ]
     },
     "execution_count": 43,
     "metadata": {},
     "output_type": "execute_result"
    }
   ],
   "source": [
    "champ_1 = campeones[0]\n",
    "champ_2 = campeones[1]\n",
    "champ_3 = campeones[2]\n",
    "champ_4 = campeones[3]\n",
    "champ_5 = campeones[4]\n",
    "champ_6 = campeones[5]\n",
    "champ_7 = campeones[6]\n",
    "champ_8 = campeones[7]\n",
    "\n",
    "champ_8"
   ]
  },
  {
   "cell_type": "markdown",
   "id": "cb0616b3",
   "metadata": {},
   "source": [
    "**RANK CAMPEONES + JUGADOS POR JUGADOR**"
   ]
  },
  {
   "cell_type": "code",
   "execution_count": 49,
   "id": "631a80c9",
   "metadata": {},
   "outputs": [],
   "source": [
    "driver=webdriver.Chrome(PATH)               \n",
    "driver.get(url)\n",
    "\n",
    "regional_rank = [driver.find_elements(By.CLASS_NAME, 'regionalRank')[i].text for i in range(len(driver.find_elements(By.CLASS_NAME, 'regionalRank')))]\n",
    "driver.quit()"
   ]
  },
  {
   "cell_type": "code",
   "execution_count": 50,
   "id": "4ac7949a",
   "metadata": {},
   "outputs": [
    {
     "data": {
      "text/plain": [
       "['125', '142', '101', '304', '451', '241', '1,819', '908']"
      ]
     },
     "execution_count": 50,
     "metadata": {},
     "output_type": "execute_result"
    }
   ],
   "source": [
    "regional_rank = regional_rank[1:9]\n",
    "regional_rank"
   ]
  },
  {
   "cell_type": "code",
   "execution_count": 51,
   "id": "238f4fd5",
   "metadata": {},
   "outputs": [
    {
     "data": {
      "text/plain": [
       "'908'"
      ]
     },
     "execution_count": 51,
     "metadata": {},
     "output_type": "execute_result"
    }
   ],
   "source": [
    "regional_rank_1 = regional_rank[0]\n",
    "regional_rank_2 = regional_rank[1]\n",
    "regional_rank_3 = regional_rank[2]\n",
    "regional_rank_4 = regional_rank[3]\n",
    "regional_rank_5 = regional_rank[4]\n",
    "regional_rank_6 = regional_rank[5]\n",
    "regional_rank_7 = regional_rank[6]\n",
    "regional_rank_8 = regional_rank[7]\n",
    "regional_rank_8"
   ]
  },
  {
   "cell_type": "markdown",
   "id": "8ecacc21",
   "metadata": {},
   "source": [
    "**KILLS CAMPEONES + JUGADOS POR JUGADOR**"
   ]
  },
  {
   "cell_type": "code",
   "execution_count": 94,
   "id": "1912e81f",
   "metadata": {},
   "outputs": [],
   "source": [
    "url = 'https://www.leagueofgraphs.com/es/summoner/na/6K+OnFleek'\n",
    "\n",
    "driver=webdriver.Chrome(PATH)               \n",
    "driver.get(url)\n",
    "\n",
    "kills = [driver.find_elements(By.CLASS_NAME, 'kills')[i].text for i in range(len(driver.find_elements(By.CLASS_NAME, 'kills')))]\n",
    "driver.quit()\n",
    "\n"
   ]
  },
  {
   "cell_type": "code",
   "execution_count": 95,
   "id": "773fc02f",
   "metadata": {},
   "outputs": [
    {
     "data": {
      "text/plain": [
       "['9.1', '5.5', '6.2', '6.3', '6.9', '6.3', '4.6', '6.3']"
      ]
     },
     "execution_count": 95,
     "metadata": {},
     "output_type": "execute_result"
    }
   ],
   "source": [
    "kills_champs = kills[29:37]\n",
    "kills_champs"
   ]
  },
  {
   "cell_type": "code",
   "execution_count": 96,
   "id": "8973bb1d",
   "metadata": {},
   "outputs": [
    {
     "data": {
      "text/plain": [
       "'6.3'"
      ]
     },
     "execution_count": 96,
     "metadata": {},
     "output_type": "execute_result"
    }
   ],
   "source": [
    "kills_champ_1 = kills_champs[0]\n",
    "kills_champ_2 = kills_champs[1]\n",
    "kills_champ_3 = kills_champs[2]\n",
    "kills_champ_4 = kills_champs[3]\n",
    "kills_champ_5 = kills_champs[4]\n",
    "kills_champ_6 = kills_champs[5]\n",
    "kills_champ_7 = kills_champs[6]\n",
    "kills_champ_8 = kills_champs[7]\n",
    "kills_champ_8"
   ]
  },
  {
   "cell_type": "markdown",
   "id": "cb884ab6",
   "metadata": {},
   "source": [
    "**MUERTES CAMPEONES + JUGADOS POR JUGADOR**"
   ]
  },
  {
   "cell_type": "code",
   "execution_count": 97,
   "id": "d518f3a9",
   "metadata": {},
   "outputs": [],
   "source": [
    "url = 'https://www.leagueofgraphs.com/es/summoner/na/6K+OnFleek'\n",
    "\n",
    "driver=webdriver.Chrome(PATH)               \n",
    "driver.get(url)\n",
    "\n",
    "deaths = [driver.find_elements(By.CLASS_NAME, 'deaths')[i].text for i in range(len(driver.find_elements(By.CLASS_NAME, 'deaths')))]\n",
    "driver.quit()"
   ]
  },
  {
   "cell_type": "code",
   "execution_count": 98,
   "id": "65db81a9",
   "metadata": {
    "scrolled": false
   },
   "outputs": [
    {
     "data": {
      "text/plain": [
       "['4.8', '4.5', '5.1', '4.4', '4.4', '4.7', '4.1', '6.2']"
      ]
     },
     "execution_count": 98,
     "metadata": {},
     "output_type": "execute_result"
    }
   ],
   "source": [
    "deaths_champs = deaths[29:37]\n",
    "deaths_champs"
   ]
  },
  {
   "cell_type": "code",
   "execution_count": 99,
   "id": "fe7c7ea3",
   "metadata": {},
   "outputs": [
    {
     "data": {
      "text/plain": [
       "'6.2'"
      ]
     },
     "execution_count": 99,
     "metadata": {},
     "output_type": "execute_result"
    }
   ],
   "source": [
    "deaths_champ_1 = deaths_champs[0]\n",
    "deaths_champ_2 = deaths_champs[1]\n",
    "deaths_champ_3 = deaths_champs[2]\n",
    "deaths_champ_4 = deaths_champs[3]\n",
    "deaths_champ_5 = deaths_champs[4]\n",
    "deaths_champ_6 = deaths_champs[5]\n",
    "deaths_champ_7 = deaths_champs[6]\n",
    "deaths_champ_8 = deaths_champs[7]\n",
    "deaths_champ_8"
   ]
  },
  {
   "cell_type": "markdown",
   "id": "b1d03d48",
   "metadata": {},
   "source": [
    "**ASSISTS CAMPEONES + JUGADOS POR JUGADOR**"
   ]
  },
  {
   "cell_type": "code",
   "execution_count": 100,
   "id": "dc8868b1",
   "metadata": {},
   "outputs": [],
   "source": [
    "url = 'https://www.leagueofgraphs.com/es/summoner/na/6K+OnFleek'\n",
    "\n",
    "driver=webdriver.Chrome(PATH)               \n",
    "driver.get(url)\n",
    "\n",
    "assists = [driver.find_elements(By.CLASS_NAME, 'assists')[i].text for i in range(len(driver.find_elements(By.CLASS_NAME, 'assists')))]\n",
    "driver.quit()\n"
   ]
  },
  {
   "cell_type": "code",
   "execution_count": 101,
   "id": "09fe8e01",
   "metadata": {},
   "outputs": [
    {
     "data": {
      "text/plain": [
       "['6.5', '3.2', '8.9', '7.6', '8.9', '7.4', '9.9', '8.6']"
      ]
     },
     "execution_count": 101,
     "metadata": {},
     "output_type": "execute_result"
    }
   ],
   "source": [
    "assists_champs = assists[29:37]\n",
    "assists_champs"
   ]
  },
  {
   "cell_type": "code",
   "execution_count": 102,
   "id": "2ae82dc8",
   "metadata": {
    "scrolled": true
   },
   "outputs": [
    {
     "data": {
      "text/plain": [
       "'8.6'"
      ]
     },
     "execution_count": 102,
     "metadata": {},
     "output_type": "execute_result"
    }
   ],
   "source": [
    "assists_champ_1 = assists_champs[0]\n",
    "assists_champ_2 = assists_champs[1]\n",
    "assists_champ_3 = assists_champs[2]\n",
    "assists_champ_4 = assists_champs[3]\n",
    "assists_champ_5 = assists_champs[4]\n",
    "assists_champ_6 = assists_champs[5]\n",
    "assists_champ_7 = assists_champs[6]\n",
    "assists_champ_8 = assists_champs[7]\n",
    "assists_champ_8"
   ]
  },
  {
   "cell_type": "markdown",
   "id": "59e270d6",
   "metadata": {},
   "source": [
    "**PARTIDAS POR CAMPEÓN**"
   ]
  },
  {
   "cell_type": "code",
   "execution_count": 67,
   "id": "cde2252a",
   "metadata": {},
   "outputs": [],
   "source": [
    "driver=webdriver.Chrome(PATH)               \n",
    "driver.get(url)\n",
    "\n",
    "progress_bar = [driver.find_elements(By.CLASS_NAME, 'progressBarTxt')[i].text for i in range(len(driver.find_elements(By.CLASS_NAME, 'progressBarTxt')))]\n",
    "driver.quit()"
   ]
  },
  {
   "cell_type": "code",
   "execution_count": 71,
   "id": "0959a0c5",
   "metadata": {},
   "outputs": [],
   "source": [
    "games_per_champ = progress_bar[:16:2]"
   ]
  },
  {
   "cell_type": "code",
   "execution_count": 73,
   "id": "f7b858ae",
   "metadata": {},
   "outputs": [
    {
     "data": {
      "text/plain": [
       "['44', '32', '30', '24', '16', '16', '16', '13']"
      ]
     },
     "execution_count": 73,
     "metadata": {},
     "output_type": "execute_result"
    }
   ],
   "source": [
    "games_per_champ"
   ]
  },
  {
   "cell_type": "code",
   "execution_count": 72,
   "id": "bc599dc3",
   "metadata": {},
   "outputs": [
    {
     "data": {
      "text/plain": [
       "'13'"
      ]
     },
     "execution_count": 72,
     "metadata": {},
     "output_type": "execute_result"
    }
   ],
   "source": [
    "games_champ_1 = games_per_champ[0]\n",
    "games_champ_2 = games_per_champ[1]\n",
    "games_champ_3 = games_per_champ[2]\n",
    "games_champ_4 = games_per_champ[3]\n",
    "games_champ_5 = games_per_champ[4]\n",
    "games_champ_6 = games_per_champ[5]\n",
    "games_champ_7 = games_per_champ[6]\n",
    "games_champ_8 = games_per_champ[7]\n",
    "games_champ_8"
   ]
  },
  {
   "cell_type": "markdown",
   "id": "d9254150",
   "metadata": {},
   "source": [
    "**WINRATE POR CAMPEON**"
   ]
  },
  {
   "cell_type": "code",
   "execution_count": 74,
   "id": "83576316",
   "metadata": {},
   "outputs": [
    {
     "data": {
      "text/plain": [
       "['50.0%', '65.6%', '63.3%', '58.3%', '68.8%', '68.8%', '56.3%', '53.8%']"
      ]
     },
     "execution_count": 74,
     "metadata": {},
     "output_type": "execute_result"
    }
   ],
   "source": [
    "winrate_per_champ = progress_bar[1:16:2]\n",
    "winrate_per_champ"
   ]
  },
  {
   "cell_type": "code",
   "execution_count": 79,
   "id": "c6308306",
   "metadata": {},
   "outputs": [
    {
     "data": {
      "text/plain": [
       "'53.8%'"
      ]
     },
     "execution_count": 79,
     "metadata": {},
     "output_type": "execute_result"
    }
   ],
   "source": [
    "winrate_champ_1 = winrate_per_champ[0]\n",
    "winrate_champ_2 = winrate_per_champ[1]\n",
    "winrate_champ_3 = winrate_per_champ[2]\n",
    "winrate_champ_4 = winrate_per_champ[3]\n",
    "winrate_champ_5 = winrate_per_champ[4]\n",
    "winrate_champ_6 = winrate_per_champ[5]\n",
    "winrate_champ_7 = winrate_per_champ[6]\n",
    "winrate_champ_8 = winrate_per_champ[7]\n",
    "winrate_champ_8"
   ]
  },
  {
   "cell_type": "code",
   "execution_count": 80,
   "id": "4d365e29",
   "metadata": {},
   "outputs": [
    {
     "data": {
      "text/plain": [
       "'53.8'"
      ]
     },
     "execution_count": 80,
     "metadata": {},
     "output_type": "execute_result"
    }
   ],
   "source": [
    "winrate_champ_1 = winrate_champ_1[:-1]\n",
    "winrate_champ_2 = winrate_champ_2[:-1]\n",
    "winrate_champ_3 = winrate_champ_3[:-1]\n",
    "winrate_champ_4 = winrate_champ_4[:-1]\n",
    "winrate_champ_5 = winrate_champ_5[:-1]\n",
    "winrate_champ_6 = winrate_champ_6[:-1]\n",
    "winrate_champ_7 = winrate_champ_7[:-1]\n",
    "winrate_champ_8 = winrate_champ_8[:-1]\n",
    "winrate_champ_8"
   ]
  },
  {
   "cell_type": "markdown",
   "id": "3997ca74",
   "metadata": {},
   "source": [
    "**ESTADISTICAS POR ROL**"
   ]
  },
  {
   "cell_type": "code",
   "execution_count": 82,
   "id": "de481ecf",
   "metadata": {},
   "outputs": [
    {
     "data": {
      "text/plain": [
       "['199', '58.3%', '56', '58.9%', '5', '20.0%']"
      ]
     },
     "execution_count": 82,
     "metadata": {},
     "output_type": "execute_result"
    }
   ],
   "source": [
    "progress_bar[-6::]"
   ]
  },
  {
   "cell_type": "code",
   "execution_count": 85,
   "id": "4d67e8bb",
   "metadata": {},
   "outputs": [
    {
     "data": {
      "text/plain": [
       "['Jungler', 'Top', 'Mid']"
      ]
     },
     "execution_count": 85,
     "metadata": {},
     "output_type": "execute_result"
    }
   ],
   "source": [
    "champs_name[-9:-6]"
   ]
  },
  {
   "cell_type": "code",
   "execution_count": 91,
   "id": "f54f2971",
   "metadata": {},
   "outputs": [
    {
     "data": {
      "text/plain": [
       "['Jungler', 'Top', 'Mid']"
      ]
     },
     "execution_count": 91,
     "metadata": {},
     "output_type": "execute_result"
    }
   ],
   "source": [
    "roles = champs_name[-9:-6]\n",
    "roles"
   ]
  },
  {
   "cell_type": "code",
   "execution_count": 92,
   "id": "e8b80b4f",
   "metadata": {},
   "outputs": [
    {
     "data": {
      "text/plain": [
       "'Mid'"
      ]
     },
     "execution_count": 92,
     "metadata": {},
     "output_type": "execute_result"
    }
   ],
   "source": [
    "rol_1 = roles[0]\n",
    "rol_2 = roles[1]\n",
    "rol_3 = roles[2]\n",
    "rol_3"
   ]
  },
  {
   "cell_type": "code",
   "execution_count": 86,
   "id": "888ba60e",
   "metadata": {},
   "outputs": [
    {
     "data": {
      "text/plain": [
       "['199', '56', '5']"
      ]
     },
     "execution_count": 86,
     "metadata": {},
     "output_type": "execute_result"
    }
   ],
   "source": [
    "games_per_rol = progress_bar[-6::2]\n",
    "games_per_rol"
   ]
  },
  {
   "cell_type": "code",
   "execution_count": 87,
   "id": "b558ebfd",
   "metadata": {},
   "outputs": [
    {
     "data": {
      "text/plain": [
       "'5'"
      ]
     },
     "execution_count": 87,
     "metadata": {},
     "output_type": "execute_result"
    }
   ],
   "source": [
    "games_per_rol_1 = games_per_rol[0]\n",
    "games_per_rol_2 = games_per_rol[1]\n",
    "games_per_rol_3 = games_per_rol[2]\n",
    "games_per_rol_3"
   ]
  },
  {
   "cell_type": "code",
   "execution_count": 88,
   "id": "b95c6f60",
   "metadata": {},
   "outputs": [
    {
     "data": {
      "text/plain": [
       "['58.3%', '58.9%', '20.0%']"
      ]
     },
     "execution_count": 88,
     "metadata": {},
     "output_type": "execute_result"
    }
   ],
   "source": [
    "winrate_per_rol = progress_bar[-5::2]\n",
    "winrate_per_rol"
   ]
  },
  {
   "cell_type": "code",
   "execution_count": 89,
   "id": "27ba49bb",
   "metadata": {},
   "outputs": [
    {
     "data": {
      "text/plain": [
       "'20.0%'"
      ]
     },
     "execution_count": 89,
     "metadata": {},
     "output_type": "execute_result"
    }
   ],
   "source": [
    "winrate_per_rol_1 = winrate_per_rol[0]\n",
    "winrate_per_rol_2 = winrate_per_rol[1]\n",
    "winrate_per_rol_3 = winrate_per_rol[2]\n",
    "winrate_per_rol_3"
   ]
  },
  {
   "cell_type": "code",
   "execution_count": 90,
   "id": "b5af5774",
   "metadata": {},
   "outputs": [
    {
     "data": {
      "text/plain": [
       "'20.0'"
      ]
     },
     "execution_count": 90,
     "metadata": {},
     "output_type": "execute_result"
    }
   ],
   "source": [
    "winrate_per_rol_1 = winrate_per_rol_1[:-1]\n",
    "winrate_per_rol_2 = winrate_per_rol_2[:-1]\n",
    "winrate_per_rol_3 = winrate_per_rol_3[:-1]\n",
    "winrate_per_rol_3"
   ]
  },
  {
   "cell_type": "code",
   "execution_count": 122,
   "id": "ccbb28ef",
   "metadata": {},
   "outputs": [],
   "source": [
    "data = scrapeo('https://www.leagueofgraphs.com/es/summoner/na/6K+OnFleek')"
   ]
  },
  {
   "cell_type": "code",
   "execution_count": 124,
   "id": "cc5a3c81",
   "metadata": {},
   "outputs": [
    {
     "data": {
      "text/plain": [
       "{'nombre_invocador': '6K OnFleek',\n",
       " 'region': 'NA',\n",
       " 'liga': 'Challenger',\n",
       " 'lps': 1859,\n",
       " 'cola': 'Soloqueue',\n",
       " 'ranking_mundial': '1',\n",
       " 'ranking_porcentaje': 'Top 0.000010%',\n",
       " 'wins': 150,\n",
       " 'loses': 111,\n",
       " 'n_games': 260,\n",
       " 'winrate_total': 57.7,\n",
       " 'kills_player_kda': 6.4,\n",
       " 'deaths_player_kda': 4.6,\n",
       " 'assists_player_kda': 7.4,\n",
       " 'rol_1': 'Jungler',\n",
       " 'games_per_rol_1': 199,\n",
       " 'winrate_per_rol_1': 58.3,\n",
       " 'rol_2': 'Top',\n",
       " 'games_per_rol_2': 56,\n",
       " 'winrate_per_rol_2': 58.9,\n",
       " 'rol_3': 'Mid',\n",
       " 'games_per_rol_3': 5,\n",
       " 'winrate_per_rol_3': 20.0,\n",
       " 'champ_1': 'Sylas',\n",
       " 'regional_rank_1': '(NA: 1)',\n",
       " 'kills_champ_1': 9.1,\n",
       " 'deaths_champ_1': 4.8,\n",
       " 'assists_champ_1': 57.7,\n",
       " 'games_champ_1': 44,\n",
       " 'winrate_champ_1': 50.0,\n",
       " 'champ_2': 'Jax',\n",
       " 'regional_rank_2': '125',\n",
       " 'kills_champ_2': 5.5,\n",
       " 'deaths_champ_2': 4.5,\n",
       " 'assists_champ_2': 3.2,\n",
       " 'games_champ_2': 32,\n",
       " 'winrate_champ_2': 65.6,\n",
       " 'champ_3': 'Vi',\n",
       " 'regional_rank_3': '142',\n",
       " 'kills_champ_3': 6.2,\n",
       " 'deaths_champ_3': 5.1,\n",
       " 'assists_champ_3': 8.9,\n",
       " 'games_champ_3': 30,\n",
       " 'winrate_champ_3': 63.3,\n",
       " 'champ_4': 'Lee Sin',\n",
       " 'regional_rank_4': '100',\n",
       " 'kills_champ_4': 6.3,\n",
       " 'deaths_champ_4': 4.4,\n",
       " 'assists_champ_4': 7.6,\n",
       " 'games_champ_4': 24,\n",
       " 'winrate_champ_4': 58.3,\n",
       " 'champ_5': 'Elise',\n",
       " 'regional_rank_5': '304',\n",
       " 'kills_champ_5': 6.9,\n",
       " 'deaths_champ_5': 4.4,\n",
       " 'assists_champ_5': 8.9,\n",
       " 'games_champ_5': 16,\n",
       " 'winrate_champ_5': 68.8,\n",
       " 'champ_6': 'Viego',\n",
       " 'regional_rank_6': '452',\n",
       " 'kills_champ_6': 6.3,\n",
       " 'deaths_champ_6': 4.7,\n",
       " 'assists_champ_6': 7.4,\n",
       " 'games_champ_6': 16,\n",
       " 'winrate_champ_6': 68.8,\n",
       " 'champ_7': 'Maokai',\n",
       " 'regional_rank_7': '241',\n",
       " 'kills_champ_7': 4.6,\n",
       " 'deaths_champ_7': 4.1,\n",
       " 'assists_champ_7': 9.9,\n",
       " 'games_champ_7': 16,\n",
       " 'winrate_champ_7': 56.3,\n",
       " 'champ_8': 'Kindred',\n",
       " 'regional_rank_8': '1,821',\n",
       " 'kills_champ_8': 6.3,\n",
       " 'deaths_champ_8': 6.2,\n",
       " 'assists_champ_8': 8.6,\n",
       " 'games_champ_8': 13,\n",
       " 'winrate_champ_8': 53.8}"
      ]
     },
     "execution_count": 124,
     "metadata": {},
     "output_type": "execute_result"
    }
   ],
   "source": [
    "data"
   ]
  },
  {
   "cell_type": "code",
   "execution_count": 251,
   "id": "1dcc4427",
   "metadata": {},
   "outputs": [],
   "source": [
    "import multiprocessing as mp\n",
    "from multiprocessing import get_context\n",
    "from funciones import *                      # Documento .py externo donde almaceno las funciones para poder hacer el map\n",
    "                                           # RUTA: ETL-Project/src/funcion.py\n",
    "pool = mp.Pool(mp.cpu_count())"
   ]
  },
  {
   "cell_type": "code",
   "execution_count": 252,
   "id": "489be362",
   "metadata": {},
   "outputs": [
    {
     "ename": "MaxRetryError",
     "evalue": "None: Max retries exceeded with url: /session/2c8afa70c9f61de21e9dea1d5c8acabf/elements (Caused by None)",
     "output_type": "error",
     "traceback": [
      "\u001b[0;31m---------------------------------------------------------------------------\u001b[0m",
      "\u001b[0;31mRemoteTraceback\u001b[0m                           Traceback (most recent call last)",
      "\u001b[0;31mRemoteTraceback\u001b[0m: \n\"\"\"\nTraceback (most recent call last):\n  File \"/Users/Pedro/opt/anaconda3/lib/python3.9/site-packages/urllib3/connection.py\", line 174, in _new_conn\n    conn = connection.create_connection(\n  File \"/Users/Pedro/opt/anaconda3/lib/python3.9/site-packages/urllib3/util/connection.py\", line 95, in create_connection\n    raise err\n  File \"/Users/Pedro/opt/anaconda3/lib/python3.9/site-packages/urllib3/util/connection.py\", line 85, in create_connection\n    sock.connect(sa)\nConnectionRefusedError: [Errno 61] Connection refused\n\nDuring handling of the above exception, another exception occurred:\n\nTraceback (most recent call last):\n  File \"/Users/Pedro/opt/anaconda3/lib/python3.9/site-packages/urllib3/connectionpool.py\", line 703, in urlopen\n    httplib_response = self._make_request(\n  File \"/Users/Pedro/opt/anaconda3/lib/python3.9/site-packages/urllib3/connectionpool.py\", line 398, in _make_request\n    conn.request(method, url, **httplib_request_kw)\n  File \"/Users/Pedro/opt/anaconda3/lib/python3.9/site-packages/urllib3/connection.py\", line 239, in request\n    super(HTTPConnection, self).request(method, url, body=body, headers=headers)\n  File \"/Users/Pedro/opt/anaconda3/lib/python3.9/http/client.py\", line 1285, in request\n    self._send_request(method, url, body, headers, encode_chunked)\n  File \"/Users/Pedro/opt/anaconda3/lib/python3.9/http/client.py\", line 1331, in _send_request\n    self.endheaders(body, encode_chunked=encode_chunked)\n  File \"/Users/Pedro/opt/anaconda3/lib/python3.9/http/client.py\", line 1280, in endheaders\n    self._send_output(message_body, encode_chunked=encode_chunked)\n  File \"/Users/Pedro/opt/anaconda3/lib/python3.9/http/client.py\", line 1040, in _send_output\n    self.send(msg)\n  File \"/Users/Pedro/opt/anaconda3/lib/python3.9/http/client.py\", line 980, in send\n    self.connect()\n  File \"/Users/Pedro/opt/anaconda3/lib/python3.9/site-packages/urllib3/connection.py\", line 205, in connect\n    conn = self._new_conn()\n  File \"/Users/Pedro/opt/anaconda3/lib/python3.9/site-packages/urllib3/connection.py\", line 186, in _new_conn\n    raise NewConnectionError(\nurllib3.exceptions.NewConnectionError: <urllib3.connection.HTTPConnection object at 0x7f8ac9a05370>: Failed to establish a new connection: [Errno 61] Connection refused\n\nDuring handling of the above exception, another exception occurred:\n\nTraceback (most recent call last):\n  File \"/Users/Pedro/opt/anaconda3/lib/python3.9/multiprocessing/pool.py\", line 125, in worker\n    result = (True, func(*args, **kwds))\n  File \"/Users/Pedro/opt/anaconda3/lib/python3.9/multiprocessing/pool.py\", line 48, in mapstar\n    return list(map(*args))\n  File \"/Users/Pedro/Desktop/ironhack/proyectos/Final_Project/src/funciones.py\", line 209, in scrapeo\n    kda_player = [driver.find_elements(By.CLASS_NAME, 'number')[i].text for i in range(len(driver.find_elements(By.CLASS_NAME, 'number')))]\n  File \"/Users/Pedro/opt/anaconda3/lib/python3.9/site-packages/selenium/webdriver/remote/webdriver.py\", line 860, in find_elements\n    return self.execute(Command.FIND_ELEMENTS, {\"using\": by, \"value\": value})[\"value\"] or []\n  File \"/Users/Pedro/opt/anaconda3/lib/python3.9/site-packages/selenium/webdriver/remote/webdriver.py\", line 438, in execute\n    response = self.command_executor.execute(driver_command, params)\n  File \"/Users/Pedro/opt/anaconda3/lib/python3.9/site-packages/selenium/webdriver/remote/remote_connection.py\", line 290, in execute\n    return self._request(command_info[0], url, body=data)\n  File \"/Users/Pedro/opt/anaconda3/lib/python3.9/site-packages/selenium/webdriver/remote/remote_connection.py\", line 311, in _request\n    response = self._conn.request(method, url, body=body, headers=headers)\n  File \"/Users/Pedro/opt/anaconda3/lib/python3.9/site-packages/urllib3/request.py\", line 78, in request\n    return self.request_encode_body(\n  File \"/Users/Pedro/opt/anaconda3/lib/python3.9/site-packages/urllib3/request.py\", line 170, in request_encode_body\n    return self.urlopen(method, url, **extra_kw)\n  File \"/Users/Pedro/opt/anaconda3/lib/python3.9/site-packages/urllib3/poolmanager.py\", line 376, in urlopen\n    response = conn.urlopen(method, u.request_uri, **kw)\n  File \"/Users/Pedro/opt/anaconda3/lib/python3.9/site-packages/urllib3/connectionpool.py\", line 815, in urlopen\n    return self.urlopen(\n  File \"/Users/Pedro/opt/anaconda3/lib/python3.9/site-packages/urllib3/connectionpool.py\", line 815, in urlopen\n    return self.urlopen(\n  File \"/Users/Pedro/opt/anaconda3/lib/python3.9/site-packages/urllib3/connectionpool.py\", line 815, in urlopen\n    return self.urlopen(\n  File \"/Users/Pedro/opt/anaconda3/lib/python3.9/site-packages/urllib3/connectionpool.py\", line 787, in urlopen\n    retries = retries.increment(\n  File \"/Users/Pedro/opt/anaconda3/lib/python3.9/site-packages/urllib3/util/retry.py\", line 592, in increment\n    raise MaxRetryError(_pool, url, error or ResponseError(cause))\nurllib3.exceptions.MaxRetryError: HTTPConnectionPool(host='localhost', port=64298): Max retries exceeded with url: /session/2c8afa70c9f61de21e9dea1d5c8acabf/elements (Caused by NewConnectionError('<urllib3.connection.HTTPConnection object at 0x7f8ac9a05370>: Failed to establish a new connection: [Errno 61] Connection refused'))\n\"\"\"",
      "\nThe above exception was the direct cause of the following exception:\n",
      "\u001b[0;31mMaxRetryError\u001b[0m                             Traceback (most recent call last)",
      "\u001b[0;32m/var/folders/_n/g7dsgr5d6hs1plzfmyy449980000gn/T/ipykernel_35004/977753410.py\u001b[0m in \u001b[0;36m<module>\u001b[0;34m\u001b[0m\n\u001b[0;32m----> 1\u001b[0;31m \u001b[0mdata\u001b[0m \u001b[0;34m=\u001b[0m \u001b[0mpool\u001b[0m\u001b[0;34m.\u001b[0m\u001b[0mmap\u001b[0m\u001b[0;34m(\u001b[0m\u001b[0mscrapeo\u001b[0m\u001b[0;34m,\u001b[0m \u001b[0mlinks_1\u001b[0m\u001b[0;34m[\u001b[0m\u001b[0;34m:\u001b[0m\u001b[0;36m5\u001b[0m\u001b[0;34m]\u001b[0m\u001b[0;34m)\u001b[0m\u001b[0;34m\u001b[0m\u001b[0;34m\u001b[0m\u001b[0m\n\u001b[0m",
      "\u001b[0;32m~/opt/anaconda3/lib/python3.9/multiprocessing/pool.py\u001b[0m in \u001b[0;36mmap\u001b[0;34m(self, func, iterable, chunksize)\u001b[0m\n\u001b[1;32m    362\u001b[0m         \u001b[0;32min\u001b[0m \u001b[0ma\u001b[0m \u001b[0mlist\u001b[0m \u001b[0mthat\u001b[0m \u001b[0;32mis\u001b[0m \u001b[0mreturned\u001b[0m\u001b[0;34m.\u001b[0m\u001b[0;34m\u001b[0m\u001b[0;34m\u001b[0m\u001b[0m\n\u001b[1;32m    363\u001b[0m         '''\n\u001b[0;32m--> 364\u001b[0;31m         \u001b[0;32mreturn\u001b[0m \u001b[0mself\u001b[0m\u001b[0;34m.\u001b[0m\u001b[0m_map_async\u001b[0m\u001b[0;34m(\u001b[0m\u001b[0mfunc\u001b[0m\u001b[0;34m,\u001b[0m \u001b[0miterable\u001b[0m\u001b[0;34m,\u001b[0m \u001b[0mmapstar\u001b[0m\u001b[0;34m,\u001b[0m \u001b[0mchunksize\u001b[0m\u001b[0;34m)\u001b[0m\u001b[0;34m.\u001b[0m\u001b[0mget\u001b[0m\u001b[0;34m(\u001b[0m\u001b[0;34m)\u001b[0m\u001b[0;34m\u001b[0m\u001b[0;34m\u001b[0m\u001b[0m\n\u001b[0m\u001b[1;32m    365\u001b[0m \u001b[0;34m\u001b[0m\u001b[0m\n\u001b[1;32m    366\u001b[0m     \u001b[0;32mdef\u001b[0m \u001b[0mstarmap\u001b[0m\u001b[0;34m(\u001b[0m\u001b[0mself\u001b[0m\u001b[0;34m,\u001b[0m \u001b[0mfunc\u001b[0m\u001b[0;34m,\u001b[0m \u001b[0miterable\u001b[0m\u001b[0;34m,\u001b[0m \u001b[0mchunksize\u001b[0m\u001b[0;34m=\u001b[0m\u001b[0;32mNone\u001b[0m\u001b[0;34m)\u001b[0m\u001b[0;34m:\u001b[0m\u001b[0;34m\u001b[0m\u001b[0;34m\u001b[0m\u001b[0m\n",
      "\u001b[0;32m~/opt/anaconda3/lib/python3.9/multiprocessing/pool.py\u001b[0m in \u001b[0;36mget\u001b[0;34m(self, timeout)\u001b[0m\n\u001b[1;32m    769\u001b[0m             \u001b[0;32mreturn\u001b[0m \u001b[0mself\u001b[0m\u001b[0;34m.\u001b[0m\u001b[0m_value\u001b[0m\u001b[0;34m\u001b[0m\u001b[0;34m\u001b[0m\u001b[0m\n\u001b[1;32m    770\u001b[0m         \u001b[0;32melse\u001b[0m\u001b[0;34m:\u001b[0m\u001b[0;34m\u001b[0m\u001b[0;34m\u001b[0m\u001b[0m\n\u001b[0;32m--> 771\u001b[0;31m             \u001b[0;32mraise\u001b[0m \u001b[0mself\u001b[0m\u001b[0;34m.\u001b[0m\u001b[0m_value\u001b[0m\u001b[0;34m\u001b[0m\u001b[0;34m\u001b[0m\u001b[0m\n\u001b[0m\u001b[1;32m    772\u001b[0m \u001b[0;34m\u001b[0m\u001b[0m\n\u001b[1;32m    773\u001b[0m     \u001b[0;32mdef\u001b[0m \u001b[0m_set\u001b[0m\u001b[0;34m(\u001b[0m\u001b[0mself\u001b[0m\u001b[0;34m,\u001b[0m \u001b[0mi\u001b[0m\u001b[0;34m,\u001b[0m \u001b[0mobj\u001b[0m\u001b[0;34m)\u001b[0m\u001b[0;34m:\u001b[0m\u001b[0;34m\u001b[0m\u001b[0;34m\u001b[0m\u001b[0m\n",
      "\u001b[0;31mMaxRetryError\u001b[0m: None: Max retries exceeded with url: /session/2c8afa70c9f61de21e9dea1d5c8acabf/elements (Caused by None)"
     ]
    }
   ],
   "source": [
    "data = pool.map(scrapeo, links_1[:5])"
   ]
  },
  {
   "cell_type": "code",
   "execution_count": null,
   "id": "fea2cd1c",
   "metadata": {},
   "outputs": [],
   "source": [
    "df = pd.DataFrame(data)"
   ]
  },
  {
   "cell_type": "code",
   "execution_count": null,
   "id": "b245c527",
   "metadata": {},
   "outputs": [],
   "source": [
    "df.head()"
   ]
  },
  {
   "cell_type": "code",
   "execution_count": 175,
   "id": "b1d348c9",
   "metadata": {},
   "outputs": [],
   "source": [
    "url = links_1[3]\n",
    "\n",
    "driver=webdriver.Chrome(PATH)               \n",
    "driver.get(url)\n",
    "\n",
    "kda_4 = [driver.find_elements(By.CLASS_NAME, 'kda')[i].text for i in range(len(driver.find_elements(By.CLASS_NAME, 'kda')))]\n",
    "driver.quit()"
   ]
  },
  {
   "cell_type": "code",
   "execution_count": 187,
   "id": "b158968b",
   "metadata": {},
   "outputs": [
    {
     "name": "stdout",
     "output_type": "stream",
     "text": [
      "['8.7 / 6.6 / 8.5', '7.3 / 6.4 / 8.0', '6.2 / 6.4 / 8.5', '6.7 / 6.3 / 8.1', '3.9 / 6.0 / 12.3', '6.0 / 5.0 / 8.6', '5.3 / 5.4 / 7.6', '6.1 / 4.7 / 5.0']\n"
     ]
    }
   ],
   "source": [
    "count = 0\n",
    "i = len(kda_4) - 1\n",
    "while count < 8 and i >= 0:\n",
    "    if kda_4[i] != '':\n",
    "        count += 1\n",
    "    i -= 1\n",
    "\n",
    "if count == 8:\n",
    "    result = kda_4[i+1:]\n",
    "    result = result[:8]\n",
    "    print(result)\n",
    "else:\n",
    "    print(\"No se encontraron suficientes valores distintos de ''\")"
   ]
  },
  {
   "cell_type": "code",
   "execution_count": 190,
   "id": "cf7d55d2",
   "metadata": {},
   "outputs": [
    {
     "data": {
      "text/plain": [
       "[['8.7', '6.6', '8.5'],\n",
       " ['7.3', '6.4', '8.0'],\n",
       " ['6.2', '6.4', '8.5'],\n",
       " ['6.7', '6.3', '8.1'],\n",
       " ['3.9', '6.0', '12.3'],\n",
       " ['6.0', '5.0', '8.6'],\n",
       " ['5.3', '5.4', '7.6'],\n",
       " ['6.1', '4.7', '5.0']]"
      ]
     },
     "execution_count": 190,
     "metadata": {},
     "output_type": "execute_result"
    }
   ],
   "source": [
    "prueba = [e.split(' / ') for e in result]\n",
    "prueba"
   ]
  },
  {
   "cell_type": "code",
   "execution_count": 191,
   "id": "036ee540",
   "metadata": {},
   "outputs": [
    {
     "data": {
      "text/plain": [
       "'6.6'"
      ]
     },
     "execution_count": 191,
     "metadata": {},
     "output_type": "execute_result"
    }
   ],
   "source": [
    "prueba[0][1]"
   ]
  },
  {
   "cell_type": "code",
   "execution_count": 10,
   "id": "8c4e63f0",
   "metadata": {},
   "outputs": [],
   "source": [
    "def scrapeo(url):\n",
    "    \n",
    "    driver=webdriver.Chrome(PATH)               \n",
    "    driver.get(url)\n",
    "    \n",
    "    \n",
    "    name_reg= driver.find_element(By.TAG_NAME, 'h2').text                        # Nombre de invocador\n",
    "    nombre = name_reg.split('(')[0][:-1]\n",
    "    region = name_reg.split('(')[1].rstrip(')')                                  # Región en la que juega el jugador\n",
    "\n",
    "    liga = driver.find_element(By.CLASS_NAME, 'leagueTier').text\n",
    "    liga = liga.split(' ')[0]                                                    # Liga (Challenger, GrandMaster, Master ...)\n",
    "\n",
    "    lp = driver.find_element(By.CLASS_NAME, 'leaguePoints').text\n",
    "    lp = lp[:-3]                                                                 # LPs\n",
    "\n",
    "    cola = driver.find_element(By.CLASS_NAME, 'queue').text                      # Modalidad de juego\n",
    "    rank = driver.find_element(By.CLASS_NAME, 'highlight').text                  # Rank mundial \n",
    "    rank_per = driver.find_element(By.CLASS_NAME, 'topRankPercentage').text      # Rank del jugador en porcentaje\n",
    "    wins = driver.find_element(By.CLASS_NAME, 'winsNumber').text                 # Nº de victorias\n",
    "    loses = driver.find_element(By.CLASS_NAME, 'lossesNumber').text              # Nº de derrotas\n",
    "                            \n",
    "    '''\n",
    "    winrate_total = driver.find_element(By.ID, 'graphDD3').text                  # Winrate total del jugador\n",
    "    \n",
    "    if '%' in winrate_total:\n",
    "        winrate_total = driver.find_element(By.ID, 'graphDD3').text[:-1]         # Nº de partidas en la Season\n",
    "        n_games = driver.find_element(By.ID, 'graphDD2').text\n",
    "    else:\n",
    "        n_games = driver.find_element(By.ID, 'graphDD3').text\n",
    "        winrate_total = driver.find_element(By.ID, 'graphDD4').text[:-1]                                                                     \n",
    "    '''\n",
    "    \n",
    "    champs_name = [driver.find_elements(By.CLASS_NAME, 'name')[i].text for i in range(len(driver.find_elements(By.CLASS_NAME,       'name')))]\n",
    "    \n",
    "    # Nombre de los campeones más jugados por el jugador\n",
    "    \n",
    "    campeones = champs_name[1:9]\n",
    "    \n",
    "    champ_1 = campeones[0]\n",
    "    champ_2 = campeones[1]\n",
    "    champ_3 = campeones[2]\n",
    "    champ_4 = campeones[3]\n",
    "    champ_5 = campeones[4]\n",
    "    champ_6 = campeones[5]\n",
    "    champ_7 = campeones[6]\n",
    "    champ_8 = campeones[7]\n",
    "    \n",
    "    regional_rank = [driver.find_elements(By.CLASS_NAME, 'regionalRank')[i].text for i in             range(len(driver.find_elements(By.CLASS_NAME, 'regionalRank')))]\n",
    "    \n",
    "    # Rank por regiones de los campeones más jugados por el jugador\n",
    "    \n",
    "    regional_rank_1 = regional_rank[0]\n",
    "    regional_rank_2 = regional_rank[1]\n",
    "    regional_rank_3 = regional_rank[2]\n",
    "    regional_rank_4 = regional_rank[3]\n",
    "    regional_rank_5 = regional_rank[4]\n",
    "    regional_rank_6 = regional_rank[5]\n",
    "    regional_rank_7 = regional_rank[6]\n",
    "    regional_rank_8 = regional_rank[7]\n",
    "    \n",
    "    \n",
    "    # KDA de los campeones más jugados por el jugador\n",
    "    \n",
    "    kda = [driver.find_elements(By.CLASS_NAME, 'kda')[i].text for i in range(len(driver.find_elements(By.CLASS_NAME, 'kda')))]\n",
    "    \n",
    "    count = 0\n",
    "    i = len(kda) - 1\n",
    "    while count < 8 and i >= 0:\n",
    "        if kda[i] != '':\n",
    "            count += 1\n",
    "        i -= 1\n",
    "\n",
    "    if count == 8:\n",
    "        result = kda[i+1:]\n",
    "        result = result[:8]\n",
    "    \n",
    "    \n",
    "    kda = [e.split(' / ') for e in result]\n",
    "    \n",
    "    kills_champ_1 = kda[0][0]\n",
    "    kills_champ_2 = kda[1][0]\n",
    "    kills_champ_3 = kda[2][0]\n",
    "    kills_champ_4 = kda[3][0]\n",
    "    kills_champ_5 = kda[4][0]\n",
    "    kills_champ_6 = kda[5][0]\n",
    "    kills_champ_7 = kda[6][0]\n",
    "    kills_champ_8 = kda[7][0]\n",
    "    \n",
    "    deaths_champ_1 = kda[0][1]\n",
    "    deaths_champ_2 = kda[1][1]\n",
    "    deaths_champ_3 = kda[2][1]\n",
    "    deaths_champ_4 = kda[3][1]\n",
    "    deaths_champ_5 = kda[4][1]\n",
    "    deaths_champ_6 = kda[5][1]\n",
    "    deaths_champ_7 = kda[6][1]\n",
    "    deaths_champ_8 = kda[7][1]\n",
    "    \n",
    "    assists_champ_1 = kda[0][2]\n",
    "    assists_champ_2 = kda[1][2]\n",
    "    assists_champ_3 = kda[2][2]\n",
    "    assists_champ_4 = kda[3][2]\n",
    "    assists_champ_5 = kda[4][2]\n",
    "    assists_champ_6 = kda[5][2]\n",
    "    assists_champ_7 = kda[6][2]\n",
    "    assists_champ_8 = kda[7][2]\n",
    "    \n",
    "    \n",
    "    \n",
    "    progress_bar = [driver.find_elements(By.CLASS_NAME, 'progressBarTxt')[i].text for i in range(len(driver.find_elements(By.CLASS_NAME, 'progressBarTxt')))]\n",
    "    \n",
    "    \n",
    "    \n",
    "    # Número de partidas jugadas de los campeones más jugados por el jugador\n",
    "    \n",
    "    games_per_champ = progress_bar[:16:2]\n",
    "    \n",
    "    games_champ_1 = games_per_champ[0]\n",
    "    games_champ_2 = games_per_champ[1]\n",
    "    games_champ_3 = games_per_champ[2]\n",
    "    games_champ_4 = games_per_champ[3]\n",
    "    games_champ_5 = games_per_champ[4]\n",
    "    games_champ_6 = games_per_champ[5]\n",
    "    games_champ_7 = games_per_champ[6]\n",
    "    games_champ_8 = games_per_champ[7]\n",
    "    \n",
    "    \n",
    "    # Winrate de los campeones más jugados por el jugador\n",
    "    \n",
    "    winrate_per_champ = progress_bar[1:16:2]\n",
    "    \n",
    "    winrate_champ_1 = winrate_per_champ[0]\n",
    "    winrate_champ_2 = winrate_per_champ[1]\n",
    "    winrate_champ_3 = winrate_per_champ[2]\n",
    "    winrate_champ_4 = winrate_per_champ[3]\n",
    "    winrate_champ_5 = winrate_per_champ[4]\n",
    "    winrate_champ_6 = winrate_per_champ[5]\n",
    "    winrate_champ_7 = winrate_per_champ[6]\n",
    "    winrate_champ_8 = winrate_per_champ[7]\n",
    "    \n",
    "    winrate_champ_1 = winrate_champ_1[:-1]             # Quitamos '%' \n",
    "    winrate_champ_2 = winrate_champ_2[:-1]\n",
    "    winrate_champ_3 = winrate_champ_3[:-1]\n",
    "    winrate_champ_4 = winrate_champ_4[:-1]\n",
    "    winrate_champ_5 = winrate_champ_5[:-1]\n",
    "    winrate_champ_6 = winrate_champ_6[:-1]\n",
    "    winrate_champ_7 = winrate_champ_7[:-1]\n",
    "    winrate_champ_8 = winrate_champ_8[:-1]\n",
    "    \n",
    "    \n",
    "    # Roles + jugados por el jugador\n",
    "    \n",
    "    rol = [driver.find_elements(By.CLASS_NAME, 'img-align-block')[i].text for i in range(len(driver.find_elements(By.CLASS_NAME, 'img-align-block')))]\n",
    "    \n",
    "    driver.quit()\n",
    "    \n",
    "    try:\n",
    "        roles = [e for e in rol if e in ['AD Carry', 'Support', 'Top', 'Mid', 'Jungler']][:3]\n",
    "    except:\n",
    "        roles = [e for e in rol if e in ['AD Carry', 'Support', 'Top', 'Mid', 'Jungler']]\n",
    "    \n",
    "    try:\n",
    "        rol_1 = roles[0]\n",
    "        rol_2 = roles[1]\n",
    "        rol_3 = roles[2]\n",
    "    except:\n",
    "        rol_1 = roles[0]\n",
    "        rol_2 = roles[1]\n",
    "    \n",
    "    # Partidas en cada rol jugado por el jugador\n",
    "    \n",
    "    games_per_rol = progress_bar[-6::2]\n",
    "    \n",
    "    games_per_rol_1 = games_per_rol[0]\n",
    "    games_per_rol_2 = games_per_rol[1]\n",
    "    games_per_rol_3 = games_per_rol[2]\n",
    "    \n",
    "    \n",
    "    # Winrate para cada rol jugado por el jugador\n",
    "    \n",
    "    winrate_per_rol = progress_bar[-5::2]\n",
    "    \n",
    "    winrate_per_rol_1 = winrate_per_rol[0]\n",
    "    winrate_per_rol_2 = winrate_per_rol[1]\n",
    "    winrate_per_rol_3 = winrate_per_rol[2]\n",
    "    \n",
    "    winrate_per_rol_1 = winrate_per_rol_1[:-1]                 # Quitamos '%' \n",
    "    winrate_per_rol_2 = winrate_per_rol_2[:-1]\n",
    "    winrate_per_rol_3 = winrate_per_rol_3[:-1]\n",
    "    \n",
    "    \n",
    "    #KDA jugador\n",
    "    \n",
    "    kda_player = [driver.find_elements(By.CLASS_NAME, 'number')[i].text for i in range(len(driver.find_elements(By.CLASS_NAME, 'number')))]\n",
    "    \n",
    "    if '/' in kda_player[-4]:\n",
    "    \n",
    "        kills_player_kda = kda_player[-4].split(' / ')[0]\n",
    "        deaths_player_kda = kda_player[-4].split(' / ')[1]\n",
    "        assists_player_kda = kda_player[-4].split(' / ')[2]\n",
    "    else:\n",
    "        pass\n",
    "    \n",
    "    \n",
    "    data = {'nombre_invocador':nombre,              # Preparamos nuestros datos scrapeados en un diccionario donde la key\n",
    "            'region':region,                        # será el nombre de la columna y el value una lista con nuestros datos\n",
    "            'liga': liga,\n",
    "            'lps':lp,\n",
    "            'cola':cola,\n",
    "            'ranking_mundial':rank,\n",
    "            'ranking_porcentaje':rank_per,\n",
    "            \n",
    "            'wins':wins,\n",
    "            'loses':loses,\n",
    "            #'n_games':n_games,\n",
    "            #'winrate_total':winrate_total,\n",
    "            \n",
    "            'kills_player_kda':kills_player_kda,\n",
    "            'deaths_player_kda':deaths_player_kda,\n",
    "            'assists_player_kda':assists_player_kda,\n",
    "            \n",
    "            'rol_1':rol_1,\n",
    "            'games_per_rol_1':games_per_rol_1,\n",
    "            'winrate_per_rol_1':winrate_per_rol_1,\n",
    "            \n",
    "            'rol_2':rol_2,\n",
    "            'games_per_rol_2':games_per_rol_2,\n",
    "            'winrate_per_rol_2':winrate_per_rol_2,\n",
    "            \n",
    "            'rol_3':rol_3,\n",
    "            'games_per_rol_3':games_per_rol_3,\n",
    "            'winrate_per_rol_3':winrate_per_rol_3,\n",
    "            \n",
    "            'champ_1':champ_1,\n",
    "            'regional_rank_1':regional_rank_1,\n",
    "            'kills_champ_1':kills_champ_1,\n",
    "            'deaths_champ_1':deaths_champ_1,\n",
    "            'assists_champ_1':winrate_total,\n",
    "            'games_champ_1':games_champ_1,\n",
    "            'winrate_champ_1':winrate_champ_1,\n",
    "            \n",
    "            'champ_2':champ_2,\n",
    "            'regional_rank_2':regional_rank_2,\n",
    "            'kills_champ_2':kills_champ_2,\n",
    "            'deaths_champ_2':deaths_champ_2,\n",
    "            'assists_champ_2':assists_champ_2,\n",
    "            'games_champ_2':games_champ_2,\n",
    "            'winrate_champ_2':winrate_champ_2,\n",
    "            \n",
    "            'champ_3':champ_3,\n",
    "            'regional_rank_3':regional_rank_3,\n",
    "            'kills_champ_3':kills_champ_3,\n",
    "            'deaths_champ_3':deaths_champ_3,\n",
    "            'assists_champ_3':assists_champ_3,\n",
    "            'games_champ_3':games_champ_3,\n",
    "            'winrate_champ_3':winrate_champ_3,\n",
    "            \n",
    "            'champ_4':champ_4,\n",
    "            'regional_rank_4':regional_rank_4,\n",
    "            'kills_champ_4':kills_champ_4,\n",
    "            'deaths_champ_4':deaths_champ_4,\n",
    "            'assists_champ_4':assists_champ_4,\n",
    "            'games_champ_4':games_champ_4,\n",
    "            'winrate_champ_4':winrate_champ_4,\n",
    "            \n",
    "            'champ_5':champ_5,\n",
    "            'regional_rank_5':regional_rank_5,\n",
    "            'kills_champ_5':kills_champ_5,\n",
    "            'deaths_champ_5':deaths_champ_5,\n",
    "            'assists_champ_5':assists_champ_5,\n",
    "            'games_champ_5':games_champ_5,\n",
    "            'winrate_champ_5':winrate_champ_5,\n",
    "            \n",
    "            'champ_6':champ_6,\n",
    "            'regional_rank_6':regional_rank_6,\n",
    "            'kills_champ_6':kills_champ_6,\n",
    "            'deaths_champ_6':deaths_champ_6,\n",
    "            'assists_champ_6':assists_champ_6,\n",
    "            'games_champ_6':games_champ_6,\n",
    "            'winrate_champ_6':winrate_champ_6,\n",
    "            \n",
    "            'champ_7':champ_7,\n",
    "            'regional_rank_7':regional_rank_7,\n",
    "            'kills_champ_7':kills_champ_7,\n",
    "            'deaths_champ_7':deaths_champ_7,\n",
    "            'assists_champ_7':assists_champ_7,\n",
    "            'games_champ_7':games_champ_7,\n",
    "            'winrate_champ_7':winrate_champ_7,\n",
    "            \n",
    "            'champ_8':champ_8,\n",
    "            'regional_rank_8':regional_rank_8,\n",
    "            'kills_champ_8':kills_champ_8,\n",
    "            'deaths_champ_8':deaths_champ_8,\n",
    "            'assists_champ_8':assists_champ_8,\n",
    "            'games_champ_8':games_champ_8,\n",
    "            'winrate_champ_8':winrate_champ_8,\n",
    "            }\n",
    "    \n",
    "    return data"
   ]
  },
  {
   "cell_type": "code",
   "execution_count": 201,
   "id": "95f5ee49",
   "metadata": {},
   "outputs": [
    {
     "data": {
      "text/plain": [
       "'https://www.leagueofgraphs.com/es/summoner/euw/Agurin'"
      ]
     },
     "execution_count": 201,
     "metadata": {},
     "output_type": "execute_result"
    }
   ],
   "source": [
    "links_1[4]"
   ]
  },
  {
   "cell_type": "code",
   "execution_count": 217,
   "id": "8ef1cec8",
   "metadata": {},
   "outputs": [],
   "source": [
    "url = links_1[3]\n",
    "\n",
    "driver=webdriver.Chrome(PATH)               \n",
    "driver.get(url)\n",
    "\n",
    "rol = [driver.find_elements(By.CLASS_NAME, 'img-align-block')[i].text for i in range(len(driver.find_elements(By.CLASS_NAME, 'img-align-block')))]\n",
    "driver.quit()"
   ]
  },
  {
   "cell_type": "code",
   "execution_count": 218,
   "id": "b66b0a52",
   "metadata": {},
   "outputs": [
    {
     "data": {
      "text/plain": [
       "['AD Carry', 'Support', 'Top']"
      ]
     },
     "execution_count": 218,
     "metadata": {},
     "output_type": "execute_result"
    }
   ],
   "source": [
    "[e for e in rol if e in ['AD Carry', 'Support', 'Top', 'Mid', 'Jungler']][:3]"
   ]
  },
  {
   "cell_type": "code",
   "execution_count": 213,
   "id": "4d1cb4cb",
   "metadata": {},
   "outputs": [
    {
     "data": {
      "text/plain": [
       "['ZEN sant (BR)\\nNivel 667 - #11 Lucian - #488 Sivir - #818 Varus',\n",
       " '',\n",
       " '',\n",
       " '',\n",
       " '',\n",
       " '',\n",
       " '',\n",
       " '',\n",
       " '',\n",
       " '',\n",
       " '',\n",
       " '',\n",
       " '',\n",
       " '',\n",
       " '',\n",
       " '',\n",
       " '',\n",
       " '',\n",
       " '',\n",
       " '',\n",
       " '',\n",
       " '',\n",
       " '',\n",
       " '',\n",
       " '',\n",
       " '',\n",
       " '',\n",
       " '',\n",
       " '',\n",
       " '',\n",
       " '',\n",
       " '',\n",
       " '',\n",
       " '',\n",
       " '',\n",
       " '',\n",
       " '',\n",
       " '',\n",
       " '',\n",
       " '',\n",
       " '',\n",
       " '',\n",
       " '',\n",
       " '',\n",
       " '',\n",
       " '',\n",
       " '',\n",
       " '',\n",
       " '',\n",
       " '',\n",
       " '',\n",
       " '',\n",
       " '',\n",
       " '',\n",
       " '',\n",
       " '',\n",
       " '',\n",
       " '',\n",
       " '',\n",
       " '',\n",
       " '',\n",
       " '',\n",
       " '',\n",
       " '',\n",
       " '',\n",
       " '',\n",
       " '',\n",
       " '',\n",
       " '',\n",
       " '',\n",
       " '',\n",
       " '',\n",
       " '',\n",
       " '',\n",
       " '',\n",
       " '',\n",
       " '',\n",
       " '',\n",
       " '',\n",
       " '',\n",
       " '',\n",
       " '',\n",
       " '',\n",
       " '',\n",
       " '',\n",
       " '',\n",
       " '',\n",
       " '',\n",
       " '',\n",
       " '',\n",
       " '',\n",
       " '',\n",
       " '',\n",
       " '',\n",
       " '',\n",
       " '',\n",
       " '',\n",
       " '',\n",
       " '',\n",
       " '',\n",
       " '',\n",
       " '',\n",
       " '',\n",
       " '',\n",
       " '',\n",
       " '',\n",
       " '',\n",
       " '',\n",
       " '',\n",
       " '',\n",
       " '',\n",
       " '',\n",
       " '',\n",
       " '',\n",
       " '',\n",
       " '',\n",
       " '',\n",
       " '',\n",
       " '',\n",
       " '',\n",
       " '',\n",
       " '',\n",
       " '',\n",
       " '',\n",
       " '',\n",
       " '',\n",
       " '',\n",
       " '',\n",
       " '',\n",
       " '',\n",
       " '',\n",
       " '',\n",
       " '',\n",
       " '',\n",
       " '',\n",
       " '',\n",
       " '',\n",
       " '',\n",
       " '',\n",
       " '',\n",
       " '',\n",
       " '',\n",
       " '',\n",
       " '',\n",
       " '',\n",
       " '',\n",
       " '',\n",
       " '',\n",
       " '',\n",
       " '',\n",
       " '',\n",
       " '',\n",
       " '',\n",
       " '',\n",
       " '',\n",
       " '',\n",
       " '',\n",
       " '',\n",
       " '',\n",
       " '',\n",
       " '',\n",
       " '',\n",
       " '',\n",
       " 'Challenger 1687 PL\\nSoloqueue\\nRango: 6 (BR: 3)\\nTop 0.000065%\\nPL: 1687\\nVictorias: 225 Derrotas: 178',\n",
       " 'Diamante I\\nPuntuación promedio de los enemigos (Últimas 10 partidas)',\n",
       " '',\n",
       " '',\n",
       " '',\n",
       " '',\n",
       " '',\n",
       " '',\n",
       " '',\n",
       " '',\n",
       " '',\n",
       " '',\n",
       " '',\n",
       " '',\n",
       " '',\n",
       " '',\n",
       " '',\n",
       " '',\n",
       " '',\n",
       " '',\n",
       " '',\n",
       " '',\n",
       " '',\n",
       " '',\n",
       " '',\n",
       " '',\n",
       " '',\n",
       " '',\n",
       " '',\n",
       " '',\n",
       " '',\n",
       " '',\n",
       " '',\n",
       " '',\n",
       " '',\n",
       " '',\n",
       " '',\n",
       " '',\n",
       " '',\n",
       " '',\n",
       " '',\n",
       " '',\n",
       " '',\n",
       " '',\n",
       " '',\n",
       " '',\n",
       " '',\n",
       " '',\n",
       " '',\n",
       " '',\n",
       " '',\n",
       " '',\n",
       " '',\n",
       " '',\n",
       " '',\n",
       " '',\n",
       " '',\n",
       " '',\n",
       " '',\n",
       " '',\n",
       " '',\n",
       " '',\n",
       " '',\n",
       " '',\n",
       " '',\n",
       " '',\n",
       " '',\n",
       " '',\n",
       " '',\n",
       " '',\n",
       " '',\n",
       " '',\n",
       " '',\n",
       " '',\n",
       " '',\n",
       " '',\n",
       " '',\n",
       " '',\n",
       " '',\n",
       " '',\n",
       " '',\n",
       " '',\n",
       " '',\n",
       " '',\n",
       " '',\n",
       " '',\n",
       " '',\n",
       " '',\n",
       " '',\n",
       " '',\n",
       " '',\n",
       " '',\n",
       " '',\n",
       " '',\n",
       " '',\n",
       " '',\n",
       " '',\n",
       " '',\n",
       " '',\n",
       " '',\n",
       " '',\n",
       " '',\n",
       " '',\n",
       " '',\n",
       " '',\n",
       " '',\n",
       " '',\n",
       " '',\n",
       " '',\n",
       " '',\n",
       " '',\n",
       " '',\n",
       " '',\n",
       " '',\n",
       " '',\n",
       " '',\n",
       " '',\n",
       " '',\n",
       " '',\n",
       " '',\n",
       " '',\n",
       " '',\n",
       " '',\n",
       " '',\n",
       " '',\n",
       " '',\n",
       " '',\n",
       " '',\n",
       " '',\n",
       " '',\n",
       " '',\n",
       " '',\n",
       " '',\n",
       " '',\n",
       " '',\n",
       " '',\n",
       " '',\n",
       " '',\n",
       " '',\n",
       " '',\n",
       " '',\n",
       " '',\n",
       " '',\n",
       " '',\n",
       " '',\n",
       " '',\n",
       " '',\n",
       " '',\n",
       " '',\n",
       " '',\n",
       " '',\n",
       " '',\n",
       " '',\n",
       " '',\n",
       " '',\n",
       " '',\n",
       " '',\n",
       " '',\n",
       " '',\n",
       " '',\n",
       " '',\n",
       " '',\n",
       " '',\n",
       " '',\n",
       " '',\n",
       " '',\n",
       " '',\n",
       " '',\n",
       " '',\n",
       " '',\n",
       " 'Fenécios Tips',\n",
       " 'Vitinhodacg',\n",
       " 'PMTChordy',\n",
       " 'KGKD',\n",
       " 'ZEN sant',\n",
       " 'Fenécios Tips',\n",
       " 'JKG Dude',\n",
       " 'Savz',\n",
       " 'ZEN sant',\n",
       " 'Holstein Cow',\n",
       " 'RED Beta32',\n",
       " 'Robert Tongue',\n",
       " 'Niaeroula',\n",
       " 'ZEN sant',\n",
       " 'Boaventura10',\n",
       " 'bbehind',\n",
       " 'muratar',\n",
       " 'pezthd',\n",
       " 'ZEN sant',\n",
       " 'RIV ixdmmpxr',\n",
       " 'Zac ou Dodge',\n",
       " 'Lorenzx',\n",
       " 'Savz',\n",
       " 'zzmczx',\n",
       " 'ZEN sant',\n",
       " 'ZEN sant',\n",
       " 'Boldenone Blast',\n",
       " 'Gorilla Drift',\n",
       " 'eggs',\n",
       " 'ScoobyDoo061',\n",
       " 'CTL SnaKesKIn',\n",
       " 'VIRILHA',\n",
       " 'Ha te Trollei',\n",
       " 'Mattiuz',\n",
       " 'AHH FOOSH',\n",
       " 'llPrwolf',\n",
       " 'ViniciusTNK',\n",
       " 'jiansda',\n",
       " 'SerGio Do Str',\n",
       " 'SUPORTandoMeuADC',\n",
       " 'Nerflanc',\n",
       " 'Yanguir',\n",
       " 'Björ',\n",
       " 'Söneca',\n",
       " 'MOB Bozo',\n",
       " 'Gorilla Drift',\n",
       " 'eggs',\n",
       " 'Boldenone Blast',\n",
       " 'Pedrotti',\n",
       " 'ZEN sant',\n",
       " 'Fenécios Tips',\n",
       " 'Vitinhodacg',\n",
       " 'PMTChordy',\n",
       " 'KGKD',\n",
       " 'ZEN sant',\n",
       " 'RED Beta32',\n",
       " 'Robert Tongue',\n",
       " 'Niaeroula',\n",
       " 'ZEN sant',\n",
       " 'Boaventura10',\n",
       " 'TwTV Mirato',\n",
       " 'XIAOLONG PUMITA',\n",
       " 'RED Pusher',\n",
       " 'TitaN',\n",
       " 'bountyyspider',\n",
       " 'Omri',\n",
       " 'Minerva',\n",
       " 'moonbeam',\n",
       " 'ZEN sant',\n",
       " 'MT A Crise',\n",
       " 'Lucian\\nRango: 11\\n(BR: 3)\\n8.7 / 6.6 / 8.5',\n",
       " 'Varus\\nRango: 818\\n(BR: 58)\\n7.3 / 6.4 / 8.0',\n",
       " 'Caitlyn\\nRango: 3,856\\n(BR: 365)\\n6.2 / 6.4 / 8.5',\n",
       " 'Ezreal\\nRango: 2,043\\n(BR: 166)\\n6.7 / 6.3 / 8.1',\n",
       " 'Ashe\\nRango: 1,672\\n(BR: 130)\\n3.9 / 6.0 / 12.3',\n",
       " 'Jhin\\nRango: 18,026\\n(BR: 1,132)\\n6.0 / 5.0 / 8.6',\n",
       " 'Sivir\\nRango: 488\\n(BR: 56)\\n5.3 / 5.4 / 7.6',\n",
       " 'Zeri\\nRango: 6,537\\n(BR: 654)\\n6.1 / 4.7 / 5.0',\n",
       " '',\n",
       " '',\n",
       " '',\n",
       " '',\n",
       " '',\n",
       " '',\n",
       " '',\n",
       " '',\n",
       " '',\n",
       " '',\n",
       " '',\n",
       " '',\n",
       " '',\n",
       " '',\n",
       " '',\n",
       " '',\n",
       " '',\n",
       " '',\n",
       " '',\n",
       " '',\n",
       " '',\n",
       " '',\n",
       " '',\n",
       " '',\n",
       " '',\n",
       " '',\n",
       " '',\n",
       " '',\n",
       " '',\n",
       " '',\n",
       " '',\n",
       " '',\n",
       " '',\n",
       " '',\n",
       " '',\n",
       " '',\n",
       " '',\n",
       " '',\n",
       " '',\n",
       " '',\n",
       " '',\n",
       " '',\n",
       " '',\n",
       " '',\n",
       " '',\n",
       " '',\n",
       " '',\n",
       " '',\n",
       " '',\n",
       " '',\n",
       " '',\n",
       " '',\n",
       " '',\n",
       " '',\n",
       " '',\n",
       " '',\n",
       " '',\n",
       " '',\n",
       " '',\n",
       " '',\n",
       " '',\n",
       " '',\n",
       " '',\n",
       " '',\n",
       " '',\n",
       " '',\n",
       " '',\n",
       " '',\n",
       " '',\n",
       " '',\n",
       " '',\n",
       " '',\n",
       " '',\n",
       " '',\n",
       " '',\n",
       " '',\n",
       " '',\n",
       " '',\n",
       " '',\n",
       " '',\n",
       " '',\n",
       " '',\n",
       " '',\n",
       " '',\n",
       " '',\n",
       " '',\n",
       " '',\n",
       " '',\n",
       " '',\n",
       " '',\n",
       " '',\n",
       " '',\n",
       " '',\n",
       " '',\n",
       " '',\n",
       " '',\n",
       " '',\n",
       " '',\n",
       " '',\n",
       " '',\n",
       " '',\n",
       " '',\n",
       " '',\n",
       " '',\n",
       " '',\n",
       " '',\n",
       " '',\n",
       " '',\n",
       " '',\n",
       " '',\n",
       " 'AD Carry',\n",
       " 'Support',\n",
       " 'Top',\n",
       " 'Mid',\n",
       " 'Jungler',\n",
       " '',\n",
       " '',\n",
       " '',\n",
       " '',\n",
       " '',\n",
       " '',\n",
       " '',\n",
       " '',\n",
       " '',\n",
       " '',\n",
       " 'eggs\\nPlatino IV',\n",
       " 'Gorilla Drift\\nPlatino I',\n",
       " 'ScoobyDoo061\\nPlata III',\n",
       " 'Gozada gaucha\\nSin clasificar',\n",
       " 'Boldenone Blast\\nPlata II',\n",
       " 'Tatávio\\nSin clasificar']"
      ]
     },
     "execution_count": 213,
     "metadata": {},
     "output_type": "execute_result"
    }
   ],
   "source": [
    "rol"
   ]
  },
  {
   "cell_type": "code",
   "execution_count": 226,
   "id": "cd85abc3",
   "metadata": {},
   "outputs": [],
   "source": [
    "def roles(url):\n",
    "    \n",
    "    driver=webdriver.Chrome(PATH)               \n",
    "    driver.get(url)\n",
    "    \n",
    "    rol = [driver.find_elements(By.CLASS_NAME, 'img-align-block')[i].text for i in range(len(driver.find_elements(By.CLASS_NAME, 'img-align-block')))]\n",
    "    \n",
    "    try:\n",
    "        roles = [e for e in rol if e in ['AD Carry', 'Support', 'Top', 'Mid', 'Jungler']][:3]\n",
    "    except:\n",
    "        roles = [e for e in rol if e in ['AD Carry', 'Support', 'Top', 'Mid', 'Jungler']]\n",
    "    \n",
    "    \n",
    "    \n",
    "    return roles"
   ]
  },
  {
   "cell_type": "code",
   "execution_count": 227,
   "id": "046ca2b6",
   "metadata": {},
   "outputs": [],
   "source": [
    "prueba_2 = roles(links_1[0])"
   ]
  },
  {
   "cell_type": "code",
   "execution_count": 228,
   "id": "ecf39caa",
   "metadata": {},
   "outputs": [
    {
     "data": {
      "text/plain": [
       "['Jungler', 'Top', 'Mid']"
      ]
     },
     "execution_count": 228,
     "metadata": {},
     "output_type": "execute_result"
    }
   ],
   "source": [
    "prueba_2"
   ]
  },
  {
   "cell_type": "code",
   "execution_count": 257,
   "id": "8d1688cb",
   "metadata": {},
   "outputs": [],
   "source": [
    "url = links_1[2]\n",
    "\n",
    "driver=webdriver.Chrome(PATH)               \n",
    "driver.get(url)\n",
    "\n",
    "kda_prueba3 = [driver.find_elements(By.CLASS_NAME, 'number')[i].text for i in range(len(driver.find_elements(By.CLASS_NAME, 'number')))]\n",
    "driver.quit()"
   ]
  },
  {
   "cell_type": "code",
   "execution_count": 258,
   "id": "994abc4d",
   "metadata": {
    "scrolled": true
   },
   "outputs": [
    {
     "data": {
      "text/plain": [
       "['6.4', '4.6', '7.4']"
      ]
     },
     "execution_count": 258,
     "metadata": {},
     "output_type": "execute_result"
    }
   ],
   "source": [
    "kda_prueba[-4].split(' / ')"
   ]
  },
  {
   "cell_type": "code",
   "execution_count": 245,
   "id": "f5239fb0",
   "metadata": {},
   "outputs": [
    {
     "ename": "ValueError",
     "evalue": "invalid literal for int() with base 10: '(NA: 1)'",
     "output_type": "error",
     "traceback": [
      "\u001b[0;31m---------------------------------------------------------------------------\u001b[0m",
      "\u001b[0;31mValueError\u001b[0m                                Traceback (most recent call last)",
      "\u001b[0;32m/var/folders/_n/g7dsgr5d6hs1plzfmyy449980000gn/T/ipykernel_35004/319480865.py\u001b[0m in \u001b[0;36m<module>\u001b[0;34m\u001b[0m\n\u001b[0;32m----> 1\u001b[0;31m \u001b[0mscrapeo\u001b[0m\u001b[0;34m(\u001b[0m\u001b[0mlinks_1\u001b[0m\u001b[0;34m[\u001b[0m\u001b[0;36m0\u001b[0m\u001b[0;34m]\u001b[0m\u001b[0;34m)\u001b[0m\u001b[0;34m\u001b[0m\u001b[0;34m\u001b[0m\u001b[0m\n\u001b[0m",
      "\u001b[0;32m~/Desktop/ironhack/proyectos/Final_Project/src/funciones.py\u001b[0m in \u001b[0;36mscrapeo\u001b[0;34m(url)\u001b[0m\n\u001b[1;32m     61\u001b[0m     \u001b[0mchamp_4\u001b[0m \u001b[0;34m=\u001b[0m \u001b[0mcampeones\u001b[0m\u001b[0;34m[\u001b[0m\u001b[0;36m3\u001b[0m\u001b[0;34m]\u001b[0m\u001b[0;34m\u001b[0m\u001b[0;34m\u001b[0m\u001b[0m\n\u001b[1;32m     62\u001b[0m     \u001b[0mchamp_5\u001b[0m \u001b[0;34m=\u001b[0m \u001b[0mcampeones\u001b[0m\u001b[0;34m[\u001b[0m\u001b[0;36m4\u001b[0m\u001b[0;34m]\u001b[0m\u001b[0;34m\u001b[0m\u001b[0;34m\u001b[0m\u001b[0m\n\u001b[0;32m---> 63\u001b[0;31m     \u001b[0mchamp_6\u001b[0m \u001b[0;34m=\u001b[0m \u001b[0mcampeones\u001b[0m\u001b[0;34m[\u001b[0m\u001b[0;36m5\u001b[0m\u001b[0;34m]\u001b[0m\u001b[0;34m\u001b[0m\u001b[0;34m\u001b[0m\u001b[0m\n\u001b[0m\u001b[1;32m     64\u001b[0m     \u001b[0mchamp_7\u001b[0m \u001b[0;34m=\u001b[0m \u001b[0mcampeones\u001b[0m\u001b[0;34m[\u001b[0m\u001b[0;36m6\u001b[0m\u001b[0;34m]\u001b[0m\u001b[0;34m\u001b[0m\u001b[0;34m\u001b[0m\u001b[0m\n\u001b[1;32m     65\u001b[0m     \u001b[0mchamp_8\u001b[0m \u001b[0;34m=\u001b[0m \u001b[0mcampeones\u001b[0m\u001b[0;34m[\u001b[0m\u001b[0;36m7\u001b[0m\u001b[0;34m]\u001b[0m\u001b[0;34m\u001b[0m\u001b[0;34m\u001b[0m\u001b[0m\n",
      "\u001b[0;31mValueError\u001b[0m: invalid literal for int() with base 10: '(NA: 1)'"
     ]
    }
   ],
   "source": [
    "scrapeo(links_1[0])"
   ]
  },
  {
   "cell_type": "code",
   "execution_count": 249,
   "id": "8000ee59",
   "metadata": {},
   "outputs": [],
   "source": [
    "driver=webdriver.Chrome(PATH)               \n",
    "driver.get(url)\n",
    "\n",
    "winrate_total = driver.find_element(By.ID, 'graphDD3').text[:-1] \n",
    "\n"
   ]
  },
  {
   "cell_type": "code",
   "execution_count": 250,
   "id": "be9b6047",
   "metadata": {},
   "outputs": [
    {
     "data": {
      "text/plain": [
       "'57.7'"
      ]
     },
     "execution_count": 250,
     "metadata": {},
     "output_type": "execute_result"
    }
   ],
   "source": [
    "winrate_total"
   ]
  },
  {
   "cell_type": "code",
   "execution_count": 248,
   "id": "4fd95efe",
   "metadata": {},
   "outputs": [
    {
     "data": {
      "text/plain": [
       "'57.7'"
      ]
     },
     "execution_count": 248,
     "metadata": {},
     "output_type": "execute_result"
    }
   ],
   "source": [
    "if '%' in winrate_total:\n",
    "    winrate_total = winrate_total[:-1]\n",
    "    \n",
    "winrate_total    "
   ]
  },
  {
   "cell_type": "code",
   "execution_count": 11,
   "id": "c064adfb",
   "metadata": {},
   "outputs": [
    {
     "ename": "MaxRetryError",
     "evalue": "HTTPConnectionPool(host='localhost', port=49900): Max retries exceeded with url: /session/ce4a1d5bd769d6a404aa868318f726c8/elements (Caused by NewConnectionError('<urllib3.connection.HTTPConnection object at 0x7fabad77ee20>: Failed to establish a new connection: [Errno 61] Connection refused'))",
     "output_type": "error",
     "traceback": [
      "\u001b[0;31m---------------------------------------------------------------------------\u001b[0m",
      "\u001b[0;31mConnectionRefusedError\u001b[0m                    Traceback (most recent call last)",
      "\u001b[0;32m~/opt/anaconda3/lib/python3.9/site-packages/urllib3/connection.py\u001b[0m in \u001b[0;36m_new_conn\u001b[0;34m(self)\u001b[0m\n\u001b[1;32m    173\u001b[0m         \u001b[0;32mtry\u001b[0m\u001b[0;34m:\u001b[0m\u001b[0;34m\u001b[0m\u001b[0;34m\u001b[0m\u001b[0m\n\u001b[0;32m--> 174\u001b[0;31m             conn = connection.create_connection(\n\u001b[0m\u001b[1;32m    175\u001b[0m                 \u001b[0;34m(\u001b[0m\u001b[0mself\u001b[0m\u001b[0;34m.\u001b[0m\u001b[0m_dns_host\u001b[0m\u001b[0;34m,\u001b[0m \u001b[0mself\u001b[0m\u001b[0;34m.\u001b[0m\u001b[0mport\u001b[0m\u001b[0;34m)\u001b[0m\u001b[0;34m,\u001b[0m \u001b[0mself\u001b[0m\u001b[0;34m.\u001b[0m\u001b[0mtimeout\u001b[0m\u001b[0;34m,\u001b[0m \u001b[0;34m**\u001b[0m\u001b[0mextra_kw\u001b[0m\u001b[0;34m\u001b[0m\u001b[0;34m\u001b[0m\u001b[0m\n",
      "\u001b[0;32m~/opt/anaconda3/lib/python3.9/site-packages/urllib3/util/connection.py\u001b[0m in \u001b[0;36mcreate_connection\u001b[0;34m(address, timeout, source_address, socket_options)\u001b[0m\n\u001b[1;32m     94\u001b[0m     \u001b[0;32mif\u001b[0m \u001b[0merr\u001b[0m \u001b[0;32mis\u001b[0m \u001b[0;32mnot\u001b[0m \u001b[0;32mNone\u001b[0m\u001b[0;34m:\u001b[0m\u001b[0;34m\u001b[0m\u001b[0;34m\u001b[0m\u001b[0m\n\u001b[0;32m---> 95\u001b[0;31m         \u001b[0;32mraise\u001b[0m \u001b[0merr\u001b[0m\u001b[0;34m\u001b[0m\u001b[0;34m\u001b[0m\u001b[0m\n\u001b[0m\u001b[1;32m     96\u001b[0m \u001b[0;34m\u001b[0m\u001b[0m\n",
      "\u001b[0;32m~/opt/anaconda3/lib/python3.9/site-packages/urllib3/util/connection.py\u001b[0m in \u001b[0;36mcreate_connection\u001b[0;34m(address, timeout, source_address, socket_options)\u001b[0m\n\u001b[1;32m     84\u001b[0m                 \u001b[0msock\u001b[0m\u001b[0;34m.\u001b[0m\u001b[0mbind\u001b[0m\u001b[0;34m(\u001b[0m\u001b[0msource_address\u001b[0m\u001b[0;34m)\u001b[0m\u001b[0;34m\u001b[0m\u001b[0;34m\u001b[0m\u001b[0m\n\u001b[0;32m---> 85\u001b[0;31m             \u001b[0msock\u001b[0m\u001b[0;34m.\u001b[0m\u001b[0mconnect\u001b[0m\u001b[0;34m(\u001b[0m\u001b[0msa\u001b[0m\u001b[0;34m)\u001b[0m\u001b[0;34m\u001b[0m\u001b[0;34m\u001b[0m\u001b[0m\n\u001b[0m\u001b[1;32m     86\u001b[0m             \u001b[0;32mreturn\u001b[0m \u001b[0msock\u001b[0m\u001b[0;34m\u001b[0m\u001b[0;34m\u001b[0m\u001b[0m\n",
      "\u001b[0;31mConnectionRefusedError\u001b[0m: [Errno 61] Connection refused",
      "\nDuring handling of the above exception, another exception occurred:\n",
      "\u001b[0;31mNewConnectionError\u001b[0m                        Traceback (most recent call last)",
      "\u001b[0;32m~/opt/anaconda3/lib/python3.9/site-packages/urllib3/connectionpool.py\u001b[0m in \u001b[0;36murlopen\u001b[0;34m(self, method, url, body, headers, retries, redirect, assert_same_host, timeout, pool_timeout, release_conn, chunked, body_pos, **response_kw)\u001b[0m\n\u001b[1;32m    702\u001b[0m             \u001b[0;31m# Make the request on the httplib connection object.\u001b[0m\u001b[0;34m\u001b[0m\u001b[0;34m\u001b[0m\u001b[0m\n\u001b[0;32m--> 703\u001b[0;31m             httplib_response = self._make_request(\n\u001b[0m\u001b[1;32m    704\u001b[0m                 \u001b[0mconn\u001b[0m\u001b[0;34m,\u001b[0m\u001b[0;34m\u001b[0m\u001b[0;34m\u001b[0m\u001b[0m\n",
      "\u001b[0;32m~/opt/anaconda3/lib/python3.9/site-packages/urllib3/connectionpool.py\u001b[0m in \u001b[0;36m_make_request\u001b[0;34m(self, conn, method, url, timeout, chunked, **httplib_request_kw)\u001b[0m\n\u001b[1;32m    397\u001b[0m             \u001b[0;32melse\u001b[0m\u001b[0;34m:\u001b[0m\u001b[0;34m\u001b[0m\u001b[0;34m\u001b[0m\u001b[0m\n\u001b[0;32m--> 398\u001b[0;31m                 \u001b[0mconn\u001b[0m\u001b[0;34m.\u001b[0m\u001b[0mrequest\u001b[0m\u001b[0;34m(\u001b[0m\u001b[0mmethod\u001b[0m\u001b[0;34m,\u001b[0m \u001b[0murl\u001b[0m\u001b[0;34m,\u001b[0m \u001b[0;34m**\u001b[0m\u001b[0mhttplib_request_kw\u001b[0m\u001b[0;34m)\u001b[0m\u001b[0;34m\u001b[0m\u001b[0;34m\u001b[0m\u001b[0m\n\u001b[0m\u001b[1;32m    399\u001b[0m \u001b[0;34m\u001b[0m\u001b[0m\n",
      "\u001b[0;32m~/opt/anaconda3/lib/python3.9/site-packages/urllib3/connection.py\u001b[0m in \u001b[0;36mrequest\u001b[0;34m(self, method, url, body, headers)\u001b[0m\n\u001b[1;32m    238\u001b[0m             \u001b[0mheaders\u001b[0m\u001b[0;34m[\u001b[0m\u001b[0;34m\"User-Agent\"\u001b[0m\u001b[0;34m]\u001b[0m \u001b[0;34m=\u001b[0m \u001b[0m_get_default_user_agent\u001b[0m\u001b[0;34m(\u001b[0m\u001b[0;34m)\u001b[0m\u001b[0;34m\u001b[0m\u001b[0;34m\u001b[0m\u001b[0m\n\u001b[0;32m--> 239\u001b[0;31m         \u001b[0msuper\u001b[0m\u001b[0;34m(\u001b[0m\u001b[0mHTTPConnection\u001b[0m\u001b[0;34m,\u001b[0m \u001b[0mself\u001b[0m\u001b[0;34m)\u001b[0m\u001b[0;34m.\u001b[0m\u001b[0mrequest\u001b[0m\u001b[0;34m(\u001b[0m\u001b[0mmethod\u001b[0m\u001b[0;34m,\u001b[0m \u001b[0murl\u001b[0m\u001b[0;34m,\u001b[0m \u001b[0mbody\u001b[0m\u001b[0;34m=\u001b[0m\u001b[0mbody\u001b[0m\u001b[0;34m,\u001b[0m \u001b[0mheaders\u001b[0m\u001b[0;34m=\u001b[0m\u001b[0mheaders\u001b[0m\u001b[0;34m)\u001b[0m\u001b[0;34m\u001b[0m\u001b[0;34m\u001b[0m\u001b[0m\n\u001b[0m\u001b[1;32m    240\u001b[0m \u001b[0;34m\u001b[0m\u001b[0m\n",
      "\u001b[0;32m~/opt/anaconda3/lib/python3.9/http/client.py\u001b[0m in \u001b[0;36mrequest\u001b[0;34m(self, method, url, body, headers, encode_chunked)\u001b[0m\n\u001b[1;32m   1284\u001b[0m         \u001b[0;34m\"\"\"Send a complete request to the server.\"\"\"\u001b[0m\u001b[0;34m\u001b[0m\u001b[0;34m\u001b[0m\u001b[0m\n\u001b[0;32m-> 1285\u001b[0;31m         \u001b[0mself\u001b[0m\u001b[0;34m.\u001b[0m\u001b[0m_send_request\u001b[0m\u001b[0;34m(\u001b[0m\u001b[0mmethod\u001b[0m\u001b[0;34m,\u001b[0m \u001b[0murl\u001b[0m\u001b[0;34m,\u001b[0m \u001b[0mbody\u001b[0m\u001b[0;34m,\u001b[0m \u001b[0mheaders\u001b[0m\u001b[0;34m,\u001b[0m \u001b[0mencode_chunked\u001b[0m\u001b[0;34m)\u001b[0m\u001b[0;34m\u001b[0m\u001b[0;34m\u001b[0m\u001b[0m\n\u001b[0m\u001b[1;32m   1286\u001b[0m \u001b[0;34m\u001b[0m\u001b[0m\n",
      "\u001b[0;32m~/opt/anaconda3/lib/python3.9/http/client.py\u001b[0m in \u001b[0;36m_send_request\u001b[0;34m(self, method, url, body, headers, encode_chunked)\u001b[0m\n\u001b[1;32m   1330\u001b[0m             \u001b[0mbody\u001b[0m \u001b[0;34m=\u001b[0m \u001b[0m_encode\u001b[0m\u001b[0;34m(\u001b[0m\u001b[0mbody\u001b[0m\u001b[0;34m,\u001b[0m \u001b[0;34m'body'\u001b[0m\u001b[0;34m)\u001b[0m\u001b[0;34m\u001b[0m\u001b[0;34m\u001b[0m\u001b[0m\n\u001b[0;32m-> 1331\u001b[0;31m         \u001b[0mself\u001b[0m\u001b[0;34m.\u001b[0m\u001b[0mendheaders\u001b[0m\u001b[0;34m(\u001b[0m\u001b[0mbody\u001b[0m\u001b[0;34m,\u001b[0m \u001b[0mencode_chunked\u001b[0m\u001b[0;34m=\u001b[0m\u001b[0mencode_chunked\u001b[0m\u001b[0;34m)\u001b[0m\u001b[0;34m\u001b[0m\u001b[0;34m\u001b[0m\u001b[0m\n\u001b[0m\u001b[1;32m   1332\u001b[0m \u001b[0;34m\u001b[0m\u001b[0m\n",
      "\u001b[0;32m~/opt/anaconda3/lib/python3.9/http/client.py\u001b[0m in \u001b[0;36mendheaders\u001b[0;34m(self, message_body, encode_chunked)\u001b[0m\n\u001b[1;32m   1279\u001b[0m             \u001b[0;32mraise\u001b[0m \u001b[0mCannotSendHeader\u001b[0m\u001b[0;34m(\u001b[0m\u001b[0;34m)\u001b[0m\u001b[0;34m\u001b[0m\u001b[0;34m\u001b[0m\u001b[0m\n\u001b[0;32m-> 1280\u001b[0;31m         \u001b[0mself\u001b[0m\u001b[0;34m.\u001b[0m\u001b[0m_send_output\u001b[0m\u001b[0;34m(\u001b[0m\u001b[0mmessage_body\u001b[0m\u001b[0;34m,\u001b[0m \u001b[0mencode_chunked\u001b[0m\u001b[0;34m=\u001b[0m\u001b[0mencode_chunked\u001b[0m\u001b[0;34m)\u001b[0m\u001b[0;34m\u001b[0m\u001b[0;34m\u001b[0m\u001b[0m\n\u001b[0m\u001b[1;32m   1281\u001b[0m \u001b[0;34m\u001b[0m\u001b[0m\n",
      "\u001b[0;32m~/opt/anaconda3/lib/python3.9/http/client.py\u001b[0m in \u001b[0;36m_send_output\u001b[0;34m(self, message_body, encode_chunked)\u001b[0m\n\u001b[1;32m   1039\u001b[0m         \u001b[0;32mdel\u001b[0m \u001b[0mself\u001b[0m\u001b[0;34m.\u001b[0m\u001b[0m_buffer\u001b[0m\u001b[0;34m[\u001b[0m\u001b[0;34m:\u001b[0m\u001b[0;34m]\u001b[0m\u001b[0;34m\u001b[0m\u001b[0;34m\u001b[0m\u001b[0m\n\u001b[0;32m-> 1040\u001b[0;31m         \u001b[0mself\u001b[0m\u001b[0;34m.\u001b[0m\u001b[0msend\u001b[0m\u001b[0;34m(\u001b[0m\u001b[0mmsg\u001b[0m\u001b[0;34m)\u001b[0m\u001b[0;34m\u001b[0m\u001b[0;34m\u001b[0m\u001b[0m\n\u001b[0m\u001b[1;32m   1041\u001b[0m \u001b[0;34m\u001b[0m\u001b[0m\n",
      "\u001b[0;32m~/opt/anaconda3/lib/python3.9/http/client.py\u001b[0m in \u001b[0;36msend\u001b[0;34m(self, data)\u001b[0m\n\u001b[1;32m    979\u001b[0m             \u001b[0;32mif\u001b[0m \u001b[0mself\u001b[0m\u001b[0;34m.\u001b[0m\u001b[0mauto_open\u001b[0m\u001b[0;34m:\u001b[0m\u001b[0;34m\u001b[0m\u001b[0;34m\u001b[0m\u001b[0m\n\u001b[0;32m--> 980\u001b[0;31m                 \u001b[0mself\u001b[0m\u001b[0;34m.\u001b[0m\u001b[0mconnect\u001b[0m\u001b[0;34m(\u001b[0m\u001b[0;34m)\u001b[0m\u001b[0;34m\u001b[0m\u001b[0;34m\u001b[0m\u001b[0m\n\u001b[0m\u001b[1;32m    981\u001b[0m             \u001b[0;32melse\u001b[0m\u001b[0;34m:\u001b[0m\u001b[0;34m\u001b[0m\u001b[0;34m\u001b[0m\u001b[0m\n",
      "\u001b[0;32m~/opt/anaconda3/lib/python3.9/site-packages/urllib3/connection.py\u001b[0m in \u001b[0;36mconnect\u001b[0;34m(self)\u001b[0m\n\u001b[1;32m    204\u001b[0m     \u001b[0;32mdef\u001b[0m \u001b[0mconnect\u001b[0m\u001b[0;34m(\u001b[0m\u001b[0mself\u001b[0m\u001b[0;34m)\u001b[0m\u001b[0;34m:\u001b[0m\u001b[0;34m\u001b[0m\u001b[0;34m\u001b[0m\u001b[0m\n\u001b[0;32m--> 205\u001b[0;31m         \u001b[0mconn\u001b[0m \u001b[0;34m=\u001b[0m \u001b[0mself\u001b[0m\u001b[0;34m.\u001b[0m\u001b[0m_new_conn\u001b[0m\u001b[0;34m(\u001b[0m\u001b[0;34m)\u001b[0m\u001b[0;34m\u001b[0m\u001b[0;34m\u001b[0m\u001b[0m\n\u001b[0m\u001b[1;32m    206\u001b[0m         \u001b[0mself\u001b[0m\u001b[0;34m.\u001b[0m\u001b[0m_prepare_conn\u001b[0m\u001b[0;34m(\u001b[0m\u001b[0mconn\u001b[0m\u001b[0;34m)\u001b[0m\u001b[0;34m\u001b[0m\u001b[0;34m\u001b[0m\u001b[0m\n",
      "\u001b[0;32m~/opt/anaconda3/lib/python3.9/site-packages/urllib3/connection.py\u001b[0m in \u001b[0;36m_new_conn\u001b[0;34m(self)\u001b[0m\n\u001b[1;32m    185\u001b[0m         \u001b[0;32mexcept\u001b[0m \u001b[0mSocketError\u001b[0m \u001b[0;32mas\u001b[0m \u001b[0me\u001b[0m\u001b[0;34m:\u001b[0m\u001b[0;34m\u001b[0m\u001b[0;34m\u001b[0m\u001b[0m\n\u001b[0;32m--> 186\u001b[0;31m             raise NewConnectionError(\n\u001b[0m\u001b[1;32m    187\u001b[0m                 \u001b[0mself\u001b[0m\u001b[0;34m,\u001b[0m \u001b[0;34m\"Failed to establish a new connection: %s\"\u001b[0m \u001b[0;34m%\u001b[0m \u001b[0me\u001b[0m\u001b[0;34m\u001b[0m\u001b[0;34m\u001b[0m\u001b[0m\n",
      "\u001b[0;31mNewConnectionError\u001b[0m: <urllib3.connection.HTTPConnection object at 0x7fabad77ee20>: Failed to establish a new connection: [Errno 61] Connection refused",
      "\nDuring handling of the above exception, another exception occurred:\n",
      "\u001b[0;31mMaxRetryError\u001b[0m                             Traceback (most recent call last)",
      "\u001b[0;32m/var/folders/_n/g7dsgr5d6hs1plzfmyy449980000gn/T/ipykernel_792/3157431997.py\u001b[0m in \u001b[0;36m<module>\u001b[0;34m\u001b[0m\n\u001b[0;32m----> 1\u001b[0;31m \u001b[0mscrapeo\u001b[0m\u001b[0;34m(\u001b[0m\u001b[0mlinks_1\u001b[0m\u001b[0;34m[\u001b[0m\u001b[0;36m4\u001b[0m\u001b[0;34m]\u001b[0m\u001b[0;34m)\u001b[0m\u001b[0;34m\u001b[0m\u001b[0;34m\u001b[0m\u001b[0m\n\u001b[0m",
      "\u001b[0;32m/var/folders/_n/g7dsgr5d6hs1plzfmyy449980000gn/T/ipykernel_792/2875575459.py\u001b[0m in \u001b[0;36mscrapeo\u001b[0;34m(url)\u001b[0m\n\u001b[1;32m    192\u001b[0m     \u001b[0;31m#KDA jugador\u001b[0m\u001b[0;34m\u001b[0m\u001b[0;34m\u001b[0m\u001b[0m\n\u001b[1;32m    193\u001b[0m \u001b[0;34m\u001b[0m\u001b[0m\n\u001b[0;32m--> 194\u001b[0;31m     \u001b[0mkda_player\u001b[0m \u001b[0;34m=\u001b[0m \u001b[0;34m[\u001b[0m\u001b[0mdriver\u001b[0m\u001b[0;34m.\u001b[0m\u001b[0mfind_elements\u001b[0m\u001b[0;34m(\u001b[0m\u001b[0mBy\u001b[0m\u001b[0;34m.\u001b[0m\u001b[0mCLASS_NAME\u001b[0m\u001b[0;34m,\u001b[0m \u001b[0;34m'number'\u001b[0m\u001b[0;34m)\u001b[0m\u001b[0;34m[\u001b[0m\u001b[0mi\u001b[0m\u001b[0;34m]\u001b[0m\u001b[0;34m.\u001b[0m\u001b[0mtext\u001b[0m \u001b[0;32mfor\u001b[0m \u001b[0mi\u001b[0m \u001b[0;32min\u001b[0m \u001b[0mrange\u001b[0m\u001b[0;34m(\u001b[0m\u001b[0mlen\u001b[0m\u001b[0;34m(\u001b[0m\u001b[0mdriver\u001b[0m\u001b[0;34m.\u001b[0m\u001b[0mfind_elements\u001b[0m\u001b[0;34m(\u001b[0m\u001b[0mBy\u001b[0m\u001b[0;34m.\u001b[0m\u001b[0mCLASS_NAME\u001b[0m\u001b[0;34m,\u001b[0m \u001b[0;34m'number'\u001b[0m\u001b[0;34m)\u001b[0m\u001b[0;34m)\u001b[0m\u001b[0;34m)\u001b[0m\u001b[0;34m]\u001b[0m\u001b[0;34m\u001b[0m\u001b[0;34m\u001b[0m\u001b[0m\n\u001b[0m\u001b[1;32m    195\u001b[0m \u001b[0;34m\u001b[0m\u001b[0m\n\u001b[1;32m    196\u001b[0m     \u001b[0;32mif\u001b[0m \u001b[0;34m'/'\u001b[0m \u001b[0;32min\u001b[0m \u001b[0mkda_player\u001b[0m\u001b[0;34m[\u001b[0m\u001b[0;34m-\u001b[0m\u001b[0;36m4\u001b[0m\u001b[0;34m]\u001b[0m\u001b[0;34m:\u001b[0m\u001b[0;34m\u001b[0m\u001b[0;34m\u001b[0m\u001b[0m\n",
      "\u001b[0;32m~/opt/anaconda3/lib/python3.9/site-packages/selenium/webdriver/remote/webdriver.py\u001b[0m in \u001b[0;36mfind_elements\u001b[0;34m(self, by, value)\u001b[0m\n\u001b[1;32m    858\u001b[0m         \u001b[0;31m# Return empty list if driver returns null\u001b[0m\u001b[0;34m\u001b[0m\u001b[0;34m\u001b[0m\u001b[0m\n\u001b[1;32m    859\u001b[0m         \u001b[0;31m# See https://github.com/SeleniumHQ/selenium/issues/4555\u001b[0m\u001b[0;34m\u001b[0m\u001b[0;34m\u001b[0m\u001b[0m\n\u001b[0;32m--> 860\u001b[0;31m         \u001b[0;32mreturn\u001b[0m \u001b[0mself\u001b[0m\u001b[0;34m.\u001b[0m\u001b[0mexecute\u001b[0m\u001b[0;34m(\u001b[0m\u001b[0mCommand\u001b[0m\u001b[0;34m.\u001b[0m\u001b[0mFIND_ELEMENTS\u001b[0m\u001b[0;34m,\u001b[0m \u001b[0;34m{\u001b[0m\u001b[0;34m\"using\"\u001b[0m\u001b[0;34m:\u001b[0m \u001b[0mby\u001b[0m\u001b[0;34m,\u001b[0m \u001b[0;34m\"value\"\u001b[0m\u001b[0;34m:\u001b[0m \u001b[0mvalue\u001b[0m\u001b[0;34m}\u001b[0m\u001b[0;34m)\u001b[0m\u001b[0;34m[\u001b[0m\u001b[0;34m\"value\"\u001b[0m\u001b[0;34m]\u001b[0m \u001b[0;32mor\u001b[0m \u001b[0;34m[\u001b[0m\u001b[0;34m]\u001b[0m\u001b[0;34m\u001b[0m\u001b[0;34m\u001b[0m\u001b[0m\n\u001b[0m\u001b[1;32m    861\u001b[0m \u001b[0;34m\u001b[0m\u001b[0m\n\u001b[1;32m    862\u001b[0m     \u001b[0;34m@\u001b[0m\u001b[0mproperty\u001b[0m\u001b[0;34m\u001b[0m\u001b[0;34m\u001b[0m\u001b[0m\n",
      "\u001b[0;32m~/opt/anaconda3/lib/python3.9/site-packages/selenium/webdriver/remote/webdriver.py\u001b[0m in \u001b[0;36mexecute\u001b[0;34m(self, driver_command, params)\u001b[0m\n\u001b[1;32m    436\u001b[0m                 \u001b[0mparams\u001b[0m\u001b[0;34m[\u001b[0m\u001b[0;34m\"sessionId\"\u001b[0m\u001b[0;34m]\u001b[0m \u001b[0;34m=\u001b[0m \u001b[0mself\u001b[0m\u001b[0;34m.\u001b[0m\u001b[0msession_id\u001b[0m\u001b[0;34m\u001b[0m\u001b[0;34m\u001b[0m\u001b[0m\n\u001b[1;32m    437\u001b[0m \u001b[0;34m\u001b[0m\u001b[0m\n\u001b[0;32m--> 438\u001b[0;31m         \u001b[0mresponse\u001b[0m \u001b[0;34m=\u001b[0m \u001b[0mself\u001b[0m\u001b[0;34m.\u001b[0m\u001b[0mcommand_executor\u001b[0m\u001b[0;34m.\u001b[0m\u001b[0mexecute\u001b[0m\u001b[0;34m(\u001b[0m\u001b[0mdriver_command\u001b[0m\u001b[0;34m,\u001b[0m \u001b[0mparams\u001b[0m\u001b[0;34m)\u001b[0m\u001b[0;34m\u001b[0m\u001b[0;34m\u001b[0m\u001b[0m\n\u001b[0m\u001b[1;32m    439\u001b[0m         \u001b[0;32mif\u001b[0m \u001b[0mresponse\u001b[0m\u001b[0;34m:\u001b[0m\u001b[0;34m\u001b[0m\u001b[0;34m\u001b[0m\u001b[0m\n\u001b[1;32m    440\u001b[0m             \u001b[0mself\u001b[0m\u001b[0;34m.\u001b[0m\u001b[0merror_handler\u001b[0m\u001b[0;34m.\u001b[0m\u001b[0mcheck_response\u001b[0m\u001b[0;34m(\u001b[0m\u001b[0mresponse\u001b[0m\u001b[0;34m)\u001b[0m\u001b[0;34m\u001b[0m\u001b[0;34m\u001b[0m\u001b[0m\n",
      "\u001b[0;32m~/opt/anaconda3/lib/python3.9/site-packages/selenium/webdriver/remote/remote_connection.py\u001b[0m in \u001b[0;36mexecute\u001b[0;34m(self, command, params)\u001b[0m\n\u001b[1;32m    288\u001b[0m         \u001b[0mdata\u001b[0m \u001b[0;34m=\u001b[0m \u001b[0mutils\u001b[0m\u001b[0;34m.\u001b[0m\u001b[0mdump_json\u001b[0m\u001b[0;34m(\u001b[0m\u001b[0mparams\u001b[0m\u001b[0;34m)\u001b[0m\u001b[0;34m\u001b[0m\u001b[0;34m\u001b[0m\u001b[0m\n\u001b[1;32m    289\u001b[0m         \u001b[0murl\u001b[0m \u001b[0;34m=\u001b[0m \u001b[0;34mf\"{self._url}{path}\"\u001b[0m\u001b[0;34m\u001b[0m\u001b[0;34m\u001b[0m\u001b[0m\n\u001b[0;32m--> 290\u001b[0;31m         \u001b[0;32mreturn\u001b[0m \u001b[0mself\u001b[0m\u001b[0;34m.\u001b[0m\u001b[0m_request\u001b[0m\u001b[0;34m(\u001b[0m\u001b[0mcommand_info\u001b[0m\u001b[0;34m[\u001b[0m\u001b[0;36m0\u001b[0m\u001b[0;34m]\u001b[0m\u001b[0;34m,\u001b[0m \u001b[0murl\u001b[0m\u001b[0;34m,\u001b[0m \u001b[0mbody\u001b[0m\u001b[0;34m=\u001b[0m\u001b[0mdata\u001b[0m\u001b[0;34m)\u001b[0m\u001b[0;34m\u001b[0m\u001b[0;34m\u001b[0m\u001b[0m\n\u001b[0m\u001b[1;32m    291\u001b[0m \u001b[0;34m\u001b[0m\u001b[0m\n\u001b[1;32m    292\u001b[0m     \u001b[0;32mdef\u001b[0m \u001b[0m_request\u001b[0m\u001b[0;34m(\u001b[0m\u001b[0mself\u001b[0m\u001b[0;34m,\u001b[0m \u001b[0mmethod\u001b[0m\u001b[0;34m,\u001b[0m \u001b[0murl\u001b[0m\u001b[0;34m,\u001b[0m \u001b[0mbody\u001b[0m\u001b[0;34m=\u001b[0m\u001b[0;32mNone\u001b[0m\u001b[0;34m)\u001b[0m\u001b[0;34m:\u001b[0m\u001b[0;34m\u001b[0m\u001b[0;34m\u001b[0m\u001b[0m\n",
      "\u001b[0;32m~/opt/anaconda3/lib/python3.9/site-packages/selenium/webdriver/remote/remote_connection.py\u001b[0m in \u001b[0;36m_request\u001b[0;34m(self, method, url, body)\u001b[0m\n\u001b[1;32m    309\u001b[0m \u001b[0;34m\u001b[0m\u001b[0m\n\u001b[1;32m    310\u001b[0m         \u001b[0;32mif\u001b[0m \u001b[0mself\u001b[0m\u001b[0;34m.\u001b[0m\u001b[0mkeep_alive\u001b[0m\u001b[0;34m:\u001b[0m\u001b[0;34m\u001b[0m\u001b[0;34m\u001b[0m\u001b[0m\n\u001b[0;32m--> 311\u001b[0;31m             \u001b[0mresponse\u001b[0m \u001b[0;34m=\u001b[0m \u001b[0mself\u001b[0m\u001b[0;34m.\u001b[0m\u001b[0m_conn\u001b[0m\u001b[0;34m.\u001b[0m\u001b[0mrequest\u001b[0m\u001b[0;34m(\u001b[0m\u001b[0mmethod\u001b[0m\u001b[0;34m,\u001b[0m \u001b[0murl\u001b[0m\u001b[0;34m,\u001b[0m \u001b[0mbody\u001b[0m\u001b[0;34m=\u001b[0m\u001b[0mbody\u001b[0m\u001b[0;34m,\u001b[0m \u001b[0mheaders\u001b[0m\u001b[0;34m=\u001b[0m\u001b[0mheaders\u001b[0m\u001b[0;34m)\u001b[0m\u001b[0;34m\u001b[0m\u001b[0;34m\u001b[0m\u001b[0m\n\u001b[0m\u001b[1;32m    312\u001b[0m             \u001b[0mstatuscode\u001b[0m \u001b[0;34m=\u001b[0m \u001b[0mresponse\u001b[0m\u001b[0;34m.\u001b[0m\u001b[0mstatus\u001b[0m\u001b[0;34m\u001b[0m\u001b[0;34m\u001b[0m\u001b[0m\n\u001b[1;32m    313\u001b[0m         \u001b[0;32melse\u001b[0m\u001b[0;34m:\u001b[0m\u001b[0;34m\u001b[0m\u001b[0;34m\u001b[0m\u001b[0m\n",
      "\u001b[0;32m~/opt/anaconda3/lib/python3.9/site-packages/urllib3/request.py\u001b[0m in \u001b[0;36mrequest\u001b[0;34m(self, method, url, fields, headers, **urlopen_kw)\u001b[0m\n\u001b[1;32m     76\u001b[0m             )\n\u001b[1;32m     77\u001b[0m         \u001b[0;32melse\u001b[0m\u001b[0;34m:\u001b[0m\u001b[0;34m\u001b[0m\u001b[0;34m\u001b[0m\u001b[0m\n\u001b[0;32m---> 78\u001b[0;31m             return self.request_encode_body(\n\u001b[0m\u001b[1;32m     79\u001b[0m                 \u001b[0mmethod\u001b[0m\u001b[0;34m,\u001b[0m \u001b[0murl\u001b[0m\u001b[0;34m,\u001b[0m \u001b[0mfields\u001b[0m\u001b[0;34m=\u001b[0m\u001b[0mfields\u001b[0m\u001b[0;34m,\u001b[0m \u001b[0mheaders\u001b[0m\u001b[0;34m=\u001b[0m\u001b[0mheaders\u001b[0m\u001b[0;34m,\u001b[0m \u001b[0;34m**\u001b[0m\u001b[0murlopen_kw\u001b[0m\u001b[0;34m\u001b[0m\u001b[0;34m\u001b[0m\u001b[0m\n\u001b[1;32m     80\u001b[0m             )\n",
      "\u001b[0;32m~/opt/anaconda3/lib/python3.9/site-packages/urllib3/request.py\u001b[0m in \u001b[0;36mrequest_encode_body\u001b[0;34m(self, method, url, fields, headers, encode_multipart, multipart_boundary, **urlopen_kw)\u001b[0m\n\u001b[1;32m    168\u001b[0m         \u001b[0mextra_kw\u001b[0m\u001b[0;34m.\u001b[0m\u001b[0mupdate\u001b[0m\u001b[0;34m(\u001b[0m\u001b[0murlopen_kw\u001b[0m\u001b[0;34m)\u001b[0m\u001b[0;34m\u001b[0m\u001b[0;34m\u001b[0m\u001b[0m\n\u001b[1;32m    169\u001b[0m \u001b[0;34m\u001b[0m\u001b[0m\n\u001b[0;32m--> 170\u001b[0;31m         \u001b[0;32mreturn\u001b[0m \u001b[0mself\u001b[0m\u001b[0;34m.\u001b[0m\u001b[0murlopen\u001b[0m\u001b[0;34m(\u001b[0m\u001b[0mmethod\u001b[0m\u001b[0;34m,\u001b[0m \u001b[0murl\u001b[0m\u001b[0;34m,\u001b[0m \u001b[0;34m**\u001b[0m\u001b[0mextra_kw\u001b[0m\u001b[0;34m)\u001b[0m\u001b[0;34m\u001b[0m\u001b[0;34m\u001b[0m\u001b[0m\n\u001b[0m",
      "\u001b[0;32m~/opt/anaconda3/lib/python3.9/site-packages/urllib3/poolmanager.py\u001b[0m in \u001b[0;36murlopen\u001b[0;34m(self, method, url, redirect, **kw)\u001b[0m\n\u001b[1;32m    374\u001b[0m             \u001b[0mresponse\u001b[0m \u001b[0;34m=\u001b[0m \u001b[0mconn\u001b[0m\u001b[0;34m.\u001b[0m\u001b[0murlopen\u001b[0m\u001b[0;34m(\u001b[0m\u001b[0mmethod\u001b[0m\u001b[0;34m,\u001b[0m \u001b[0murl\u001b[0m\u001b[0;34m,\u001b[0m \u001b[0;34m**\u001b[0m\u001b[0mkw\u001b[0m\u001b[0;34m)\u001b[0m\u001b[0;34m\u001b[0m\u001b[0;34m\u001b[0m\u001b[0m\n\u001b[1;32m    375\u001b[0m         \u001b[0;32melse\u001b[0m\u001b[0;34m:\u001b[0m\u001b[0;34m\u001b[0m\u001b[0;34m\u001b[0m\u001b[0m\n\u001b[0;32m--> 376\u001b[0;31m             \u001b[0mresponse\u001b[0m \u001b[0;34m=\u001b[0m \u001b[0mconn\u001b[0m\u001b[0;34m.\u001b[0m\u001b[0murlopen\u001b[0m\u001b[0;34m(\u001b[0m\u001b[0mmethod\u001b[0m\u001b[0;34m,\u001b[0m \u001b[0mu\u001b[0m\u001b[0;34m.\u001b[0m\u001b[0mrequest_uri\u001b[0m\u001b[0;34m,\u001b[0m \u001b[0;34m**\u001b[0m\u001b[0mkw\u001b[0m\u001b[0;34m)\u001b[0m\u001b[0;34m\u001b[0m\u001b[0;34m\u001b[0m\u001b[0m\n\u001b[0m\u001b[1;32m    377\u001b[0m \u001b[0;34m\u001b[0m\u001b[0m\n\u001b[1;32m    378\u001b[0m         \u001b[0mredirect_location\u001b[0m \u001b[0;34m=\u001b[0m \u001b[0mredirect\u001b[0m \u001b[0;32mand\u001b[0m \u001b[0mresponse\u001b[0m\u001b[0;34m.\u001b[0m\u001b[0mget_redirect_location\u001b[0m\u001b[0;34m(\u001b[0m\u001b[0;34m)\u001b[0m\u001b[0;34m\u001b[0m\u001b[0;34m\u001b[0m\u001b[0m\n",
      "\u001b[0;32m~/opt/anaconda3/lib/python3.9/site-packages/urllib3/connectionpool.py\u001b[0m in \u001b[0;36murlopen\u001b[0;34m(self, method, url, body, headers, retries, redirect, assert_same_host, timeout, pool_timeout, release_conn, chunked, body_pos, **response_kw)\u001b[0m\n\u001b[1;32m    813\u001b[0m                 \u001b[0;34m\"Retrying (%r) after connection broken by '%r': %s\"\u001b[0m\u001b[0;34m,\u001b[0m \u001b[0mretries\u001b[0m\u001b[0;34m,\u001b[0m \u001b[0merr\u001b[0m\u001b[0;34m,\u001b[0m \u001b[0murl\u001b[0m\u001b[0;34m\u001b[0m\u001b[0;34m\u001b[0m\u001b[0m\n\u001b[1;32m    814\u001b[0m             )\n\u001b[0;32m--> 815\u001b[0;31m             return self.urlopen(\n\u001b[0m\u001b[1;32m    816\u001b[0m                 \u001b[0mmethod\u001b[0m\u001b[0;34m,\u001b[0m\u001b[0;34m\u001b[0m\u001b[0;34m\u001b[0m\u001b[0m\n\u001b[1;32m    817\u001b[0m                 \u001b[0murl\u001b[0m\u001b[0;34m,\u001b[0m\u001b[0;34m\u001b[0m\u001b[0;34m\u001b[0m\u001b[0m\n",
      "\u001b[0;32m~/opt/anaconda3/lib/python3.9/site-packages/urllib3/connectionpool.py\u001b[0m in \u001b[0;36murlopen\u001b[0;34m(self, method, url, body, headers, retries, redirect, assert_same_host, timeout, pool_timeout, release_conn, chunked, body_pos, **response_kw)\u001b[0m\n\u001b[1;32m    813\u001b[0m                 \u001b[0;34m\"Retrying (%r) after connection broken by '%r': %s\"\u001b[0m\u001b[0;34m,\u001b[0m \u001b[0mretries\u001b[0m\u001b[0;34m,\u001b[0m \u001b[0merr\u001b[0m\u001b[0;34m,\u001b[0m \u001b[0murl\u001b[0m\u001b[0;34m\u001b[0m\u001b[0;34m\u001b[0m\u001b[0m\n\u001b[1;32m    814\u001b[0m             )\n\u001b[0;32m--> 815\u001b[0;31m             return self.urlopen(\n\u001b[0m\u001b[1;32m    816\u001b[0m                 \u001b[0mmethod\u001b[0m\u001b[0;34m,\u001b[0m\u001b[0;34m\u001b[0m\u001b[0;34m\u001b[0m\u001b[0m\n\u001b[1;32m    817\u001b[0m                 \u001b[0murl\u001b[0m\u001b[0;34m,\u001b[0m\u001b[0;34m\u001b[0m\u001b[0;34m\u001b[0m\u001b[0m\n",
      "\u001b[0;32m~/opt/anaconda3/lib/python3.9/site-packages/urllib3/connectionpool.py\u001b[0m in \u001b[0;36murlopen\u001b[0;34m(self, method, url, body, headers, retries, redirect, assert_same_host, timeout, pool_timeout, release_conn, chunked, body_pos, **response_kw)\u001b[0m\n\u001b[1;32m    813\u001b[0m                 \u001b[0;34m\"Retrying (%r) after connection broken by '%r': %s\"\u001b[0m\u001b[0;34m,\u001b[0m \u001b[0mretries\u001b[0m\u001b[0;34m,\u001b[0m \u001b[0merr\u001b[0m\u001b[0;34m,\u001b[0m \u001b[0murl\u001b[0m\u001b[0;34m\u001b[0m\u001b[0;34m\u001b[0m\u001b[0m\n\u001b[1;32m    814\u001b[0m             )\n\u001b[0;32m--> 815\u001b[0;31m             return self.urlopen(\n\u001b[0m\u001b[1;32m    816\u001b[0m                 \u001b[0mmethod\u001b[0m\u001b[0;34m,\u001b[0m\u001b[0;34m\u001b[0m\u001b[0;34m\u001b[0m\u001b[0m\n\u001b[1;32m    817\u001b[0m                 \u001b[0murl\u001b[0m\u001b[0;34m,\u001b[0m\u001b[0;34m\u001b[0m\u001b[0;34m\u001b[0m\u001b[0m\n",
      "\u001b[0;32m~/opt/anaconda3/lib/python3.9/site-packages/urllib3/connectionpool.py\u001b[0m in \u001b[0;36murlopen\u001b[0;34m(self, method, url, body, headers, retries, redirect, assert_same_host, timeout, pool_timeout, release_conn, chunked, body_pos, **response_kw)\u001b[0m\n\u001b[1;32m    785\u001b[0m                 \u001b[0me\u001b[0m \u001b[0;34m=\u001b[0m \u001b[0mProtocolError\u001b[0m\u001b[0;34m(\u001b[0m\u001b[0;34m\"Connection aborted.\"\u001b[0m\u001b[0;34m,\u001b[0m \u001b[0me\u001b[0m\u001b[0;34m)\u001b[0m\u001b[0;34m\u001b[0m\u001b[0;34m\u001b[0m\u001b[0m\n\u001b[1;32m    786\u001b[0m \u001b[0;34m\u001b[0m\u001b[0m\n\u001b[0;32m--> 787\u001b[0;31m             retries = retries.increment(\n\u001b[0m\u001b[1;32m    788\u001b[0m                 \u001b[0mmethod\u001b[0m\u001b[0;34m,\u001b[0m \u001b[0murl\u001b[0m\u001b[0;34m,\u001b[0m \u001b[0merror\u001b[0m\u001b[0;34m=\u001b[0m\u001b[0me\u001b[0m\u001b[0;34m,\u001b[0m \u001b[0m_pool\u001b[0m\u001b[0;34m=\u001b[0m\u001b[0mself\u001b[0m\u001b[0;34m,\u001b[0m \u001b[0m_stacktrace\u001b[0m\u001b[0;34m=\u001b[0m\u001b[0msys\u001b[0m\u001b[0;34m.\u001b[0m\u001b[0mexc_info\u001b[0m\u001b[0;34m(\u001b[0m\u001b[0;34m)\u001b[0m\u001b[0;34m[\u001b[0m\u001b[0;36m2\u001b[0m\u001b[0;34m]\u001b[0m\u001b[0;34m\u001b[0m\u001b[0;34m\u001b[0m\u001b[0m\n\u001b[1;32m    789\u001b[0m             )\n",
      "\u001b[0;32m~/opt/anaconda3/lib/python3.9/site-packages/urllib3/util/retry.py\u001b[0m in \u001b[0;36mincrement\u001b[0;34m(self, method, url, response, error, _pool, _stacktrace)\u001b[0m\n\u001b[1;32m    590\u001b[0m \u001b[0;34m\u001b[0m\u001b[0m\n\u001b[1;32m    591\u001b[0m         \u001b[0;32mif\u001b[0m \u001b[0mnew_retry\u001b[0m\u001b[0;34m.\u001b[0m\u001b[0mis_exhausted\u001b[0m\u001b[0;34m(\u001b[0m\u001b[0;34m)\u001b[0m\u001b[0;34m:\u001b[0m\u001b[0;34m\u001b[0m\u001b[0;34m\u001b[0m\u001b[0m\n\u001b[0;32m--> 592\u001b[0;31m             \u001b[0;32mraise\u001b[0m \u001b[0mMaxRetryError\u001b[0m\u001b[0;34m(\u001b[0m\u001b[0m_pool\u001b[0m\u001b[0;34m,\u001b[0m \u001b[0murl\u001b[0m\u001b[0;34m,\u001b[0m \u001b[0merror\u001b[0m \u001b[0;32mor\u001b[0m \u001b[0mResponseError\u001b[0m\u001b[0;34m(\u001b[0m\u001b[0mcause\u001b[0m\u001b[0;34m)\u001b[0m\u001b[0;34m)\u001b[0m\u001b[0;34m\u001b[0m\u001b[0;34m\u001b[0m\u001b[0m\n\u001b[0m\u001b[1;32m    593\u001b[0m \u001b[0;34m\u001b[0m\u001b[0m\n\u001b[1;32m    594\u001b[0m         \u001b[0mlog\u001b[0m\u001b[0;34m.\u001b[0m\u001b[0mdebug\u001b[0m\u001b[0;34m(\u001b[0m\u001b[0;34m\"Incremented Retry for (url='%s'): %r\"\u001b[0m\u001b[0;34m,\u001b[0m \u001b[0murl\u001b[0m\u001b[0;34m,\u001b[0m \u001b[0mnew_retry\u001b[0m\u001b[0;34m)\u001b[0m\u001b[0;34m\u001b[0m\u001b[0;34m\u001b[0m\u001b[0m\n",
      "\u001b[0;31mMaxRetryError\u001b[0m: HTTPConnectionPool(host='localhost', port=49900): Max retries exceeded with url: /session/ce4a1d5bd769d6a404aa868318f726c8/elements (Caused by NewConnectionError('<urllib3.connection.HTTPConnection object at 0x7fabad77ee20>: Failed to establish a new connection: [Errno 61] Connection refused'))"
     ]
    }
   ],
   "source": [
    "scrapeo_player(links_1[4])"
   ]
  },
  {
   "cell_type": "code",
   "execution_count": 12,
   "id": "3d69cd1c",
   "metadata": {},
   "outputs": [],
   "source": [
    "import multiprocessing as mp\n",
    "from multiprocessing import get_context\n",
    "from funciones import *                      # Documento .py externo donde almaceno las funciones para poder hacer el map\n",
    "                                           # RUTA: ETL-Project/src/funcion.py\n",
    "pool = mp.Pool(mp.cpu_count())"
   ]
  },
  {
   "cell_type": "code",
   "execution_count": 13,
   "id": "10a1ac5a",
   "metadata": {},
   "outputs": [],
   "source": [
    "data = pool.map(scrapeo_player, links_1[:5])"
   ]
  },
  {
   "cell_type": "code",
   "execution_count": 14,
   "id": "7c0a94b4",
   "metadata": {
    "scrolled": true
   },
   "outputs": [
    {
     "data": {
      "text/plain": [
       "[{'nombre_invocador': '6K OnFleek',\n",
       "  'region': 'NA',\n",
       "  'liga': 'Challenger',\n",
       "  'lps': '1859',\n",
       "  'cola': 'Soloqueue',\n",
       "  'ranking_mundial': '1',\n",
       "  'ranking_porcentaje': 'Top 0.000010%',\n",
       "  'wins': '150',\n",
       "  'loses': '111',\n",
       "  'n_games': '260',\n",
       "  'winrate_total': '57.7'},\n",
       " {'nombre_invocador': 'Noah7',\n",
       "  'region': 'EUW',\n",
       "  'liga': 'Challenger',\n",
       "  'lps': '1782',\n",
       "  'cola': 'Soloqueue',\n",
       "  'ranking_mundial': '2',\n",
       "  'ranking_porcentaje': 'Top 0.000021%',\n",
       "  'wins': '243',\n",
       "  'loses': '159',\n",
       "  'n_games': '402',\n",
       "  'winrate_total': '60.7'},\n",
       " {'nombre_invocador': 'frosty',\n",
       "  'region': 'BR',\n",
       "  'liga': 'Challenger',\n",
       "  'lps': '1760',\n",
       "  'cola': 'Soloqueue',\n",
       "  'ranking_mundial': '3',\n",
       "  'ranking_porcentaje': 'Top 0.000032%',\n",
       "  'wins': '194',\n",
       "  'loses': '141',\n",
       "  'n_games': '336',\n",
       "  'winrate_total': '57.7'},\n",
       " {'nombre_invocador': 'Agurin',\n",
       "  'region': 'EUW',\n",
       "  'liga': 'Challenger',\n",
       "  'lps': '1720',\n",
       "  'cola': 'Soloqueue',\n",
       "  'ranking_mundial': '4',\n",
       "  'ranking_porcentaje': 'Top 0.000043%',\n",
       "  'wins': '238',\n",
       "  'loses': '172',\n",
       "  'n_games': '430',\n",
       "  'winrate_total': '57.4'},\n",
       " {'nombre_invocador': 'FURIA Ayu',\n",
       "  'region': 'BR',\n",
       "  'liga': 'Challenger',\n",
       "  'lps': '1701',\n",
       "  'cola': 'Soloqueue',\n",
       "  'ranking_mundial': '5',\n",
       "  'ranking_porcentaje': 'Top 0.000054%',\n",
       "  'wins': '120',\n",
       "  'loses': '76',\n",
       "  'n_games': '196',\n",
       "  'winrate_total': '61.2'}]"
      ]
     },
     "execution_count": 14,
     "metadata": {},
     "output_type": "execute_result"
    }
   ],
   "source": [
    "data"
   ]
  },
  {
   "cell_type": "code",
   "execution_count": 24,
   "id": "1b9a008b",
   "metadata": {},
   "outputs": [],
   "source": [
    "import multiprocessing as mp\n",
    "from multiprocessing import get_context\n",
    "from scrapeo_champ import *                      # Documento .py externo donde almaceno las funciones para poder hacer el map\n",
    "                                           # RUTA: ETL-Project/src/funcion.py\n",
    "pool = mp.Pool(mp.cpu_count())"
   ]
  },
  {
   "cell_type": "code",
   "execution_count": 25,
   "id": "af20ceb4",
   "metadata": {},
   "outputs": [],
   "source": [
    "data_champs = pool.map(scrapeo_champs, links_1[:5])"
   ]
  },
  {
   "cell_type": "code",
   "execution_count": 26,
   "id": "2bdbf1c5",
   "metadata": {},
   "outputs": [
    {
     "data": {
      "text/plain": [
       "[{'champ_1': 'Sylas',\n",
       "  'regional_rank_1': '(NA: 1)',\n",
       "  'kills_champ_1': '9.1',\n",
       "  'deaths_champ_1': '4.8',\n",
       "  'assists_champ_1': '6.5',\n",
       "  'games_champ_1': '44',\n",
       "  'winrate_champ_1': '50.0',\n",
       "  'champ_2': 'Jax',\n",
       "  'regional_rank_2': '133',\n",
       "  'kills_champ_2': '5.5',\n",
       "  'deaths_champ_2': '4.5',\n",
       "  'assists_champ_2': '3.2',\n",
       "  'games_champ_2': '32',\n",
       "  'winrate_champ_2': '65.6',\n",
       "  'champ_3': 'Vi',\n",
       "  'regional_rank_3': '146',\n",
       "  'kills_champ_3': '6.2',\n",
       "  'deaths_champ_3': '5.1',\n",
       "  'assists_champ_3': '8.9',\n",
       "  'games_champ_3': '30',\n",
       "  'winrate_champ_3': '63.3',\n",
       "  'champ_4': 'Lee Sin',\n",
       "  'regional_rank_4': '102',\n",
       "  'kills_champ_4': '6.3',\n",
       "  'deaths_champ_4': '4.4',\n",
       "  'assists_champ_4': '7.6',\n",
       "  'games_champ_4': '24',\n",
       "  'winrate_champ_4': '58.3',\n",
       "  'champ_5': 'Elise',\n",
       "  'regional_rank_5': '318',\n",
       "  'kills_champ_5': '6.9',\n",
       "  'deaths_champ_5': '4.4',\n",
       "  'assists_champ_5': '8.9',\n",
       "  'games_champ_5': '16',\n",
       "  'winrate_champ_5': '68.8',\n",
       "  'champ_6': 'Viego',\n",
       "  'regional_rank_6': '460',\n",
       "  'kills_champ_6': '6.3',\n",
       "  'deaths_champ_6': '4.7',\n",
       "  'assists_champ_6': '7.4',\n",
       "  'games_champ_6': '16',\n",
       "  'winrate_champ_6': '68.8',\n",
       "  'champ_7': 'Maokai',\n",
       "  'regional_rank_7': '249',\n",
       "  'kills_champ_7': '4.6',\n",
       "  'deaths_champ_7': '4.1',\n",
       "  'assists_champ_7': '9.9',\n",
       "  'games_champ_7': '16',\n",
       "  'winrate_champ_7': '56.3',\n",
       "  'champ_8': 'Kindred',\n",
       "  'regional_rank_8': '1,830',\n",
       "  'kills_champ_8': '6.3',\n",
       "  'deaths_champ_8': '6.2',\n",
       "  'assists_champ_8': '8.6',\n",
       "  'games_champ_8': '13',\n",
       "  'winrate_champ_8': '53.8'},\n",
       " {'champ_1': 'Zeri',\n",
       "  'regional_rank_1': '(EUW: 1)',\n",
       "  'kills_champ_1': '10.0',\n",
       "  'deaths_champ_1': '5.5',\n",
       "  'assists_champ_1': '7.5',\n",
       "  'games_champ_1': '102',\n",
       "  'winrate_champ_1': '65.7',\n",
       "  'champ_2': 'Lucian',\n",
       "  'regional_rank_2': '16',\n",
       "  'kills_champ_2': '10.4',\n",
       "  'deaths_champ_2': '6.1',\n",
       "  'assists_champ_2': '7.9',\n",
       "  'games_champ_2': '54',\n",
       "  'winrate_champ_2': '66.7',\n",
       "  'champ_3': 'Ezreal',\n",
       "  'regional_rank_3': '2',\n",
       "  'kills_champ_3': '8.4',\n",
       "  'deaths_champ_3': '5.0',\n",
       "  'assists_champ_3': '6.6',\n",
       "  'games_champ_3': '49',\n",
       "  'winrate_champ_3': '59.2',\n",
       "  'champ_4': 'Graves',\n",
       "  'regional_rank_4': '53',\n",
       "  'kills_champ_4': '8.9',\n",
       "  'deaths_champ_4': '4.4',\n",
       "  'assists_champ_4': '7.9',\n",
       "  'games_champ_4': '47',\n",
       "  'winrate_champ_4': '59.6',\n",
       "  'champ_5': 'Caitlyn',\n",
       "  'regional_rank_5': '25',\n",
       "  'kills_champ_5': '6.8',\n",
       "  'deaths_champ_5': '5.8',\n",
       "  'assists_champ_5': '6.3',\n",
       "  'games_champ_5': '30',\n",
       "  'winrate_champ_5': '53.3',\n",
       "  'champ_6': 'Varus',\n",
       "  'regional_rank_6': '4,388',\n",
       "  'kills_champ_6': '9.0',\n",
       "  'deaths_champ_6': '6.6',\n",
       "  'assists_champ_6': '8.6',\n",
       "  'games_champ_6': '25',\n",
       "  'winrate_champ_6': '52.0',\n",
       "  'champ_7': \"Kai'Sa\",\n",
       "  'regional_rank_7': '2,302',\n",
       "  'kills_champ_7': '10.2',\n",
       "  'deaths_champ_7': '5.7',\n",
       "  'assists_champ_7': '6.6',\n",
       "  'games_champ_7': '22',\n",
       "  'winrate_champ_7': '68.2',\n",
       "  'champ_8': 'Lee Sin',\n",
       "  'regional_rank_8': '1,329',\n",
       "  'kills_champ_8': '7.3',\n",
       "  'deaths_champ_8': '7.3',\n",
       "  'assists_champ_8': '10.9',\n",
       "  'games_champ_8': '16',\n",
       "  'winrate_champ_8': '43.8'},\n",
       " {'champ_1': 'Ashe',\n",
       "  'regional_rank_1': '(BR: 1)',\n",
       "  'kills_champ_1': '3.6',\n",
       "  'deaths_champ_1': '4.9',\n",
       "  'assists_champ_1': '13.5',\n",
       "  'games_champ_1': '68',\n",
       "  'winrate_champ_1': '52.9',\n",
       "  'champ_2': 'Karma',\n",
       "  'regional_rank_2': '22',\n",
       "  'kills_champ_2': '4.2',\n",
       "  'deaths_champ_2': '4.5',\n",
       "  'assists_champ_2': '16.8',\n",
       "  'games_champ_2': '34',\n",
       "  'winrate_champ_2': '64.7',\n",
       "  'champ_3': 'Heimerdinger',\n",
       "  'regional_rank_3': '78',\n",
       "  'kills_champ_3': '4.6',\n",
       "  'deaths_champ_3': '5.4',\n",
       "  'assists_champ_3': '11.6',\n",
       "  'games_champ_3': '34',\n",
       "  'winrate_champ_3': '58.8',\n",
       "  'champ_4': 'Rakan',\n",
       "  'regional_rank_4': '37',\n",
       "  'kills_champ_4': '2.0',\n",
       "  'deaths_champ_4': '4.1',\n",
       "  'assists_champ_4': '17.4',\n",
       "  'games_champ_4': '33',\n",
       "  'winrate_champ_4': '60.6',\n",
       "  'champ_5': 'Ezreal',\n",
       "  'regional_rank_5': '79',\n",
       "  'kills_champ_5': '8.6',\n",
       "  'deaths_champ_5': '5.3',\n",
       "  'assists_champ_5': '7.2',\n",
       "  'games_champ_5': '29',\n",
       "  'winrate_champ_5': '55.2',\n",
       "  'champ_6': 'Zeri',\n",
       "  'regional_rank_6': '342',\n",
       "  'kills_champ_6': '9.3',\n",
       "  'deaths_champ_6': '4.4',\n",
       "  'assists_champ_6': '6.8',\n",
       "  'games_champ_6': '23',\n",
       "  'winrate_champ_6': '73.9',\n",
       "  'champ_7': 'Nautilus',\n",
       "  'regional_rank_7': '156',\n",
       "  'kills_champ_7': '2.2',\n",
       "  'deaths_champ_7': '4.8',\n",
       "  'assists_champ_7': '14.8',\n",
       "  'games_champ_7': '17',\n",
       "  'winrate_champ_7': '58.8',\n",
       "  'champ_8': 'Varus',\n",
       "  'regional_rank_8': '274',\n",
       "  'kills_champ_8': '7.9',\n",
       "  'deaths_champ_8': '5.3',\n",
       "  'assists_champ_8': '9.5',\n",
       "  'games_champ_8': '16',\n",
       "  'winrate_champ_8': '56.3'},\n",
       " {'champ_1': 'Jarvan IV',\n",
       "  'regional_rank_1': '(EUW: 2)',\n",
       "  'kills_champ_1': '6.2',\n",
       "  'deaths_champ_1': '5.1',\n",
       "  'assists_champ_1': '12.4',\n",
       "  'games_champ_1': '113',\n",
       "  'winrate_champ_1': '59.3',\n",
       "  'champ_2': 'Elise',\n",
       "  'regional_rank_2': '(EUW: 3,532)',\n",
       "  'kills_champ_2': '7.2',\n",
       "  'deaths_champ_2': '3.8',\n",
       "  'assists_champ_2': '6.7',\n",
       "  'games_champ_2': '100',\n",
       "  'winrate_champ_2': '67.0',\n",
       "  'champ_3': 'Wukong',\n",
       "  'regional_rank_3': '44',\n",
       "  'kills_champ_3': '5.9',\n",
       "  'deaths_champ_3': '4.3',\n",
       "  'assists_champ_3': '7.0',\n",
       "  'games_champ_3': '68',\n",
       "  'winrate_champ_3': '55.9',\n",
       "  'champ_4': \"Kha'Zix\",\n",
       "  'regional_rank_4': '4',\n",
       "  'kills_champ_4': '6.5',\n",
       "  'deaths_champ_4': '5.1',\n",
       "  'assists_champ_4': '8.0',\n",
       "  'games_champ_4': '49',\n",
       "  'winrate_champ_4': '53.1',\n",
       "  'champ_5': 'Evelynn',\n",
       "  'regional_rank_5': '67',\n",
       "  'kills_champ_5': '8.2',\n",
       "  'deaths_champ_5': '4.3',\n",
       "  'assists_champ_5': '6.4',\n",
       "  'games_champ_5': '33',\n",
       "  'winrate_champ_5': '54.5',\n",
       "  'champ_6': 'Diana',\n",
       "  'regional_rank_6': '70',\n",
       "  'kills_champ_6': '7.1',\n",
       "  'deaths_champ_6': '5.5',\n",
       "  'assists_champ_6': '6.7',\n",
       "  'games_champ_6': '18',\n",
       "  'winrate_champ_6': '44.4',\n",
       "  'champ_7': 'Karma',\n",
       "  'regional_rank_7': '377',\n",
       "  'kills_champ_7': '2.7',\n",
       "  'deaths_champ_7': '5.2',\n",
       "  'assists_champ_7': '11.5',\n",
       "  'games_champ_7': '13',\n",
       "  'winrate_champ_7': '53.8',\n",
       "  'champ_8': 'Nocturne',\n",
       "  'regional_rank_8': '3,591',\n",
       "  'kills_champ_8': '5.3',\n",
       "  'deaths_champ_8': '5.7',\n",
       "  'assists_champ_8': '6.9',\n",
       "  'games_champ_8': '9',\n",
       "  'winrate_champ_8': '33.3'},\n",
       " {'champ_1': \"Bel'Veth\",\n",
       "  'regional_rank_1': '(BR: 2)',\n",
       "  'kills_champ_1': '4.3',\n",
       "  'deaths_champ_1': '2.3',\n",
       "  'assists_champ_1': '11.3',\n",
       "  'games_champ_1': '28',\n",
       "  'winrate_champ_1': '53.6',\n",
       "  'champ_2': 'Zeri',\n",
       "  'regional_rank_2': '90',\n",
       "  'kills_champ_2': '8.4',\n",
       "  'deaths_champ_2': '3.1',\n",
       "  'assists_champ_2': '7.2',\n",
       "  'games_champ_2': '27',\n",
       "  'winrate_champ_2': '85.2',\n",
       "  'champ_3': 'Rakan',\n",
       "  'regional_rank_3': '45',\n",
       "  'kills_champ_3': '1.3',\n",
       "  'deaths_champ_3': '2.9',\n",
       "  'assists_champ_3': '15.1',\n",
       "  'games_champ_3': '27',\n",
       "  'winrate_champ_3': '63.0',\n",
       "  'champ_4': 'Annie',\n",
       "  'regional_rank_4': '110',\n",
       "  'kills_champ_4': '2.9',\n",
       "  'deaths_champ_4': '2.9',\n",
       "  'assists_champ_4': '14.4',\n",
       "  'games_champ_4': '17',\n",
       "  'winrate_champ_4': '70.6',\n",
       "  'champ_5': 'Ashe',\n",
       "  'regional_rank_5': '211',\n",
       "  'kills_champ_5': '3.8',\n",
       "  'deaths_champ_5': '4.3',\n",
       "  'assists_champ_5': '13.9',\n",
       "  'games_champ_5': '12',\n",
       "  'winrate_champ_5': '66.7',\n",
       "  'champ_6': 'Karma',\n",
       "  'regional_rank_6': '684',\n",
       "  'kills_champ_6': '3.1',\n",
       "  'deaths_champ_6': '3.4',\n",
       "  'assists_champ_6': '13.6',\n",
       "  'games_champ_6': '11',\n",
       "  'winrate_champ_6': '54.5',\n",
       "  'champ_7': 'Varus',\n",
       "  'regional_rank_7': '1,008',\n",
       "  'kills_champ_7': '9.8',\n",
       "  'deaths_champ_7': '4.1',\n",
       "  'assists_champ_7': '7.3',\n",
       "  'games_champ_7': '8',\n",
       "  'winrate_champ_7': '62.5',\n",
       "  'champ_8': 'Nautilus',\n",
       "  'regional_rank_8': '',\n",
       "  'kills_champ_8': '2.6',\n",
       "  'deaths_champ_8': '4.3',\n",
       "  'assists_champ_8': '12.1',\n",
       "  'games_champ_8': '8',\n",
       "  'winrate_champ_8': '37.5'}]"
      ]
     },
     "execution_count": 26,
     "metadata": {},
     "output_type": "execute_result"
    }
   ],
   "source": [
    "data_champs"
   ]
  },
  {
   "cell_type": "code",
   "execution_count": 50,
   "id": "2c571109",
   "metadata": {},
   "outputs": [],
   "source": [
    "import multiprocessing as mp\n",
    "from multiprocessing import get_context\n",
    "from scrapeo_player import *                      \n",
    "                                           \n",
    "pool = mp.Pool(mp.cpu_count())"
   ]
  },
  {
   "cell_type": "code",
   "execution_count": 51,
   "id": "ba0905b2",
   "metadata": {},
   "outputs": [],
   "source": [
    "data_rol = pool.map(scrapeo_rol_kda, links_1[:5])"
   ]
  },
  {
   "cell_type": "code",
   "execution_count": 52,
   "id": "c53bec06",
   "metadata": {},
   "outputs": [
    {
     "data": {
      "text/html": [
       "<div>\n",
       "<style scoped>\n",
       "    .dataframe tbody tr th:only-of-type {\n",
       "        vertical-align: middle;\n",
       "    }\n",
       "\n",
       "    .dataframe tbody tr th {\n",
       "        vertical-align: top;\n",
       "    }\n",
       "\n",
       "    .dataframe thead th {\n",
       "        text-align: right;\n",
       "    }\n",
       "</style>\n",
       "<table border=\"1\" class=\"dataframe\">\n",
       "  <thead>\n",
       "    <tr style=\"text-align: right;\">\n",
       "      <th></th>\n",
       "      <th>kills_player_kda</th>\n",
       "      <th>deaths_player_kda</th>\n",
       "      <th>assists_player_kda</th>\n",
       "      <th>rol_1</th>\n",
       "      <th>games_per_rol_1</th>\n",
       "      <th>winrate_per_rol_1</th>\n",
       "      <th>rol_2</th>\n",
       "      <th>games_per_rol_2</th>\n",
       "      <th>winrate_per_rol_2</th>\n",
       "      <th>rol_3</th>\n",
       "      <th>games_per_rol_3</th>\n",
       "      <th>winrate_per_rol_3</th>\n",
       "    </tr>\n",
       "  </thead>\n",
       "  <tbody>\n",
       "    <tr>\n",
       "      <th>0</th>\n",
       "      <td>6.4</td>\n",
       "      <td>4.6</td>\n",
       "      <td>7.4</td>\n",
       "      <td>Jungler</td>\n",
       "      <td>199</td>\n",
       "      <td>58.3</td>\n",
       "      <td>Top</td>\n",
       "      <td>56</td>\n",
       "      <td>58.9</td>\n",
       "      <td>Mid</td>\n",
       "      <td>5</td>\n",
       "      <td>20.0</td>\n",
       "    </tr>\n",
       "    <tr>\n",
       "      <th>1</th>\n",
       "      <td>9.0</td>\n",
       "      <td>5.5</td>\n",
       "      <td>7.7</td>\n",
       "      <td>AD Carry</td>\n",
       "      <td>327</td>\n",
       "      <td>61.8</td>\n",
       "      <td>Jungler</td>\n",
       "      <td>68</td>\n",
       "      <td>52.9</td>\n",
       "      <td>Support</td>\n",
       "      <td>5</td>\n",
       "      <td>100.0</td>\n",
       "    </tr>\n",
       "    <tr>\n",
       "      <th>2</th>\n",
       "      <td>5.1</td>\n",
       "      <td>5.0</td>\n",
       "      <td>12.4</td>\n",
       "      <td>Support</td>\n",
       "      <td>249</td>\n",
       "      <td>57.4</td>\n",
       "      <td>AD Carry</td>\n",
       "      <td>77</td>\n",
       "      <td>59.7</td>\n",
       "      <td>Mid</td>\n",
       "      <td>6</td>\n",
       "      <td>66.7</td>\n",
       "    </tr>\n",
       "    <tr>\n",
       "      <th>3</th>\n",
       "      <td>6.4</td>\n",
       "      <td>4.6</td>\n",
       "      <td>8.4</td>\n",
       "      <td>Jungler</td>\n",
       "      <td>398</td>\n",
       "      <td>58.0</td>\n",
       "      <td>Top</td>\n",
       "      <td>13</td>\n",
       "      <td>46.2</td>\n",
       "      <td>Mid</td>\n",
       "      <td>7</td>\n",
       "      <td>57.1</td>\n",
       "    </tr>\n",
       "    <tr>\n",
       "      <th>4</th>\n",
       "      <td>4.4</td>\n",
       "      <td>3.2</td>\n",
       "      <td>11.5</td>\n",
       "      <td>Support</td>\n",
       "      <td>146</td>\n",
       "      <td>58.9</td>\n",
       "      <td>AD Carry</td>\n",
       "      <td>50</td>\n",
       "      <td>68.0</td>\n",
       "      <td>NaN</td>\n",
       "      <td>NaN</td>\n",
       "      <td>NaN</td>\n",
       "    </tr>\n",
       "  </tbody>\n",
       "</table>\n",
       "</div>"
      ],
      "text/plain": [
       "  kills_player_kda deaths_player_kda assists_player_kda     rol_1  \\\n",
       "0              6.4               4.6                7.4   Jungler   \n",
       "1              9.0               5.5                7.7  AD Carry   \n",
       "2              5.1               5.0               12.4   Support   \n",
       "3              6.4               4.6                8.4   Jungler   \n",
       "4              4.4               3.2               11.5   Support   \n",
       "\n",
       "  games_per_rol_1 winrate_per_rol_1     rol_2 games_per_rol_2  \\\n",
       "0             199              58.3       Top              56   \n",
       "1             327              61.8   Jungler              68   \n",
       "2             249              57.4  AD Carry              77   \n",
       "3             398              58.0       Top              13   \n",
       "4             146              58.9  AD Carry              50   \n",
       "\n",
       "  winrate_per_rol_2    rol_3 games_per_rol_3 winrate_per_rol_3  \n",
       "0              58.9      Mid               5              20.0  \n",
       "1              52.9  Support               5             100.0  \n",
       "2              59.7      Mid               6              66.7  \n",
       "3              46.2      Mid               7              57.1  \n",
       "4              68.0      NaN             NaN               NaN  "
      ]
     },
     "execution_count": 52,
     "metadata": {},
     "output_type": "execute_result"
    },
    {
     "name": "stderr",
     "output_type": "stream",
     "text": [
      "Process SpawnPoolWorker-41:\n",
      "Process SpawnPoolWorker-44:\n",
      "Process SpawnPoolWorker-42:\n",
      "Process SpawnPoolWorker-43:\n",
      "Process SpawnPoolWorker-30:\n",
      "Process SpawnPoolWorker-32:\n",
      "Traceback (most recent call last):\n",
      "  File \"/Users/Pedro/opt/anaconda3/lib/python3.9/multiprocessing/process.py\", line 315, in _bootstrap\n",
      "    self.run()\n",
      "  File \"/Users/Pedro/opt/anaconda3/lib/python3.9/multiprocessing/process.py\", line 108, in run\n",
      "    self._target(*self._args, **self._kwargs)\n",
      "  File \"/Users/Pedro/opt/anaconda3/lib/python3.9/multiprocessing/pool.py\", line 114, in worker\n",
      "    task = get()\n",
      "  File \"/Users/Pedro/opt/anaconda3/lib/python3.9/multiprocessing/queues.py\", line 364, in get\n",
      "    with self._rlock:\n",
      "  File \"/Users/Pedro/opt/anaconda3/lib/python3.9/multiprocessing/synchronize.py\", line 95, in __enter__\n",
      "    return self._semlock.__enter__()\n",
      "KeyboardInterrupt\n",
      "Traceback (most recent call last):\n",
      "  File \"/Users/Pedro/opt/anaconda3/lib/python3.9/multiprocessing/process.py\", line 315, in _bootstrap\n",
      "    self.run()\n",
      "  File \"/Users/Pedro/opt/anaconda3/lib/python3.9/multiprocessing/process.py\", line 108, in run\n",
      "    self._target(*self._args, **self._kwargs)\n",
      "  File \"/Users/Pedro/opt/anaconda3/lib/python3.9/multiprocessing/pool.py\", line 114, in worker\n",
      "    task = get()\n",
      "  File \"/Users/Pedro/opt/anaconda3/lib/python3.9/multiprocessing/queues.py\", line 364, in get\n",
      "    with self._rlock:\n",
      "  File \"/Users/Pedro/opt/anaconda3/lib/python3.9/multiprocessing/synchronize.py\", line 95, in __enter__\n",
      "    return self._semlock.__enter__()\n",
      "KeyboardInterrupt\n",
      "Process SpawnPoolWorker-29:\n",
      "Traceback (most recent call last):\n",
      "  File \"/Users/Pedro/opt/anaconda3/lib/python3.9/multiprocessing/process.py\", line 315, in _bootstrap\n",
      "    self.run()\n",
      "  File \"/Users/Pedro/opt/anaconda3/lib/python3.9/multiprocessing/process.py\", line 108, in run\n",
      "    self._target(*self._args, **self._kwargs)\n",
      "  File \"/Users/Pedro/opt/anaconda3/lib/python3.9/multiprocessing/pool.py\", line 114, in worker\n",
      "    task = get()\n",
      "  File \"/Users/Pedro/opt/anaconda3/lib/python3.9/multiprocessing/queues.py\", line 364, in get\n",
      "    with self._rlock:\n",
      "  File \"/Users/Pedro/opt/anaconda3/lib/python3.9/multiprocessing/synchronize.py\", line 95, in __enter__\n",
      "    return self._semlock.__enter__()\n",
      "KeyboardInterrupt\n",
      "Traceback (most recent call last):\n",
      "  File \"/Users/Pedro/opt/anaconda3/lib/python3.9/multiprocessing/process.py\", line 315, in _bootstrap\n",
      "    self.run()\n",
      "  File \"/Users/Pedro/opt/anaconda3/lib/python3.9/multiprocessing/process.py\", line 108, in run\n",
      "    self._target(*self._args, **self._kwargs)\n",
      "  File \"/Users/Pedro/opt/anaconda3/lib/python3.9/multiprocessing/pool.py\", line 114, in worker\n",
      "    task = get()\n",
      "  File \"/Users/Pedro/opt/anaconda3/lib/python3.9/multiprocessing/queues.py\", line 365, in get\n",
      "    res = self._reader.recv_bytes()\n",
      "  File \"/Users/Pedro/opt/anaconda3/lib/python3.9/multiprocessing/connection.py\", line 221, in recv_bytes\n",
      "    buf = self._recv_bytes(maxlength)\n",
      "  File \"/Users/Pedro/opt/anaconda3/lib/python3.9/multiprocessing/connection.py\", line 419, in _recv_bytes\n",
      "    buf = self._recv(4)\n",
      "  File \"/Users/Pedro/opt/anaconda3/lib/python3.9/multiprocessing/connection.py\", line 384, in _recv\n",
      "    chunk = read(handle, remaining)\n",
      "KeyboardInterrupt\n",
      "Process SpawnPoolWorker-31:\n",
      "Traceback (most recent call last):\n",
      "  File \"/Users/Pedro/opt/anaconda3/lib/python3.9/multiprocessing/process.py\", line 315, in _bootstrap\n",
      "    self.run()\n",
      "  File \"/Users/Pedro/opt/anaconda3/lib/python3.9/multiprocessing/process.py\", line 108, in run\n",
      "    self._target(*self._args, **self._kwargs)\n",
      "  File \"/Users/Pedro/opt/anaconda3/lib/python3.9/multiprocessing/pool.py\", line 114, in worker\n",
      "    task = get()\n",
      "  File \"/Users/Pedro/opt/anaconda3/lib/python3.9/multiprocessing/queues.py\", line 364, in get\n",
      "    with self._rlock:\n",
      "  File \"/Users/Pedro/opt/anaconda3/lib/python3.9/multiprocessing/synchronize.py\", line 95, in __enter__\n",
      "    return self._semlock.__enter__()\n",
      "KeyboardInterrupt\n",
      "Traceback (most recent call last):\n",
      "  File \"/Users/Pedro/opt/anaconda3/lib/python3.9/multiprocessing/process.py\", line 315, in _bootstrap\n",
      "    self.run()\n",
      "  File \"/Users/Pedro/opt/anaconda3/lib/python3.9/multiprocessing/process.py\", line 108, in run\n",
      "    self._target(*self._args, **self._kwargs)\n",
      "  File \"/Users/Pedro/opt/anaconda3/lib/python3.9/multiprocessing/pool.py\", line 114, in worker\n",
      "    task = get()\n",
      "  File \"/Users/Pedro/opt/anaconda3/lib/python3.9/multiprocessing/queues.py\", line 364, in get\n",
      "    with self._rlock:\n",
      "  File \"/Users/Pedro/opt/anaconda3/lib/python3.9/multiprocessing/synchronize.py\", line 95, in __enter__\n",
      "    return self._semlock.__enter__()\n",
      "KeyboardInterrupt\n",
      "Traceback (most recent call last):\n",
      "  File \"/Users/Pedro/opt/anaconda3/lib/python3.9/multiprocessing/process.py\", line 315, in _bootstrap\n",
      "    self.run()\n",
      "  File \"/Users/Pedro/opt/anaconda3/lib/python3.9/multiprocessing/process.py\", line 108, in run\n",
      "    self._target(*self._args, **self._kwargs)\n",
      "  File \"/Users/Pedro/opt/anaconda3/lib/python3.9/multiprocessing/pool.py\", line 114, in worker\n",
      "    task = get()\n",
      "  File \"/Users/Pedro/opt/anaconda3/lib/python3.9/multiprocessing/queues.py\", line 365, in get\n",
      "    res = self._reader.recv_bytes()\n",
      "  File \"/Users/Pedro/opt/anaconda3/lib/python3.9/multiprocessing/connection.py\", line 221, in recv_bytes\n",
      "    buf = self._recv_bytes(maxlength)\n",
      "  File \"/Users/Pedro/opt/anaconda3/lib/python3.9/multiprocessing/connection.py\", line 419, in _recv_bytes\n",
      "    buf = self._recv(4)\n",
      "  File \"/Users/Pedro/opt/anaconda3/lib/python3.9/multiprocessing/connection.py\", line 384, in _recv\n",
      "    chunk = read(handle, remaining)\n",
      "KeyboardInterrupt\n",
      "Traceback (most recent call last):\n",
      "  File \"/Users/Pedro/opt/anaconda3/lib/python3.9/multiprocessing/process.py\", line 315, in _bootstrap\n",
      "    self.run()\n",
      "  File \"/Users/Pedro/opt/anaconda3/lib/python3.9/multiprocessing/process.py\", line 108, in run\n",
      "    self._target(*self._args, **self._kwargs)\n",
      "  File \"/Users/Pedro/opt/anaconda3/lib/python3.9/multiprocessing/pool.py\", line 114, in worker\n",
      "    task = get()\n",
      "  File \"/Users/Pedro/opt/anaconda3/lib/python3.9/multiprocessing/queues.py\", line 364, in get\n",
      "    with self._rlock:\n",
      "  File \"/Users/Pedro/opt/anaconda3/lib/python3.9/multiprocessing/synchronize.py\", line 95, in __enter__\n",
      "    return self._semlock.__enter__()\n",
      "KeyboardInterrupt\n"
     ]
    }
   ],
   "source": [
    "df_prueba_2 = pd.DataFrame(data_rol)\n",
    "df_prueba_2"
   ]
  },
  {
   "cell_type": "code",
   "execution_count": 49,
   "id": "c47ccafe",
   "metadata": {},
   "outputs": [
    {
     "data": {
      "text/plain": [
       "'https://www.leagueofgraphs.com/es/summoner/euw/Noah7'"
      ]
     },
     "execution_count": 49,
     "metadata": {},
     "output_type": "execute_result"
    }
   ],
   "source": [
    "links_1[1]"
   ]
  },
  {
   "cell_type": "code",
   "execution_count": 41,
   "id": "bab0fbbe",
   "metadata": {},
   "outputs": [],
   "source": [
    "url = links_1[2]\n",
    "\n",
    "driver=webdriver.Chrome(PATH)               \n",
    "driver.get(url)\n",
    "\n",
    "progress = [driver.find_elements(By.CLASS_NAME, 'progressBarTxt')[i].text for i in range(len(driver.find_elements(By.CLASS_NAME, 'progressBarTxt')))]\n",
    "driver.quit()"
   ]
  },
  {
   "cell_type": "code",
   "execution_count": 42,
   "id": "7d7f279f",
   "metadata": {},
   "outputs": [
    {
     "data": {
      "text/plain": [
       "['68',\n",
       " '52.9%',\n",
       " '34',\n",
       " '64.7%',\n",
       " '34',\n",
       " '58.8%',\n",
       " '33',\n",
       " '60.6%',\n",
       " '29',\n",
       " '55.2%',\n",
       " '23',\n",
       " '73.9%',\n",
       " '17',\n",
       " '58.8%',\n",
       " '16',\n",
       " '56.3%',\n",
       " '-10.6%',\n",
       " '+7.9%',\n",
       " '+7.0%',\n",
       " '-5.4%',\n",
       " '249',\n",
       " '57.4%',\n",
       " '77',\n",
       " '59.7%',\n",
       " '6',\n",
       " '66.7%',\n",
       " '3',\n",
       " '33.3%',\n",
       " '1',\n",
       " '0.0%',\n",
       " '22',\n",
       " '86.4%',\n",
       " '4',\n",
       " '25.0%']"
      ]
     },
     "execution_count": 42,
     "metadata": {},
     "output_type": "execute_result"
    }
   ],
   "source": [
    "progress"
   ]
  },
  {
   "cell_type": "code",
   "execution_count": 44,
   "id": "d54faef3",
   "metadata": {},
   "outputs": [],
   "source": [
    "url = links_1[4]\n",
    "\n",
    "driver=webdriver.Chrome(PATH)               \n",
    "driver.get(url)\n",
    "\n",
    "progress_2 = [driver.find_elements(By.CLASS_NAME, 'progressBarTxt')[i].text for i in range(len(driver.find_elements(By.CLASS_NAME, 'progressBarTxt')))]\n",
    "driver.quit()"
   ]
  },
  {
   "cell_type": "code",
   "execution_count": 45,
   "id": "be0de7c3",
   "metadata": {},
   "outputs": [
    {
     "data": {
      "text/plain": [
       "['28',\n",
       " '53.6%',\n",
       " '27',\n",
       " '85.2%',\n",
       " '27',\n",
       " '63.0%',\n",
       " '17',\n",
       " '70.6%',\n",
       " '12',\n",
       " '66.7%',\n",
       " '11',\n",
       " '54.5%',\n",
       " '8',\n",
       " '62.5%',\n",
       " '8',\n",
       " '37.5%',\n",
       " '-20.0%',\n",
       " '-18.0%',\n",
       " '+7.3%',\n",
       " '+5.5%',\n",
       " '146',\n",
       " '58.9%',\n",
       " '50',\n",
       " '68.0%']"
      ]
     },
     "execution_count": 45,
     "metadata": {},
     "output_type": "execute_result"
    }
   ],
   "source": [
    "progress_2"
   ]
  },
  {
   "cell_type": "code",
   "execution_count": null,
   "id": "d1e55e97",
   "metadata": {},
   "outputs": [],
   "source": []
  }
 ],
 "metadata": {
  "kernelspec": {
   "display_name": "Python 3 (ipykernel)",
   "language": "python",
   "name": "python3"
  },
  "language_info": {
   "codemirror_mode": {
    "name": "ipython",
    "version": 3
   },
   "file_extension": ".py",
   "mimetype": "text/x-python",
   "name": "python",
   "nbconvert_exporter": "python",
   "pygments_lexer": "ipython3",
   "version": "3.9.13"
  }
 },
 "nbformat": 4,
 "nbformat_minor": 5
}
