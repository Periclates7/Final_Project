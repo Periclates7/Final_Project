{
 "cells": [
  {
   "cell_type": "code",
   "execution_count": 1,
   "id": "f9301d95",
   "metadata": {},
   "outputs": [],
   "source": [
    "import numpy as np\n",
    "import pandas as pd\n",
    "import time\n",
    "\n",
    "pd.set_option('display.max_rows', None)\n",
    "pd.set_option('display.max_columns', None)\n",
    "\n",
    "import warnings\n",
    "warnings.filterwarnings('ignore')\n"
   ]
  },
  {
   "cell_type": "code",
   "execution_count": 2,
   "id": "6b91e989",
   "metadata": {},
   "outputs": [
    {
     "name": "stderr",
     "output_type": "stream",
     "text": [
      "[WDM] - Downloading: 100%|█████████████████| 8.82M/8.82M [00:03<00:00, 2.89MB/s]\n"
     ]
    }
   ],
   "source": [
    "from selenium.webdriver.chrome.options import Options\n",
    "from webdriver_manager.chrome import ChromeDriverManager\n",
    "from selenium import webdriver\n",
    "from selenium.webdriver.common.by import By\n",
    "PATH=ChromeDriverManager().install()\n",
    "\n",
    "import requests\n",
    "from bs4 import BeautifulSoup"
   ]
  },
  {
   "cell_type": "code",
   "execution_count": 3,
   "id": "59dd1bce",
   "metadata": {},
   "outputs": [],
   "source": [
    "url = 'https://www.leagueofgraphs.com/es/rankings/summoners'\n",
    "\n",
    "driver=webdriver.Chrome(PATH)               \n",
    "driver.get(url)"
   ]
  },
  {
   "cell_type": "code",
   "execution_count": 4,
   "id": "0240fa66",
   "metadata": {},
   "outputs": [],
   "source": [
    "links_invo = [driver.find_elements(By.TAG_NAME, 'a')[i].get_attribute('href') for i in range(len(driver.find_elements(By.TAG_NAME, 'a')))]\n",
    "driver.quit()"
   ]
  },
  {
   "cell_type": "code",
   "execution_count": 30,
   "id": "835048b2",
   "metadata": {},
   "outputs": [],
   "source": [
    "links_1 = links_invo[302:-23]"
   ]
  },
  {
   "cell_type": "code",
   "execution_count": 32,
   "id": "996efa41",
   "metadata": {},
   "outputs": [
    {
     "data": {
      "text/plain": [
       "'https://www.leagueofgraphs.com/es/summoner/euw/Yagiao'"
      ]
     },
     "execution_count": 32,
     "metadata": {},
     "output_type": "execute_result"
    }
   ],
   "source": [
    "links_1[-1]"
   ]
  },
  {
   "cell_type": "code",
   "execution_count": 13,
   "id": "85dfe49e",
   "metadata": {},
   "outputs": [
    {
     "data": {
      "text/plain": [
       "'6K OnFleek (NA)'"
      ]
     },
     "execution_count": 13,
     "metadata": {},
     "output_type": "execute_result"
    }
   ],
   "source": [
    "url = 'https://www.leagueofgraphs.com/es/summoner/na/6K+OnFleek'\n",
    "\n",
    "driver=webdriver.Chrome(PATH)               \n",
    "driver.get(url)\n",
    "\n",
    "name_reg= driver.find_element(By.TAG_NAME, 'h2').text\n",
    "driver.quit()\n",
    "\n",
    "name_reg"
   ]
  },
  {
   "cell_type": "code",
   "execution_count": 114,
   "id": "6c49c12b",
   "metadata": {
    "scrolled": false
   },
   "outputs": [
    {
     "data": {
      "text/plain": [
       "('6K OnFleek',\n",
       " 'NA',\n",
       " 'Challenger',\n",
       " 1859,\n",
       " 'Soloqueue',\n",
       " 1,\n",
       " 'Top 0.000010%',\n",
       " 150,\n",
       " 111,\n",
       " 260,\n",
       " 57.7)"
      ]
     },
     "execution_count": 114,
     "metadata": {},
     "output_type": "execute_result"
    }
   ],
   "source": [
    "url = 'https://www.leagueofgraphs.com/es/summoner/na/6K+OnFleek'\n",
    "\n",
    "driver=webdriver.Chrome(PATH)               \n",
    "driver.get(url)\n",
    "\n",
    "name_reg= driver.find_element(By.TAG_NAME, 'h2').text \n",
    "nombre = name_reg.split('(')[0][:-1]\n",
    "region = name_reg.split('(')[1].rstrip(')')\n",
    "\n",
    "liga = driver.find_element(By.CLASS_NAME, 'leagueTier').text\n",
    "liga = liga.split(' ')[0]\n",
    "\n",
    "lp = driver.find_element(By.CLASS_NAME, 'leaguePoints').text\n",
    "lp = int(lp[:-3])\n",
    "\n",
    "cola = driver.find_element(By.CLASS_NAME, 'queue').text\n",
    "rank = int(driver.find_element(By.CLASS_NAME, 'highlight').text)\n",
    "rank_per = driver.find_element(By.CLASS_NAME, 'topRankPercentage').text\n",
    "wins = int(driver.find_element(By.CLASS_NAME, 'winsNumber').text)\n",
    "loses = int(driver.find_element(By.CLASS_NAME, 'lossesNumber').text)\n",
    "n_games = int(driver.find_element(By.ID, 'graphDD2').text)\n",
    "winrate_total = driver.find_element(By.ID, 'graphDD3').text\n",
    "winrate_total = float(winrate_total[:-1])\n",
    "\n",
    "\n",
    "driver.quit()\n",
    "\n",
    "nombre , region, liga, lp, cola, rank, rank_per, wins, loses, n_games, winrate_total"
   ]
  },
  {
   "cell_type": "markdown",
   "id": "f7fe6905",
   "metadata": {},
   "source": [
    "**KDA**"
   ]
  },
  {
   "cell_type": "code",
   "execution_count": 105,
   "id": "931ec7d4",
   "metadata": {},
   "outputs": [
    {
     "data": {
      "text/plain": [
       "'6.4'"
      ]
     },
     "execution_count": 105,
     "metadata": {},
     "output_type": "execute_result"
    }
   ],
   "source": [
    "kills_player_kda = kills[-4]\n",
    "kills_player_kda"
   ]
  },
  {
   "cell_type": "code",
   "execution_count": 106,
   "id": "19ce0f6d",
   "metadata": {},
   "outputs": [
    {
     "data": {
      "text/plain": [
       "'4.6'"
      ]
     },
     "execution_count": 106,
     "metadata": {},
     "output_type": "execute_result"
    }
   ],
   "source": [
    "deaths_player_kda = deaths[-4]\n",
    "deaths_player_kda"
   ]
  },
  {
   "cell_type": "code",
   "execution_count": 107,
   "id": "008671d5",
   "metadata": {},
   "outputs": [
    {
     "data": {
      "text/plain": [
       "'7.4'"
      ]
     },
     "execution_count": 107,
     "metadata": {},
     "output_type": "execute_result"
    }
   ],
   "source": [
    "assists_player_kda = assists[-4]\n",
    "assists_player_kda"
   ]
  },
  {
   "cell_type": "markdown",
   "id": "c5ed9f44",
   "metadata": {},
   "source": [
    "**NOMBRE CAMPEONES + JUGADOS POR JUGADOR**"
   ]
  },
  {
   "cell_type": "code",
   "execution_count": 26,
   "id": "4278c077",
   "metadata": {},
   "outputs": [],
   "source": [
    "url = 'https://www.leagueofgraphs.com/es/summoner/na/6K+OnFleek'\n",
    "\n",
    "driver=webdriver.Chrome(PATH)               \n",
    "driver.get(url)\n",
    "\n",
    "champs_name = [driver.find_elements(By.CLASS_NAME, 'name')[i].text for i in range(len(driver.find_elements(By.CLASS_NAME, 'name')))]\n",
    "driver.quit()"
   ]
  },
  {
   "cell_type": "code",
   "execution_count": 44,
   "id": "c0c918a4",
   "metadata": {},
   "outputs": [
    {
     "data": {
      "text/plain": [
       "['Sylas', 'Jax', 'Vi', 'Lee Sin', 'Elise', 'Viego', 'Maokai', 'Kindred']"
      ]
     },
     "execution_count": 44,
     "metadata": {},
     "output_type": "execute_result"
    }
   ],
   "source": [
    "campeones = champs_name[1:9]\n",
    "campeones"
   ]
  },
  {
   "cell_type": "code",
   "execution_count": 43,
   "id": "35367252",
   "metadata": {},
   "outputs": [
    {
     "data": {
      "text/plain": [
       "'Kindred'"
      ]
     },
     "execution_count": 43,
     "metadata": {},
     "output_type": "execute_result"
    }
   ],
   "source": [
    "champ_1 = campeones[0]\n",
    "champ_2 = campeones[1]\n",
    "champ_3 = campeones[2]\n",
    "champ_4 = campeones[3]\n",
    "champ_5 = campeones[4]\n",
    "champ_6 = campeones[5]\n",
    "champ_7 = campeones[6]\n",
    "champ_8 = campeones[7]\n",
    "\n",
    "champ_8"
   ]
  },
  {
   "cell_type": "markdown",
   "id": "65e19a4e",
   "metadata": {},
   "source": [
    "**RANK CAMPEONES + JUGADOS POR JUGADOR**"
   ]
  },
  {
   "cell_type": "code",
   "execution_count": 49,
   "id": "daa1a6f7",
   "metadata": {},
   "outputs": [],
   "source": [
    "driver=webdriver.Chrome(PATH)               \n",
    "driver.get(url)\n",
    "\n",
    "regional_rank = [driver.find_elements(By.CLASS_NAME, 'regionalRank')[i].text for i in range(len(driver.find_elements(By.CLASS_NAME, 'regionalRank')))]\n",
    "driver.quit()"
   ]
  },
  {
   "cell_type": "code",
   "execution_count": 50,
   "id": "7511f554",
   "metadata": {},
   "outputs": [
    {
     "data": {
      "text/plain": [
       "['125', '142', '101', '304', '451', '241', '1,819', '908']"
      ]
     },
     "execution_count": 50,
     "metadata": {},
     "output_type": "execute_result"
    }
   ],
   "source": [
    "regional_rank = regional_rank[1:9]\n",
    "regional_rank"
   ]
  },
  {
   "cell_type": "code",
   "execution_count": 51,
   "id": "319a8025",
   "metadata": {},
   "outputs": [
    {
     "data": {
      "text/plain": [
       "'908'"
      ]
     },
     "execution_count": 51,
     "metadata": {},
     "output_type": "execute_result"
    }
   ],
   "source": [
    "regional_rank_1 = regional_rank[0]\n",
    "regional_rank_2 = regional_rank[1]\n",
    "regional_rank_3 = regional_rank[2]\n",
    "regional_rank_4 = regional_rank[3]\n",
    "regional_rank_5 = regional_rank[4]\n",
    "regional_rank_6 = regional_rank[5]\n",
    "regional_rank_7 = regional_rank[6]\n",
    "regional_rank_8 = regional_rank[7]\n",
    "regional_rank_8"
   ]
  },
  {
   "cell_type": "markdown",
   "id": "051eebbd",
   "metadata": {},
   "source": [
    "**KILLS CAMPEONES + JUGADOS POR JUGADOR**"
   ]
  },
  {
   "cell_type": "code",
   "execution_count": 94,
   "id": "e597d9ef",
   "metadata": {},
   "outputs": [],
   "source": [
    "url = 'https://www.leagueofgraphs.com/es/summoner/na/6K+OnFleek'\n",
    "\n",
    "driver=webdriver.Chrome(PATH)               \n",
    "driver.get(url)\n",
    "\n",
    "kills = [driver.find_elements(By.CLASS_NAME, 'kills')[i].text for i in range(len(driver.find_elements(By.CLASS_NAME, 'kills')))]\n",
    "driver.quit()\n",
    "\n"
   ]
  },
  {
   "cell_type": "code",
   "execution_count": 95,
   "id": "4d1b0e97",
   "metadata": {},
   "outputs": [
    {
     "data": {
      "text/plain": [
       "['9.1', '5.5', '6.2', '6.3', '6.9', '6.3', '4.6', '6.3']"
      ]
     },
     "execution_count": 95,
     "metadata": {},
     "output_type": "execute_result"
    }
   ],
   "source": [
    "kills_champs = kills[29:37]\n",
    "kills_champs"
   ]
  },
  {
   "cell_type": "code",
   "execution_count": 96,
   "id": "8066a3fe",
   "metadata": {},
   "outputs": [
    {
     "data": {
      "text/plain": [
       "'6.3'"
      ]
     },
     "execution_count": 96,
     "metadata": {},
     "output_type": "execute_result"
    }
   ],
   "source": [
    "kills_champ_1 = kills_champs[0]\n",
    "kills_champ_2 = kills_champs[1]\n",
    "kills_champ_3 = kills_champs[2]\n",
    "kills_champ_4 = kills_champs[3]\n",
    "kills_champ_5 = kills_champs[4]\n",
    "kills_champ_6 = kills_champs[5]\n",
    "kills_champ_7 = kills_champs[6]\n",
    "kills_champ_8 = kills_champs[7]\n",
    "kills_champ_8"
   ]
  },
  {
   "cell_type": "markdown",
   "id": "bed6e3b8",
   "metadata": {},
   "source": [
    "**MUERTES CAMPEONES + JUGADOS POR JUGADOR**"
   ]
  },
  {
   "cell_type": "code",
   "execution_count": 97,
   "id": "fc7ddbab",
   "metadata": {},
   "outputs": [],
   "source": [
    "url = 'https://www.leagueofgraphs.com/es/summoner/na/6K+OnFleek'\n",
    "\n",
    "driver=webdriver.Chrome(PATH)               \n",
    "driver.get(url)\n",
    "\n",
    "deaths = [driver.find_elements(By.CLASS_NAME, 'deaths')[i].text for i in range(len(driver.find_elements(By.CLASS_NAME, 'deaths')))]\n",
    "driver.quit()"
   ]
  },
  {
   "cell_type": "code",
   "execution_count": 98,
   "id": "85bc6c1c",
   "metadata": {
    "scrolled": false
   },
   "outputs": [
    {
     "data": {
      "text/plain": [
       "['4.8', '4.5', '5.1', '4.4', '4.4', '4.7', '4.1', '6.2']"
      ]
     },
     "execution_count": 98,
     "metadata": {},
     "output_type": "execute_result"
    }
   ],
   "source": [
    "deaths_champs = deaths[29:37]\n",
    "deaths_champs"
   ]
  },
  {
   "cell_type": "code",
   "execution_count": 99,
   "id": "9ad1cc8c",
   "metadata": {},
   "outputs": [
    {
     "data": {
      "text/plain": [
       "'6.2'"
      ]
     },
     "execution_count": 99,
     "metadata": {},
     "output_type": "execute_result"
    }
   ],
   "source": [
    "deaths_champ_1 = deaths_champs[0]\n",
    "deaths_champ_2 = deaths_champs[1]\n",
    "deaths_champ_3 = deaths_champs[2]\n",
    "deaths_champ_4 = deaths_champs[3]\n",
    "deaths_champ_5 = deaths_champs[4]\n",
    "deaths_champ_6 = deaths_champs[5]\n",
    "deaths_champ_7 = deaths_champs[6]\n",
    "deaths_champ_8 = deaths_champs[7]\n",
    "deaths_champ_8"
   ]
  },
  {
   "cell_type": "markdown",
   "id": "851be321",
   "metadata": {},
   "source": [
    "**ASSISTS CAMPEONES + JUGADOS POR JUGADOR**"
   ]
  },
  {
   "cell_type": "code",
   "execution_count": 100,
   "id": "2c8937a4",
   "metadata": {},
   "outputs": [],
   "source": [
    "url = 'https://www.leagueofgraphs.com/es/summoner/na/6K+OnFleek'\n",
    "\n",
    "driver=webdriver.Chrome(PATH)               \n",
    "driver.get(url)\n",
    "\n",
    "assists = [driver.find_elements(By.CLASS_NAME, 'assists')[i].text for i in range(len(driver.find_elements(By.CLASS_NAME, 'assists')))]\n",
    "driver.quit()\n"
   ]
  },
  {
   "cell_type": "code",
   "execution_count": 101,
   "id": "7d26b007",
   "metadata": {},
   "outputs": [
    {
     "data": {
      "text/plain": [
       "['6.5', '3.2', '8.9', '7.6', '8.9', '7.4', '9.9', '8.6']"
      ]
     },
     "execution_count": 101,
     "metadata": {},
     "output_type": "execute_result"
    }
   ],
   "source": [
    "assists_champs = assists[29:37]\n",
    "assists_champs"
   ]
  },
  {
   "cell_type": "code",
   "execution_count": 102,
   "id": "bdc0cc2e",
   "metadata": {
    "scrolled": true
   },
   "outputs": [
    {
     "data": {
      "text/plain": [
       "'8.6'"
      ]
     },
     "execution_count": 102,
     "metadata": {},
     "output_type": "execute_result"
    }
   ],
   "source": [
    "assists_champ_1 = assists_champs[0]\n",
    "assists_champ_2 = assists_champs[1]\n",
    "assists_champ_3 = assists_champs[2]\n",
    "assists_champ_4 = assists_champs[3]\n",
    "assists_champ_5 = assists_champs[4]\n",
    "assists_champ_6 = assists_champs[5]\n",
    "assists_champ_7 = assists_champs[6]\n",
    "assists_champ_8 = assists_champs[7]\n",
    "assists_champ_8"
   ]
  },
  {
   "cell_type": "markdown",
   "id": "c37432a9",
   "metadata": {},
   "source": [
    "**PARTIDAS POR CAMPEÓN**"
   ]
  },
  {
   "cell_type": "code",
   "execution_count": 67,
   "id": "51a541e4",
   "metadata": {},
   "outputs": [],
   "source": [
    "driver=webdriver.Chrome(PATH)               \n",
    "driver.get(url)\n",
    "\n",
    "progress_bar = [driver.find_elements(By.CLASS_NAME, 'progressBarTxt')[i].text for i in range(len(driver.find_elements(By.CLASS_NAME, 'progressBarTxt')))]\n",
    "driver.quit()"
   ]
  },
  {
   "cell_type": "code",
   "execution_count": 71,
   "id": "6e21a69b",
   "metadata": {},
   "outputs": [],
   "source": [
    "games_per_champ = progress_bar[:16:2]"
   ]
  },
  {
   "cell_type": "code",
   "execution_count": 73,
   "id": "f6423cb0",
   "metadata": {},
   "outputs": [
    {
     "data": {
      "text/plain": [
       "['44', '32', '30', '24', '16', '16', '16', '13']"
      ]
     },
     "execution_count": 73,
     "metadata": {},
     "output_type": "execute_result"
    }
   ],
   "source": [
    "games_per_champ"
   ]
  },
  {
   "cell_type": "code",
   "execution_count": 72,
   "id": "0805bb8e",
   "metadata": {},
   "outputs": [
    {
     "data": {
      "text/plain": [
       "'13'"
      ]
     },
     "execution_count": 72,
     "metadata": {},
     "output_type": "execute_result"
    }
   ],
   "source": [
    "games_champ_1 = games_per_champ[0]\n",
    "games_champ_2 = games_per_champ[1]\n",
    "games_champ_3 = games_per_champ[2]\n",
    "games_champ_4 = games_per_champ[3]\n",
    "games_champ_5 = games_per_champ[4]\n",
    "games_champ_6 = games_per_champ[5]\n",
    "games_champ_7 = games_per_champ[6]\n",
    "games_champ_8 = games_per_champ[7]\n",
    "games_champ_8"
   ]
  },
  {
   "cell_type": "markdown",
   "id": "719b6869",
   "metadata": {},
   "source": [
    "**WINRATE POR CAMPEON**"
   ]
  },
  {
   "cell_type": "code",
   "execution_count": 74,
   "id": "b3c7a3c5",
   "metadata": {},
   "outputs": [
    {
     "data": {
      "text/plain": [
       "['50.0%', '65.6%', '63.3%', '58.3%', '68.8%', '68.8%', '56.3%', '53.8%']"
      ]
     },
     "execution_count": 74,
     "metadata": {},
     "output_type": "execute_result"
    }
   ],
   "source": [
    "winrate_per_champ = progress_bar[1:16:2]\n",
    "winrate_per_champ"
   ]
  },
  {
   "cell_type": "code",
   "execution_count": 79,
   "id": "959b02ad",
   "metadata": {},
   "outputs": [
    {
     "data": {
      "text/plain": [
       "'53.8%'"
      ]
     },
     "execution_count": 79,
     "metadata": {},
     "output_type": "execute_result"
    }
   ],
   "source": [
    "winrate_champ_1 = winrate_per_champ[0]\n",
    "winrate_champ_2 = winrate_per_champ[1]\n",
    "winrate_champ_3 = winrate_per_champ[2]\n",
    "winrate_champ_4 = winrate_per_champ[3]\n",
    "winrate_champ_5 = winrate_per_champ[4]\n",
    "winrate_champ_6 = winrate_per_champ[5]\n",
    "winrate_champ_7 = winrate_per_champ[6]\n",
    "winrate_champ_8 = winrate_per_champ[7]\n",
    "winrate_champ_8"
   ]
  },
  {
   "cell_type": "code",
   "execution_count": 80,
   "id": "077c2153",
   "metadata": {},
   "outputs": [
    {
     "data": {
      "text/plain": [
       "'53.8'"
      ]
     },
     "execution_count": 80,
     "metadata": {},
     "output_type": "execute_result"
    }
   ],
   "source": [
    "winrate_champ_1 = winrate_champ_1[:-1]\n",
    "winrate_champ_2 = winrate_champ_2[:-1]\n",
    "winrate_champ_3 = winrate_champ_3[:-1]\n",
    "winrate_champ_4 = winrate_champ_4[:-1]\n",
    "winrate_champ_5 = winrate_champ_5[:-1]\n",
    "winrate_champ_6 = winrate_champ_6[:-1]\n",
    "winrate_champ_7 = winrate_champ_7[:-1]\n",
    "winrate_champ_8 = winrate_champ_8[:-1]\n",
    "winrate_champ_8"
   ]
  },
  {
   "cell_type": "markdown",
   "id": "6ee53ad7",
   "metadata": {},
   "source": [
    "**ESTADISTICAS POR ROL**"
   ]
  },
  {
   "cell_type": "code",
   "execution_count": 82,
   "id": "807dbac4",
   "metadata": {},
   "outputs": [
    {
     "data": {
      "text/plain": [
       "['199', '58.3%', '56', '58.9%', '5', '20.0%']"
      ]
     },
     "execution_count": 82,
     "metadata": {},
     "output_type": "execute_result"
    }
   ],
   "source": [
    "progress_bar[-6::]"
   ]
  },
  {
   "cell_type": "code",
   "execution_count": 85,
   "id": "42a065b0",
   "metadata": {},
   "outputs": [
    {
     "data": {
      "text/plain": [
       "['Jungler', 'Top', 'Mid']"
      ]
     },
     "execution_count": 85,
     "metadata": {},
     "output_type": "execute_result"
    }
   ],
   "source": [
    "champs_name[-9:-6]"
   ]
  },
  {
   "cell_type": "code",
   "execution_count": 91,
   "id": "f4ffbad5",
   "metadata": {},
   "outputs": [
    {
     "data": {
      "text/plain": [
       "['Jungler', 'Top', 'Mid']"
      ]
     },
     "execution_count": 91,
     "metadata": {},
     "output_type": "execute_result"
    }
   ],
   "source": [
    "roles = champs_name[-9:-6]\n",
    "roles"
   ]
  },
  {
   "cell_type": "code",
   "execution_count": 92,
   "id": "5c2add25",
   "metadata": {},
   "outputs": [
    {
     "data": {
      "text/plain": [
       "'Mid'"
      ]
     },
     "execution_count": 92,
     "metadata": {},
     "output_type": "execute_result"
    }
   ],
   "source": [
    "rol_1 = roles[0]\n",
    "rol_2 = roles[1]\n",
    "rol_3 = roles[2]\n",
    "rol_3"
   ]
  },
  {
   "cell_type": "code",
   "execution_count": 86,
   "id": "32b28fb9",
   "metadata": {},
   "outputs": [
    {
     "data": {
      "text/plain": [
       "['199', '56', '5']"
      ]
     },
     "execution_count": 86,
     "metadata": {},
     "output_type": "execute_result"
    }
   ],
   "source": [
    "games_per_rol = progress_bar[-6::2]\n",
    "games_per_rol"
   ]
  },
  {
   "cell_type": "code",
   "execution_count": 87,
   "id": "471ee193",
   "metadata": {},
   "outputs": [
    {
     "data": {
      "text/plain": [
       "'5'"
      ]
     },
     "execution_count": 87,
     "metadata": {},
     "output_type": "execute_result"
    }
   ],
   "source": [
    "games_per_rol_1 = games_per_rol[0]\n",
    "games_per_rol_2 = games_per_rol[1]\n",
    "games_per_rol_3 = games_per_rol[2]\n",
    "games_per_rol_3"
   ]
  },
  {
   "cell_type": "code",
   "execution_count": 88,
   "id": "d62be05a",
   "metadata": {},
   "outputs": [
    {
     "data": {
      "text/plain": [
       "['58.3%', '58.9%', '20.0%']"
      ]
     },
     "execution_count": 88,
     "metadata": {},
     "output_type": "execute_result"
    }
   ],
   "source": [
    "winrate_per_rol = progress_bar[-5::2]\n",
    "winrate_per_rol"
   ]
  },
  {
   "cell_type": "code",
   "execution_count": 89,
   "id": "71ea0385",
   "metadata": {},
   "outputs": [
    {
     "data": {
      "text/plain": [
       "'20.0%'"
      ]
     },
     "execution_count": 89,
     "metadata": {},
     "output_type": "execute_result"
    }
   ],
   "source": [
    "winrate_per_rol_1 = winrate_per_rol[0]\n",
    "winrate_per_rol_2 = winrate_per_rol[1]\n",
    "winrate_per_rol_3 = winrate_per_rol[2]\n",
    "winrate_per_rol_3"
   ]
  },
  {
   "cell_type": "code",
   "execution_count": 90,
   "id": "1d5a43b2",
   "metadata": {},
   "outputs": [
    {
     "data": {
      "text/plain": [
       "'20.0'"
      ]
     },
     "execution_count": 90,
     "metadata": {},
     "output_type": "execute_result"
    }
   ],
   "source": [
    "winrate_per_rol_1 = winrate_per_rol_1[:-1]\n",
    "winrate_per_rol_2 = winrate_per_rol_2[:-1]\n",
    "winrate_per_rol_3 = winrate_per_rol_3[:-1]\n",
    "winrate_per_rol_3"
   ]
  },
  {
   "cell_type": "code",
   "execution_count": 122,
   "id": "af6d48ac",
   "metadata": {},
   "outputs": [],
   "source": [
    "data = scrapeo('https://www.leagueofgraphs.com/es/summoner/na/6K+OnFleek')"
   ]
  },
  {
   "cell_type": "code",
   "execution_count": 124,
   "id": "f6f74f95",
   "metadata": {},
   "outputs": [
    {
     "data": {
      "text/plain": [
       "{'nombre_invocador': '6K OnFleek',\n",
       " 'region': 'NA',\n",
       " 'liga': 'Challenger',\n",
       " 'lps': 1859,\n",
       " 'cola': 'Soloqueue',\n",
       " 'ranking_mundial': '1',\n",
       " 'ranking_porcentaje': 'Top 0.000010%',\n",
       " 'wins': 150,\n",
       " 'loses': 111,\n",
       " 'n_games': 260,\n",
       " 'winrate_total': 57.7,\n",
       " 'kills_player_kda': 6.4,\n",
       " 'deaths_player_kda': 4.6,\n",
       " 'assists_player_kda': 7.4,\n",
       " 'rol_1': 'Jungler',\n",
       " 'games_per_rol_1': 199,\n",
       " 'winrate_per_rol_1': 58.3,\n",
       " 'rol_2': 'Top',\n",
       " 'games_per_rol_2': 56,\n",
       " 'winrate_per_rol_2': 58.9,\n",
       " 'rol_3': 'Mid',\n",
       " 'games_per_rol_3': 5,\n",
       " 'winrate_per_rol_3': 20.0,\n",
       " 'champ_1': 'Sylas',\n",
       " 'regional_rank_1': '(NA: 1)',\n",
       " 'kills_champ_1': 9.1,\n",
       " 'deaths_champ_1': 4.8,\n",
       " 'assists_champ_1': 57.7,\n",
       " 'games_champ_1': 44,\n",
       " 'winrate_champ_1': 50.0,\n",
       " 'champ_2': 'Jax',\n",
       " 'regional_rank_2': '125',\n",
       " 'kills_champ_2': 5.5,\n",
       " 'deaths_champ_2': 4.5,\n",
       " 'assists_champ_2': 3.2,\n",
       " 'games_champ_2': 32,\n",
       " 'winrate_champ_2': 65.6,\n",
       " 'champ_3': 'Vi',\n",
       " 'regional_rank_3': '142',\n",
       " 'kills_champ_3': 6.2,\n",
       " 'deaths_champ_3': 5.1,\n",
       " 'assists_champ_3': 8.9,\n",
       " 'games_champ_3': 30,\n",
       " 'winrate_champ_3': 63.3,\n",
       " 'champ_4': 'Lee Sin',\n",
       " 'regional_rank_4': '100',\n",
       " 'kills_champ_4': 6.3,\n",
       " 'deaths_champ_4': 4.4,\n",
       " 'assists_champ_4': 7.6,\n",
       " 'games_champ_4': 24,\n",
       " 'winrate_champ_4': 58.3,\n",
       " 'champ_5': 'Elise',\n",
       " 'regional_rank_5': '304',\n",
       " 'kills_champ_5': 6.9,\n",
       " 'deaths_champ_5': 4.4,\n",
       " 'assists_champ_5': 8.9,\n",
       " 'games_champ_5': 16,\n",
       " 'winrate_champ_5': 68.8,\n",
       " 'champ_6': 'Viego',\n",
       " 'regional_rank_6': '452',\n",
       " 'kills_champ_6': 6.3,\n",
       " 'deaths_champ_6': 4.7,\n",
       " 'assists_champ_6': 7.4,\n",
       " 'games_champ_6': 16,\n",
       " 'winrate_champ_6': 68.8,\n",
       " 'champ_7': 'Maokai',\n",
       " 'regional_rank_7': '241',\n",
       " 'kills_champ_7': 4.6,\n",
       " 'deaths_champ_7': 4.1,\n",
       " 'assists_champ_7': 9.9,\n",
       " 'games_champ_7': 16,\n",
       " 'winrate_champ_7': 56.3,\n",
       " 'champ_8': 'Kindred',\n",
       " 'regional_rank_8': '1,821',\n",
       " 'kills_champ_8': 6.3,\n",
       " 'deaths_champ_8': 6.2,\n",
       " 'assists_champ_8': 8.6,\n",
       " 'games_champ_8': 13,\n",
       " 'winrate_champ_8': 53.8}"
      ]
     },
     "execution_count": 124,
     "metadata": {},
     "output_type": "execute_result"
    }
   ],
   "source": [
    "data"
   ]
  },
  {
   "cell_type": "code",
   "execution_count": 156,
   "id": "7bc3411e",
   "metadata": {},
   "outputs": [],
   "source": [
    "import multiprocessing as mp\n",
    "from multiprocessing import get_context\n",
    "from funciones import *                      # Documento .py externo donde almaceno las funciones para poder hacer el map\n",
    "                                           # RUTA: ETL-Project/src/funcion.py\n",
    "pool = mp.Pool(mp.cpu_count())"
   ]
  },
  {
   "cell_type": "code",
   "execution_count": 157,
   "id": "2d6b811a",
   "metadata": {},
   "outputs": [],
   "source": [
    "data = pool.map(scrapeo, links_1[:5])"
   ]
  },
  {
   "cell_type": "code",
   "execution_count": 158,
   "id": "2fa5792c",
   "metadata": {},
   "outputs": [],
   "source": [
    "df = pd.DataFrame(data)"
   ]
  },
  {
   "cell_type": "code",
   "execution_count": 159,
   "id": "c908fbcf",
   "metadata": {},
   "outputs": [
    {
     "data": {
      "text/html": [
       "<div>\n",
       "<style scoped>\n",
       "    .dataframe tbody tr th:only-of-type {\n",
       "        vertical-align: middle;\n",
       "    }\n",
       "\n",
       "    .dataframe tbody tr th {\n",
       "        vertical-align: top;\n",
       "    }\n",
       "\n",
       "    .dataframe thead th {\n",
       "        text-align: right;\n",
       "    }\n",
       "</style>\n",
       "<table border=\"1\" class=\"dataframe\">\n",
       "  <thead>\n",
       "    <tr style=\"text-align: right;\">\n",
       "      <th></th>\n",
       "      <th>nombre_invocador</th>\n",
       "      <th>region</th>\n",
       "      <th>liga</th>\n",
       "      <th>lps</th>\n",
       "      <th>cola</th>\n",
       "      <th>ranking_mundial</th>\n",
       "      <th>ranking_porcentaje</th>\n",
       "      <th>wins</th>\n",
       "      <th>loses</th>\n",
       "      <th>n_games</th>\n",
       "      <th>winrate_total</th>\n",
       "      <th>kills_player_kda</th>\n",
       "      <th>deaths_player_kda</th>\n",
       "      <th>assists_player_kda</th>\n",
       "      <th>rol_1</th>\n",
       "      <th>games_per_rol_1</th>\n",
       "      <th>winrate_per_rol_1</th>\n",
       "      <th>rol_2</th>\n",
       "      <th>games_per_rol_2</th>\n",
       "      <th>winrate_per_rol_2</th>\n",
       "      <th>rol_3</th>\n",
       "      <th>games_per_rol_3</th>\n",
       "      <th>winrate_per_rol_3</th>\n",
       "      <th>champ_1</th>\n",
       "      <th>regional_rank_1</th>\n",
       "      <th>kills_champ_1</th>\n",
       "      <th>deaths_champ_1</th>\n",
       "      <th>assists_champ_1</th>\n",
       "      <th>games_champ_1</th>\n",
       "      <th>winrate_champ_1</th>\n",
       "      <th>champ_2</th>\n",
       "      <th>regional_rank_2</th>\n",
       "      <th>kills_champ_2</th>\n",
       "      <th>deaths_champ_2</th>\n",
       "      <th>assists_champ_2</th>\n",
       "      <th>games_champ_2</th>\n",
       "      <th>winrate_champ_2</th>\n",
       "      <th>champ_3</th>\n",
       "      <th>regional_rank_3</th>\n",
       "      <th>kills_champ_3</th>\n",
       "      <th>deaths_champ_3</th>\n",
       "      <th>assists_champ_3</th>\n",
       "      <th>games_champ_3</th>\n",
       "      <th>winrate_champ_3</th>\n",
       "      <th>champ_4</th>\n",
       "      <th>regional_rank_4</th>\n",
       "      <th>kills_champ_4</th>\n",
       "      <th>deaths_champ_4</th>\n",
       "      <th>assists_champ_4</th>\n",
       "      <th>games_champ_4</th>\n",
       "      <th>winrate_champ_4</th>\n",
       "      <th>champ_5</th>\n",
       "      <th>regional_rank_5</th>\n",
       "      <th>kills_champ_5</th>\n",
       "      <th>deaths_champ_5</th>\n",
       "      <th>assists_champ_5</th>\n",
       "      <th>games_champ_5</th>\n",
       "      <th>winrate_champ_5</th>\n",
       "      <th>champ_6</th>\n",
       "      <th>regional_rank_6</th>\n",
       "      <th>kills_champ_6</th>\n",
       "      <th>deaths_champ_6</th>\n",
       "      <th>assists_champ_6</th>\n",
       "      <th>games_champ_6</th>\n",
       "      <th>winrate_champ_6</th>\n",
       "      <th>champ_7</th>\n",
       "      <th>regional_rank_7</th>\n",
       "      <th>kills_champ_7</th>\n",
       "      <th>deaths_champ_7</th>\n",
       "      <th>assists_champ_7</th>\n",
       "      <th>games_champ_7</th>\n",
       "      <th>winrate_champ_7</th>\n",
       "      <th>champ_8</th>\n",
       "      <th>regional_rank_8</th>\n",
       "      <th>kills_champ_8</th>\n",
       "      <th>deaths_champ_8</th>\n",
       "      <th>assists_champ_8</th>\n",
       "      <th>games_champ_8</th>\n",
       "      <th>winrate_champ_8</th>\n",
       "    </tr>\n",
       "  </thead>\n",
       "  <tbody>\n",
       "    <tr>\n",
       "      <th>0</th>\n",
       "      <td>6K OnFleek</td>\n",
       "      <td>NA</td>\n",
       "      <td>Challenger</td>\n",
       "      <td>1859</td>\n",
       "      <td>Soloqueue</td>\n",
       "      <td>1</td>\n",
       "      <td>Top 0.000010%</td>\n",
       "      <td>150</td>\n",
       "      <td>111</td>\n",
       "      <td>260</td>\n",
       "      <td>57.7</td>\n",
       "      <td>6.4</td>\n",
       "      <td>4.6</td>\n",
       "      <td>7.4</td>\n",
       "      <td>Jungler</td>\n",
       "      <td>199</td>\n",
       "      <td>58.3</td>\n",
       "      <td>Top</td>\n",
       "      <td>56</td>\n",
       "      <td>58.9</td>\n",
       "      <td>Mid</td>\n",
       "      <td>5</td>\n",
       "      <td>20.0</td>\n",
       "      <td>Sylas</td>\n",
       "      <td>(NA: 1)</td>\n",
       "      <td>7</td>\n",
       "      <td>4.8</td>\n",
       "      <td>57.7</td>\n",
       "      <td>44</td>\n",
       "      <td>50.0</td>\n",
       "      <td>Jax</td>\n",
       "      <td>125</td>\n",
       "      <td>6</td>\n",
       "      <td>4.5</td>\n",
       "      <td>3.2</td>\n",
       "      <td>32</td>\n",
       "      <td>65.6</td>\n",
       "      <td>Vi</td>\n",
       "      <td>142</td>\n",
       "      <td>2</td>\n",
       "      <td>5.1</td>\n",
       "      <td>8.9</td>\n",
       "      <td>30</td>\n",
       "      <td>63.3</td>\n",
       "      <td>Lee Sin</td>\n",
       "      <td>100</td>\n",
       "      <td>9</td>\n",
       "      <td>4.4</td>\n",
       "      <td>7.6</td>\n",
       "      <td>24</td>\n",
       "      <td>58.3</td>\n",
       "      <td>Elise</td>\n",
       "      <td>304</td>\n",
       "      <td></td>\n",
       "      <td>4.4</td>\n",
       "      <td>8.9</td>\n",
       "      <td>16</td>\n",
       "      <td>68.8</td>\n",
       "      <td>Viego</td>\n",
       "      <td>452</td>\n",
       "      <td></td>\n",
       "      <td>4.7</td>\n",
       "      <td>7.4</td>\n",
       "      <td>16</td>\n",
       "      <td>68.8</td>\n",
       "      <td>Maokai</td>\n",
       "      <td>242</td>\n",
       "      <td></td>\n",
       "      <td>4.1</td>\n",
       "      <td>9.9</td>\n",
       "      <td>16</td>\n",
       "      <td>56.3</td>\n",
       "      <td>Kindred</td>\n",
       "      <td>1,821</td>\n",
       "      <td></td>\n",
       "      <td>6.2</td>\n",
       "      <td>8.6</td>\n",
       "      <td>13</td>\n",
       "      <td>53.8</td>\n",
       "    </tr>\n",
       "    <tr>\n",
       "      <th>1</th>\n",
       "      <td>Noah7</td>\n",
       "      <td>EUW</td>\n",
       "      <td>Challenger</td>\n",
       "      <td>1762</td>\n",
       "      <td>Soloqueue</td>\n",
       "      <td>2</td>\n",
       "      <td>Top 0.000021%</td>\n",
       "      <td>242</td>\n",
       "      <td>159</td>\n",
       "      <td>401</td>\n",
       "      <td>60.6</td>\n",
       "      <td>9.0</td>\n",
       "      <td>5.5</td>\n",
       "      <td>7.7</td>\n",
       "      <td>SK JENAX\\nGrandMaster</td>\n",
       "      <td>5</td>\n",
       "      <td>60.0</td>\n",
       "      <td>Batuuu\\nGrandMaster</td>\n",
       "      <td>5</td>\n",
       "      <td>60.0</td>\n",
       "      <td>Yùmèn nuhαi\\nMaster</td>\n",
       "      <td>5</td>\n",
       "      <td>100.0</td>\n",
       "      <td>Zeri</td>\n",
       "      <td>(EUW: 1)</td>\n",
       "      <td>10.0</td>\n",
       "      <td></td>\n",
       "      <td>60.6</td>\n",
       "      <td>102</td>\n",
       "      <td>65.7</td>\n",
       "      <td>Lucian</td>\n",
       "      <td>16</td>\n",
       "      <td>10.4</td>\n",
       "      <td></td>\n",
       "      <td></td>\n",
       "      <td>54</td>\n",
       "      <td>66.7</td>\n",
       "      <td>Ezreal</td>\n",
       "      <td>2</td>\n",
       "      <td>8.4</td>\n",
       "      <td></td>\n",
       "      <td></td>\n",
       "      <td>49</td>\n",
       "      <td>59.2</td>\n",
       "      <td>Graves</td>\n",
       "      <td>48</td>\n",
       "      <td>8.9</td>\n",
       "      <td></td>\n",
       "      <td></td>\n",
       "      <td>47</td>\n",
       "      <td>59.6</td>\n",
       "      <td>Caitlyn</td>\n",
       "      <td>22</td>\n",
       "      <td>6.8</td>\n",
       "      <td></td>\n",
       "      <td></td>\n",
       "      <td>30</td>\n",
       "      <td>53.3</td>\n",
       "      <td>Varus</td>\n",
       "      <td>4,349</td>\n",
       "      <td>9.0</td>\n",
       "      <td></td>\n",
       "      <td></td>\n",
       "      <td>25</td>\n",
       "      <td>52.0</td>\n",
       "      <td>Kai'Sa</td>\n",
       "      <td>2,280</td>\n",
       "      <td>10.2</td>\n",
       "      <td></td>\n",
       "      <td></td>\n",
       "      <td>22</td>\n",
       "      <td>68.2</td>\n",
       "      <td>Lee Sin</td>\n",
       "      <td>1,314</td>\n",
       "      <td>7.3</td>\n",
       "      <td></td>\n",
       "      <td></td>\n",
       "      <td>16</td>\n",
       "      <td>43.8</td>\n",
       "    </tr>\n",
       "    <tr>\n",
       "      <th>2</th>\n",
       "      <td>frosty</td>\n",
       "      <td>BR</td>\n",
       "      <td>Challenger</td>\n",
       "      <td>1760</td>\n",
       "      <td>Soloqueue</td>\n",
       "      <td>3</td>\n",
       "      <td>Top 0.000032%</td>\n",
       "      <td>194</td>\n",
       "      <td>141</td>\n",
       "      <td>336</td>\n",
       "      <td>57.7</td>\n",
       "      <td>5.1</td>\n",
       "      <td>5.0</td>\n",
       "      <td>12.4</td>\n",
       "      <td></td>\n",
       "      <td>1</td>\n",
       "      <td>0.0</td>\n",
       "      <td></td>\n",
       "      <td>22</td>\n",
       "      <td>86.4</td>\n",
       "      <td></td>\n",
       "      <td>4</td>\n",
       "      <td>25.0</td>\n",
       "      <td>Ashe</td>\n",
       "      <td>(BR: 1)</td>\n",
       "      <td>3.6</td>\n",
       "      <td></td>\n",
       "      <td>57.7</td>\n",
       "      <td>68</td>\n",
       "      <td>52.9</td>\n",
       "      <td>Karma</td>\n",
       "      <td>21</td>\n",
       "      <td>4.2</td>\n",
       "      <td></td>\n",
       "      <td></td>\n",
       "      <td>34</td>\n",
       "      <td>64.7</td>\n",
       "      <td>Heimerdinger</td>\n",
       "      <td>65</td>\n",
       "      <td>4.6</td>\n",
       "      <td></td>\n",
       "      <td></td>\n",
       "      <td>34</td>\n",
       "      <td>58.8</td>\n",
       "      <td>Rakan</td>\n",
       "      <td>37</td>\n",
       "      <td>2.0</td>\n",
       "      <td></td>\n",
       "      <td></td>\n",
       "      <td>33</td>\n",
       "      <td>60.6</td>\n",
       "      <td>Ezreal</td>\n",
       "      <td>77</td>\n",
       "      <td>8.6</td>\n",
       "      <td></td>\n",
       "      <td></td>\n",
       "      <td>29</td>\n",
       "      <td>55.2</td>\n",
       "      <td>Zeri</td>\n",
       "      <td>336</td>\n",
       "      <td>9.3</td>\n",
       "      <td></td>\n",
       "      <td></td>\n",
       "      <td>23</td>\n",
       "      <td>73.9</td>\n",
       "      <td>Nautilus</td>\n",
       "      <td>143</td>\n",
       "      <td>2.2</td>\n",
       "      <td></td>\n",
       "      <td></td>\n",
       "      <td>17</td>\n",
       "      <td>58.8</td>\n",
       "      <td>Varus</td>\n",
       "      <td>265</td>\n",
       "      <td>7.9</td>\n",
       "      <td></td>\n",
       "      <td></td>\n",
       "      <td>16</td>\n",
       "      <td>56.3</td>\n",
       "    </tr>\n",
       "    <tr>\n",
       "      <th>3</th>\n",
       "      <td>ZEN sant</td>\n",
       "      <td>BR</td>\n",
       "      <td>Challenger</td>\n",
       "      <td>1693</td>\n",
       "      <td>Soloqueue</td>\n",
       "      <td>6</td>\n",
       "      <td>Top 0.000065%</td>\n",
       "      <td>224</td>\n",
       "      <td>177</td>\n",
       "      <td>400</td>\n",
       "      <td>55.8</td>\n",
       "      <td>6.5</td>\n",
       "      <td>6.4</td>\n",
       "      <td>9.1</td>\n",
       "      <td></td>\n",
       "      <td>8</td>\n",
       "      <td>62.5</td>\n",
       "      <td></td>\n",
       "      <td>6</td>\n",
       "      <td>50.0</td>\n",
       "      <td></td>\n",
       "      <td>4</td>\n",
       "      <td>50.0</td>\n",
       "      <td>Lucian</td>\n",
       "      <td>(BR: 3)</td>\n",
       "      <td>6.7</td>\n",
       "      <td></td>\n",
       "      <td>55.8</td>\n",
       "      <td>62</td>\n",
       "      <td>66.1</td>\n",
       "      <td>Varus</td>\n",
       "      <td>3</td>\n",
       "      <td>3.9</td>\n",
       "      <td></td>\n",
       "      <td></td>\n",
       "      <td>59</td>\n",
       "      <td>44.1</td>\n",
       "      <td>Caitlyn</td>\n",
       "      <td>58</td>\n",
       "      <td>6.0</td>\n",
       "      <td></td>\n",
       "      <td></td>\n",
       "      <td>36</td>\n",
       "      <td>50.0</td>\n",
       "      <td>Ezreal</td>\n",
       "      <td>365</td>\n",
       "      <td>5.3</td>\n",
       "      <td></td>\n",
       "      <td></td>\n",
       "      <td>34</td>\n",
       "      <td>58.8</td>\n",
       "      <td>Ashe</td>\n",
       "      <td>166</td>\n",
       "      <td>6.1</td>\n",
       "      <td></td>\n",
       "      <td></td>\n",
       "      <td>33</td>\n",
       "      <td>60.6</td>\n",
       "      <td>Jhin</td>\n",
       "      <td>130</td>\n",
       "      <td></td>\n",
       "      <td></td>\n",
       "      <td></td>\n",
       "      <td>21</td>\n",
       "      <td>52.4</td>\n",
       "      <td>Sivir</td>\n",
       "      <td>1,131</td>\n",
       "      <td></td>\n",
       "      <td></td>\n",
       "      <td></td>\n",
       "      <td>21</td>\n",
       "      <td>76.2</td>\n",
       "      <td>Zeri</td>\n",
       "      <td>56</td>\n",
       "      <td></td>\n",
       "      <td></td>\n",
       "      <td></td>\n",
       "      <td>18</td>\n",
       "      <td>55.6</td>\n",
       "    </tr>\n",
       "    <tr>\n",
       "      <th>4</th>\n",
       "      <td>Agurin</td>\n",
       "      <td>EUW</td>\n",
       "      <td>Challenger</td>\n",
       "      <td>1720</td>\n",
       "      <td>Soloqueue</td>\n",
       "      <td>4</td>\n",
       "      <td>Top 0.000043%</td>\n",
       "      <td>238</td>\n",
       "      <td>172</td>\n",
       "      <td></td>\n",
       "      <td>42</td>\n",
       "      <td>6.4</td>\n",
       "      <td>4.6</td>\n",
       "      <td>8.4</td>\n",
       "      <td></td>\n",
       "      <td>27</td>\n",
       "      <td>48.1</td>\n",
       "      <td></td>\n",
       "      <td>24</td>\n",
       "      <td>54.2</td>\n",
       "      <td></td>\n",
       "      <td>20</td>\n",
       "      <td>50.0</td>\n",
       "      <td>Jarvan IV</td>\n",
       "      <td>(EUW: 2)</td>\n",
       "      <td>7.2</td>\n",
       "      <td></td>\n",
       "      <td>42</td>\n",
       "      <td>113</td>\n",
       "      <td>59.3</td>\n",
       "      <td>Elise</td>\n",
       "      <td>(EUW: 3,000)</td>\n",
       "      <td>5.9</td>\n",
       "      <td></td>\n",
       "      <td></td>\n",
       "      <td>100</td>\n",
       "      <td>67.0</td>\n",
       "      <td>Wukong</td>\n",
       "      <td>43</td>\n",
       "      <td>6.5</td>\n",
       "      <td></td>\n",
       "      <td></td>\n",
       "      <td>68</td>\n",
       "      <td>55.9</td>\n",
       "      <td>Kha'Zix</td>\n",
       "      <td>4</td>\n",
       "      <td>8.2</td>\n",
       "      <td></td>\n",
       "      <td></td>\n",
       "      <td>49</td>\n",
       "      <td>53.1</td>\n",
       "      <td>Evelynn</td>\n",
       "      <td>57</td>\n",
       "      <td>7.1</td>\n",
       "      <td></td>\n",
       "      <td></td>\n",
       "      <td>33</td>\n",
       "      <td>54.5</td>\n",
       "      <td>Diana</td>\n",
       "      <td>71</td>\n",
       "      <td>2.7</td>\n",
       "      <td></td>\n",
       "      <td></td>\n",
       "      <td>18</td>\n",
       "      <td>44.4</td>\n",
       "      <td>Karma</td>\n",
       "      <td>364</td>\n",
       "      <td>5.3</td>\n",
       "      <td></td>\n",
       "      <td></td>\n",
       "      <td>13</td>\n",
       "      <td>53.8</td>\n",
       "      <td>Nocturne</td>\n",
       "      <td>3,510</td>\n",
       "      <td></td>\n",
       "      <td></td>\n",
       "      <td></td>\n",
       "      <td>9</td>\n",
       "      <td>33.3</td>\n",
       "    </tr>\n",
       "  </tbody>\n",
       "</table>\n",
       "</div>"
      ],
      "text/plain": [
       "  nombre_invocador region        liga   lps       cola ranking_mundial  \\\n",
       "0       6K OnFleek     NA  Challenger  1859  Soloqueue               1   \n",
       "1            Noah7    EUW  Challenger  1762  Soloqueue               2   \n",
       "2           frosty     BR  Challenger  1760  Soloqueue               3   \n",
       "3         ZEN sant     BR  Challenger  1693  Soloqueue               6   \n",
       "4           Agurin    EUW  Challenger  1720  Soloqueue               4   \n",
       "\n",
       "  ranking_porcentaje wins loses n_games winrate_total kills_player_kda  \\\n",
       "0      Top 0.000010%  150   111     260          57.7              6.4   \n",
       "1      Top 0.000021%  242   159     401          60.6              9.0   \n",
       "2      Top 0.000032%  194   141     336          57.7              5.1   \n",
       "3      Top 0.000065%  224   177     400          55.8              6.5   \n",
       "4      Top 0.000043%  238   172                    42              6.4   \n",
       "\n",
       "  deaths_player_kda assists_player_kda                  rol_1 games_per_rol_1  \\\n",
       "0               4.6                7.4                Jungler             199   \n",
       "1               5.5                7.7  SK JENAX\\nGrandMaster               5   \n",
       "2               5.0               12.4                                      1   \n",
       "3               6.4                9.1                                      8   \n",
       "4               4.6                8.4                                     27   \n",
       "\n",
       "  winrate_per_rol_1                rol_2 games_per_rol_2 winrate_per_rol_2  \\\n",
       "0              58.3                  Top              56              58.9   \n",
       "1              60.0  Batuuu\\nGrandMaster               5              60.0   \n",
       "2               0.0                                   22              86.4   \n",
       "3              62.5                                    6              50.0   \n",
       "4              48.1                                   24              54.2   \n",
       "\n",
       "                 rol_3 games_per_rol_3 winrate_per_rol_3    champ_1  \\\n",
       "0                  Mid               5              20.0      Sylas   \n",
       "1  Yùmèn nuhαi\\nMaster               5             100.0       Zeri   \n",
       "2                                    4              25.0       Ashe   \n",
       "3                                    4              50.0     Lucian   \n",
       "4                                   20              50.0  Jarvan IV   \n",
       "\n",
       "  regional_rank_1 kills_champ_1 deaths_champ_1 assists_champ_1 games_champ_1  \\\n",
       "0         (NA: 1)             7            4.8            57.7            44   \n",
       "1        (EUW: 1)          10.0                           60.6           102   \n",
       "2         (BR: 1)           3.6                           57.7            68   \n",
       "3         (BR: 3)           6.7                           55.8            62   \n",
       "4        (EUW: 2)           7.2                             42           113   \n",
       "\n",
       "  winrate_champ_1 champ_2 regional_rank_2 kills_champ_2 deaths_champ_2  \\\n",
       "0            50.0     Jax             125             6            4.5   \n",
       "1            65.7  Lucian              16          10.4                  \n",
       "2            52.9   Karma              21           4.2                  \n",
       "3            66.1   Varus               3           3.9                  \n",
       "4            59.3   Elise    (EUW: 3,000)           5.9                  \n",
       "\n",
       "  assists_champ_2 games_champ_2 winrate_champ_2       champ_3 regional_rank_3  \\\n",
       "0             3.2            32            65.6            Vi             142   \n",
       "1                            54            66.7        Ezreal               2   \n",
       "2                            34            64.7  Heimerdinger              65   \n",
       "3                            59            44.1       Caitlyn              58   \n",
       "4                           100            67.0        Wukong              43   \n",
       "\n",
       "  kills_champ_3 deaths_champ_3 assists_champ_3 games_champ_3 winrate_champ_3  \\\n",
       "0             2            5.1             8.9            30            63.3   \n",
       "1           8.4                                           49            59.2   \n",
       "2           4.6                                           34            58.8   \n",
       "3           6.0                                           36            50.0   \n",
       "4           6.5                                           68            55.9   \n",
       "\n",
       "   champ_4 regional_rank_4 kills_champ_4 deaths_champ_4 assists_champ_4  \\\n",
       "0  Lee Sin             100             9            4.4             7.6   \n",
       "1   Graves              48           8.9                                  \n",
       "2    Rakan              37           2.0                                  \n",
       "3   Ezreal             365           5.3                                  \n",
       "4  Kha'Zix               4           8.2                                  \n",
       "\n",
       "  games_champ_4 winrate_champ_4  champ_5 regional_rank_5 kills_champ_5  \\\n",
       "0            24            58.3    Elise             304                 \n",
       "1            47            59.6  Caitlyn              22           6.8   \n",
       "2            33            60.6   Ezreal              77           8.6   \n",
       "3            34            58.8     Ashe             166           6.1   \n",
       "4            49            53.1  Evelynn              57           7.1   \n",
       "\n",
       "  deaths_champ_5 assists_champ_5 games_champ_5 winrate_champ_5 champ_6  \\\n",
       "0            4.4             8.9            16            68.8   Viego   \n",
       "1                                           30            53.3   Varus   \n",
       "2                                           29            55.2    Zeri   \n",
       "3                                           33            60.6    Jhin   \n",
       "4                                           33            54.5   Diana   \n",
       "\n",
       "  regional_rank_6 kills_champ_6 deaths_champ_6 assists_champ_6 games_champ_6  \\\n",
       "0             452                          4.7             7.4            16   \n",
       "1           4,349           9.0                                           25   \n",
       "2             336           9.3                                           23   \n",
       "3             130                                                         21   \n",
       "4              71           2.7                                           18   \n",
       "\n",
       "  winrate_champ_6   champ_7 regional_rank_7 kills_champ_7 deaths_champ_7  \\\n",
       "0            68.8    Maokai             242                          4.1   \n",
       "1            52.0    Kai'Sa           2,280          10.2                  \n",
       "2            73.9  Nautilus             143           2.2                  \n",
       "3            52.4     Sivir           1,131                                \n",
       "4            44.4     Karma             364           5.3                  \n",
       "\n",
       "  assists_champ_7 games_champ_7 winrate_champ_7   champ_8 regional_rank_8  \\\n",
       "0             9.9            16            56.3   Kindred           1,821   \n",
       "1                            22            68.2   Lee Sin           1,314   \n",
       "2                            17            58.8     Varus             265   \n",
       "3                            21            76.2      Zeri              56   \n",
       "4                            13            53.8  Nocturne           3,510   \n",
       "\n",
       "  kills_champ_8 deaths_champ_8 assists_champ_8 games_champ_8 winrate_champ_8  \n",
       "0                          6.2             8.6            13            53.8  \n",
       "1           7.3                                           16            43.8  \n",
       "2           7.9                                           16            56.3  \n",
       "3                                                         18            55.6  \n",
       "4                                                          9            33.3  "
      ]
     },
     "execution_count": 159,
     "metadata": {},
     "output_type": "execute_result"
    }
   ],
   "source": [
    "df.head()"
   ]
  },
  {
   "cell_type": "code",
   "execution_count": 137,
   "id": "09b2fc78",
   "metadata": {},
   "outputs": [
    {
     "data": {
      "text/plain": [
       "[{'nombre_invocador': '6K OnFleek',\n",
       "  'region': 'NA',\n",
       "  'liga': 'Challenger',\n",
       "  'lps': '1859',\n",
       "  'cola': 'Soloqueue',\n",
       "  'ranking_mundial': '1',\n",
       "  'ranking_porcentaje': 'Top 0.000010%',\n",
       "  'wins': '150',\n",
       "  'loses': '111',\n",
       "  'n_games': '260',\n",
       "  'winrate_total': '57.7',\n",
       "  'kills_player_kda': '6.4',\n",
       "  'deaths_player_kda': '4.6',\n",
       "  'assists_player_kda': '7.4',\n",
       "  'rol_1': 'Jungler',\n",
       "  'games_per_rol_1': '199',\n",
       "  'winrate_per_rol_1': '58.3',\n",
       "  'rol_2': 'Top',\n",
       "  'games_per_rol_2': '56',\n",
       "  'winrate_per_rol_2': '58.9',\n",
       "  'rol_3': 'Mid',\n",
       "  'games_per_rol_3': '5',\n",
       "  'winrate_per_rol_3': '20.0',\n",
       "  'champ_1': 'Sylas',\n",
       "  'regional_rank_1': '(NA: 1)',\n",
       "  'kills_champ_1': '9.1',\n",
       "  'deaths_champ_1': '4.8',\n",
       "  'assists_champ_1': '57.7',\n",
       "  'games_champ_1': '44',\n",
       "  'winrate_champ_1': '50.0',\n",
       "  'champ_2': 'Jax',\n",
       "  'regional_rank_2': '125',\n",
       "  'kills_champ_2': '5.5',\n",
       "  'deaths_champ_2': '4.5',\n",
       "  'assists_champ_2': '3.2',\n",
       "  'games_champ_2': '32',\n",
       "  'winrate_champ_2': '65.6',\n",
       "  'champ_3': 'Vi',\n",
       "  'regional_rank_3': '142',\n",
       "  'kills_champ_3': '6.2',\n",
       "  'deaths_champ_3': '5.1',\n",
       "  'assists_champ_3': '8.9',\n",
       "  'games_champ_3': '30',\n",
       "  'winrate_champ_3': '63.3',\n",
       "  'champ_4': 'Lee Sin',\n",
       "  'regional_rank_4': '100',\n",
       "  'kills_champ_4': '6.3',\n",
       "  'deaths_champ_4': '4.4',\n",
       "  'assists_champ_4': '7.6',\n",
       "  'games_champ_4': '24',\n",
       "  'winrate_champ_4': '58.3',\n",
       "  'champ_5': 'Elise',\n",
       "  'regional_rank_5': '304',\n",
       "  'kills_champ_5': '6.9',\n",
       "  'deaths_champ_5': '4.4',\n",
       "  'assists_champ_5': '8.9',\n",
       "  'games_champ_5': '16',\n",
       "  'winrate_champ_5': '68.8',\n",
       "  'champ_6': 'Viego',\n",
       "  'regional_rank_6': '452',\n",
       "  'kills_champ_6': '6.3',\n",
       "  'deaths_champ_6': '4.7',\n",
       "  'assists_champ_6': '7.4',\n",
       "  'games_champ_6': '16',\n",
       "  'winrate_champ_6': '68.8',\n",
       "  'champ_7': 'Maokai',\n",
       "  'regional_rank_7': '242',\n",
       "  'kills_champ_7': '4.6',\n",
       "  'deaths_champ_7': '4.1',\n",
       "  'assists_champ_7': '9.9',\n",
       "  'games_champ_7': '16',\n",
       "  'winrate_champ_7': '56.3',\n",
       "  'champ_8': 'Kindred',\n",
       "  'regional_rank_8': '1,821',\n",
       "  'kills_champ_8': '6.3',\n",
       "  'deaths_champ_8': '6.2',\n",
       "  'assists_champ_8': '8.6',\n",
       "  'games_champ_8': '13',\n",
       "  'winrate_champ_8': '53.8'},\n",
       " {'nombre_invocador': 'Noah7',\n",
       "  'region': 'EUW',\n",
       "  'liga': 'Challenger',\n",
       "  'lps': '1762',\n",
       "  'cola': 'Soloqueue',\n",
       "  'ranking_mundial': '2',\n",
       "  'ranking_porcentaje': 'Top 0.000021%',\n",
       "  'wins': '242',\n",
       "  'loses': '159',\n",
       "  'n_games': '401',\n",
       "  'winrate_total': '60.6',\n",
       "  'kills_player_kda': '9.0',\n",
       "  'deaths_player_kda': '5.5',\n",
       "  'assists_player_kda': '7.7',\n",
       "  'rol_1': 'SK JENAX\\nGrandMaster',\n",
       "  'games_per_rol_1': '5',\n",
       "  'winrate_per_rol_1': '60.0',\n",
       "  'rol_2': 'Batuuu\\nGrandMaster',\n",
       "  'games_per_rol_2': '5',\n",
       "  'winrate_per_rol_2': '60.0',\n",
       "  'rol_3': 'Yùmèn nuhαi\\nMaster',\n",
       "  'games_per_rol_3': '5',\n",
       "  'winrate_per_rol_3': '100.0',\n",
       "  'champ_1': 'Zeri',\n",
       "  'regional_rank_1': '(EUW: 1)',\n",
       "  'kills_champ_1': '',\n",
       "  'deaths_champ_1': '',\n",
       "  'assists_champ_1': '60.6',\n",
       "  'games_champ_1': '102',\n",
       "  'winrate_champ_1': '65.7',\n",
       "  'champ_2': 'Lucian',\n",
       "  'regional_rank_2': '16',\n",
       "  'kills_champ_2': '',\n",
       "  'deaths_champ_2': '',\n",
       "  'assists_champ_2': '',\n",
       "  'games_champ_2': '54',\n",
       "  'winrate_champ_2': '66.7',\n",
       "  'champ_3': 'Ezreal',\n",
       "  'regional_rank_3': '2',\n",
       "  'kills_champ_3': '',\n",
       "  'deaths_champ_3': '',\n",
       "  'assists_champ_3': '',\n",
       "  'games_champ_3': '49',\n",
       "  'winrate_champ_3': '59.2',\n",
       "  'champ_4': 'Graves',\n",
       "  'regional_rank_4': '48',\n",
       "  'kills_champ_4': '',\n",
       "  'deaths_champ_4': '',\n",
       "  'assists_champ_4': '',\n",
       "  'games_champ_4': '47',\n",
       "  'winrate_champ_4': '59.6',\n",
       "  'champ_5': 'Caitlyn',\n",
       "  'regional_rank_5': '22',\n",
       "  'kills_champ_5': '',\n",
       "  'deaths_champ_5': '',\n",
       "  'assists_champ_5': '',\n",
       "  'games_champ_5': '30',\n",
       "  'winrate_champ_5': '53.3',\n",
       "  'champ_6': 'Varus',\n",
       "  'regional_rank_6': '4,345',\n",
       "  'kills_champ_6': '',\n",
       "  'deaths_champ_6': '',\n",
       "  'assists_champ_6': '',\n",
       "  'games_champ_6': '25',\n",
       "  'winrate_champ_6': '52.0',\n",
       "  'champ_7': \"Kai'Sa\",\n",
       "  'regional_rank_7': '2,278',\n",
       "  'kills_champ_7': '',\n",
       "  'deaths_champ_7': '',\n",
       "  'assists_champ_7': '',\n",
       "  'games_champ_7': '22',\n",
       "  'winrate_champ_7': '68.2',\n",
       "  'champ_8': 'Lee Sin',\n",
       "  'regional_rank_8': '1,314',\n",
       "  'kills_champ_8': '',\n",
       "  'deaths_champ_8': '',\n",
       "  'assists_champ_8': '',\n",
       "  'games_champ_8': '16',\n",
       "  'winrate_champ_8': '43.8'},\n",
       " {'nombre_invocador': 'frosty',\n",
       "  'region': 'BR',\n",
       "  'liga': 'Challenger',\n",
       "  'lps': '1760',\n",
       "  'cola': 'Soloqueue',\n",
       "  'ranking_mundial': '3',\n",
       "  'ranking_porcentaje': 'Top 0.000032%',\n",
       "  'wins': '194',\n",
       "  'loses': '141',\n",
       "  'n_games': '336',\n",
       "  'winrate_total': '57.7',\n",
       "  'kills_player_kda': '5.1',\n",
       "  'deaths_player_kda': '5.0',\n",
       "  'assists_player_kda': '12.4',\n",
       "  'rol_1': '',\n",
       "  'games_per_rol_1': '1',\n",
       "  'winrate_per_rol_1': '0.0',\n",
       "  'rol_2': '',\n",
       "  'games_per_rol_2': '22',\n",
       "  'winrate_per_rol_2': '86.4',\n",
       "  'rol_3': '',\n",
       "  'games_per_rol_3': '4',\n",
       "  'winrate_per_rol_3': '25.0',\n",
       "  'champ_1': 'Ashe',\n",
       "  'regional_rank_1': '(BR: 1)',\n",
       "  'kills_champ_1': '',\n",
       "  'deaths_champ_1': '',\n",
       "  'assists_champ_1': '57.7',\n",
       "  'games_champ_1': '68',\n",
       "  'winrate_champ_1': '52.9',\n",
       "  'champ_2': 'Karma',\n",
       "  'regional_rank_2': '21',\n",
       "  'kills_champ_2': '',\n",
       "  'deaths_champ_2': '',\n",
       "  'assists_champ_2': '',\n",
       "  'games_champ_2': '34',\n",
       "  'winrate_champ_2': '64.7',\n",
       "  'champ_3': 'Heimerdinger',\n",
       "  'regional_rank_3': '65',\n",
       "  'kills_champ_3': '',\n",
       "  'deaths_champ_3': '',\n",
       "  'assists_champ_3': '',\n",
       "  'games_champ_3': '34',\n",
       "  'winrate_champ_3': '58.8',\n",
       "  'champ_4': 'Rakan',\n",
       "  'regional_rank_4': '37',\n",
       "  'kills_champ_4': '',\n",
       "  'deaths_champ_4': '',\n",
       "  'assists_champ_4': '',\n",
       "  'games_champ_4': '33',\n",
       "  'winrate_champ_4': '60.6',\n",
       "  'champ_5': 'Ezreal',\n",
       "  'regional_rank_5': '77',\n",
       "  'kills_champ_5': '',\n",
       "  'deaths_champ_5': '',\n",
       "  'assists_champ_5': '',\n",
       "  'games_champ_5': '29',\n",
       "  'winrate_champ_5': '55.2',\n",
       "  'champ_6': 'Zeri',\n",
       "  'regional_rank_6': '336',\n",
       "  'kills_champ_6': '',\n",
       "  'deaths_champ_6': '',\n",
       "  'assists_champ_6': '',\n",
       "  'games_champ_6': '23',\n",
       "  'winrate_champ_6': '73.9',\n",
       "  'champ_7': 'Nautilus',\n",
       "  'regional_rank_7': '143',\n",
       "  'kills_champ_7': '',\n",
       "  'deaths_champ_7': '',\n",
       "  'assists_champ_7': '',\n",
       "  'games_champ_7': '17',\n",
       "  'winrate_champ_7': '58.8',\n",
       "  'champ_8': 'Varus',\n",
       "  'regional_rank_8': '265',\n",
       "  'kills_champ_8': '',\n",
       "  'deaths_champ_8': '',\n",
       "  'assists_champ_8': '',\n",
       "  'games_champ_8': '16',\n",
       "  'winrate_champ_8': '56.3'},\n",
       " {'nombre_invocador': 'ZEN sant',\n",
       "  'region': 'BR',\n",
       "  'liga': 'Challenger',\n",
       "  'lps': '1719',\n",
       "  'cola': 'Soloqueue',\n",
       "  'ranking_mundial': '5',\n",
       "  'ranking_porcentaje': 'Top 0.000054%',\n",
       "  'wins': '224',\n",
       "  'loses': '176',\n",
       "  'n_games': '399',\n",
       "  'winrate_total': '55.9',\n",
       "  'kills_player_kda': '6.5',\n",
       "  'deaths_player_kda': '6.4',\n",
       "  'assists_player_kda': '9.1',\n",
       "  'rol_1': '',\n",
       "  'games_per_rol_1': '8',\n",
       "  'winrate_per_rol_1': '62.5',\n",
       "  'rol_2': '',\n",
       "  'games_per_rol_2': '6',\n",
       "  'winrate_per_rol_2': '50.0',\n",
       "  'rol_3': '',\n",
       "  'games_per_rol_3': '4',\n",
       "  'winrate_per_rol_3': '50.0',\n",
       "  'champ_1': 'Lucian',\n",
       "  'regional_rank_1': '(BR: 2)',\n",
       "  'kills_champ_1': '',\n",
       "  'deaths_champ_1': '',\n",
       "  'assists_champ_1': '55.9',\n",
       "  'games_champ_1': '62',\n",
       "  'winrate_champ_1': '66.1',\n",
       "  'champ_2': 'Varus',\n",
       "  'regional_rank_2': '3',\n",
       "  'kills_champ_2': '',\n",
       "  'deaths_champ_2': '',\n",
       "  'assists_champ_2': '',\n",
       "  'games_champ_2': '59',\n",
       "  'winrate_champ_2': '44.1',\n",
       "  'champ_3': 'Caitlyn',\n",
       "  'regional_rank_3': '58',\n",
       "  'kills_champ_3': '',\n",
       "  'deaths_champ_3': '',\n",
       "  'assists_champ_3': '',\n",
       "  'games_champ_3': '36',\n",
       "  'winrate_champ_3': '50.0',\n",
       "  'champ_4': 'Ezreal',\n",
       "  'regional_rank_4': '365',\n",
       "  'kills_champ_4': '',\n",
       "  'deaths_champ_4': '',\n",
       "  'assists_champ_4': '',\n",
       "  'games_champ_4': '34',\n",
       "  'winrate_champ_4': '58.8',\n",
       "  'champ_5': 'Ashe',\n",
       "  'regional_rank_5': '166',\n",
       "  'kills_champ_5': '',\n",
       "  'deaths_champ_5': '',\n",
       "  'assists_champ_5': '',\n",
       "  'games_champ_5': '33',\n",
       "  'winrate_champ_5': '60.6',\n",
       "  'champ_6': 'Jhin',\n",
       "  'regional_rank_6': '130',\n",
       "  'kills_champ_6': '',\n",
       "  'deaths_champ_6': '',\n",
       "  'assists_champ_6': '',\n",
       "  'games_champ_6': '21',\n",
       "  'winrate_champ_6': '52.4',\n",
       "  'champ_7': 'Sivir',\n",
       "  'regional_rank_7': '1,130',\n",
       "  'kills_champ_7': '',\n",
       "  'deaths_champ_7': '',\n",
       "  'assists_champ_7': '',\n",
       "  'games_champ_7': '21',\n",
       "  'winrate_champ_7': '76.2',\n",
       "  'champ_8': 'Zeri',\n",
       "  'regional_rank_8': '56',\n",
       "  'kills_champ_8': '',\n",
       "  'deaths_champ_8': '',\n",
       "  'assists_champ_8': '',\n",
       "  'games_champ_8': '18',\n",
       "  'winrate_champ_8': '55.6'},\n",
       " {'nombre_invocador': 'Agurin',\n",
       "  'region': 'EUW',\n",
       "  'liga': 'Challenger',\n",
       "  'lps': '1720',\n",
       "  'cola': 'Soloqueue',\n",
       "  'ranking_mundial': '4',\n",
       "  'ranking_porcentaje': 'Top 0.000043%',\n",
       "  'wins': '238',\n",
       "  'loses': '172',\n",
       "  'n_games': '',\n",
       "  'winrate_total': '42',\n",
       "  'kills_player_kda': '6.4',\n",
       "  'deaths_player_kda': '4.6',\n",
       "  'assists_player_kda': '8.4',\n",
       "  'rol_1': '',\n",
       "  'games_per_rol_1': '26',\n",
       "  'winrate_per_rol_1': '46.2',\n",
       "  'rol_2': '',\n",
       "  'games_per_rol_2': '23',\n",
       "  'winrate_per_rol_2': '52.2',\n",
       "  'rol_3': '',\n",
       "  'games_per_rol_3': '19',\n",
       "  'winrate_per_rol_3': '47.4',\n",
       "  'champ_1': 'Jarvan IV',\n",
       "  'regional_rank_1': '(EUW: 2)',\n",
       "  'kills_champ_1': '',\n",
       "  'deaths_champ_1': '',\n",
       "  'assists_champ_1': '42',\n",
       "  'games_champ_1': '113',\n",
       "  'winrate_champ_1': '59.3',\n",
       "  'champ_2': 'Elise',\n",
       "  'regional_rank_2': '(EUW: 3,993)',\n",
       "  'kills_champ_2': '',\n",
       "  'deaths_champ_2': '',\n",
       "  'assists_champ_2': '',\n",
       "  'games_champ_2': '100',\n",
       "  'winrate_champ_2': '67.0',\n",
       "  'champ_3': 'Wukong',\n",
       "  'regional_rank_3': '44',\n",
       "  'kills_champ_3': '',\n",
       "  'deaths_champ_3': '',\n",
       "  'assists_champ_3': '',\n",
       "  'games_champ_3': '68',\n",
       "  'winrate_champ_3': '55.9',\n",
       "  'champ_4': \"Kha'Zix\",\n",
       "  'regional_rank_4': '4',\n",
       "  'kills_champ_4': '',\n",
       "  'deaths_champ_4': '',\n",
       "  'assists_champ_4': '',\n",
       "  'games_champ_4': '49',\n",
       "  'winrate_champ_4': '53.1',\n",
       "  'champ_5': 'Evelynn',\n",
       "  'regional_rank_5': '58',\n",
       "  'kills_champ_5': '',\n",
       "  'deaths_champ_5': '',\n",
       "  'assists_champ_5': '',\n",
       "  'games_champ_5': '33',\n",
       "  'winrate_champ_5': '54.5',\n",
       "  'champ_6': 'Diana',\n",
       "  'regional_rank_6': '72',\n",
       "  'kills_champ_6': '',\n",
       "  'deaths_champ_6': '',\n",
       "  'assists_champ_6': '',\n",
       "  'games_champ_6': '18',\n",
       "  'winrate_champ_6': '44.4',\n",
       "  'champ_7': 'Karma',\n",
       "  'regional_rank_7': '363',\n",
       "  'kills_champ_7': '',\n",
       "  'deaths_champ_7': '',\n",
       "  'assists_champ_7': '',\n",
       "  'games_champ_7': '13',\n",
       "  'winrate_champ_7': '53.8',\n",
       "  'champ_8': 'Nocturne',\n",
       "  'regional_rank_8': '3,509',\n",
       "  'kills_champ_8': '',\n",
       "  'deaths_champ_8': '',\n",
       "  'assists_champ_8': '',\n",
       "  'games_champ_8': '9',\n",
       "  'winrate_champ_8': '33.3'}]"
      ]
     },
     "execution_count": 137,
     "metadata": {},
     "output_type": "execute_result"
    }
   ],
   "source": [
    "data"
   ]
  },
  {
   "cell_type": "code",
   "execution_count": 175,
   "id": "65b859e4",
   "metadata": {},
   "outputs": [],
   "source": [
    "url = links_1[3]\n",
    "\n",
    "driver=webdriver.Chrome(PATH)               \n",
    "driver.get(url)\n",
    "\n",
    "kda_4 = [driver.find_elements(By.CLASS_NAME, 'kda')[i].text for i in range(len(driver.find_elements(By.CLASS_NAME, 'kda')))]\n",
    "driver.quit()"
   ]
  },
  {
   "cell_type": "code",
   "execution_count": 187,
   "id": "e7233ce9",
   "metadata": {},
   "outputs": [
    {
     "name": "stdout",
     "output_type": "stream",
     "text": [
      "['8.7 / 6.6 / 8.5', '7.3 / 6.4 / 8.0', '6.2 / 6.4 / 8.5', '6.7 / 6.3 / 8.1', '3.9 / 6.0 / 12.3', '6.0 / 5.0 / 8.6', '5.3 / 5.4 / 7.6', '6.1 / 4.7 / 5.0']\n"
     ]
    }
   ],
   "source": [
    "count = 0\n",
    "i = len(kda_4) - 1\n",
    "while count < 8 and i >= 0:\n",
    "    if kda_4[i] != '':\n",
    "        count += 1\n",
    "    i -= 1\n",
    "\n",
    "if count == 8:\n",
    "    result = kda_4[i+1:]\n",
    "    result = result[:8]\n",
    "    print(result)\n",
    "else:\n",
    "    print(\"No se encontraron suficientes valores distintos de ''\")"
   ]
  },
  {
   "cell_type": "code",
   "execution_count": 190,
   "id": "dba3e921",
   "metadata": {},
   "outputs": [
    {
     "data": {
      "text/plain": [
       "[['8.7', '6.6', '8.5'],\n",
       " ['7.3', '6.4', '8.0'],\n",
       " ['6.2', '6.4', '8.5'],\n",
       " ['6.7', '6.3', '8.1'],\n",
       " ['3.9', '6.0', '12.3'],\n",
       " ['6.0', '5.0', '8.6'],\n",
       " ['5.3', '5.4', '7.6'],\n",
       " ['6.1', '4.7', '5.0']]"
      ]
     },
     "execution_count": 190,
     "metadata": {},
     "output_type": "execute_result"
    }
   ],
   "source": [
    "prueba = [e.split(' / ') for e in result]\n",
    "prueba"
   ]
  },
  {
   "cell_type": "code",
   "execution_count": 191,
   "id": "22bcc966",
   "metadata": {},
   "outputs": [
    {
     "data": {
      "text/plain": [
       "'6.6'"
      ]
     },
     "execution_count": 191,
     "metadata": {},
     "output_type": "execute_result"
    }
   ],
   "source": [
    "prueba[0][1]"
   ]
  },
  {
   "cell_type": "code",
   "execution_count": null,
   "id": "3d1ca5b2",
   "metadata": {},
   "outputs": [],
   "source": []
  },
  {
   "cell_type": "code",
   "execution_count": 121,
   "id": "04dedda2",
   "metadata": {},
   "outputs": [],
   "source": [
    "def scrapeo(url):\n",
    "    \n",
    "    driver=webdriver.Chrome(PATH)               \n",
    "    driver.get(url)\n",
    "    \n",
    "    \n",
    "    name_reg= driver.find_element(By.TAG_NAME, 'h2').text                        # Nombre de invocador\n",
    "    nombre = name_reg.split('(')[0][:-1]\n",
    "    region = name_reg.split('(')[1].rstrip(')')                                  # Región en la que juega el jugador\n",
    "\n",
    "    liga = driver.find_element(By.CLASS_NAME, 'leagueTier').text\n",
    "    liga = liga.split(' ')[0]                                                    # Liga (Challenger, GrandMaster, Master ...)\n",
    "\n",
    "    lp = driver.find_element(By.CLASS_NAME, 'leaguePoints').text\n",
    "    lp = int(lp[:-3])                                                            # LPs\n",
    "\n",
    "    cola = driver.find_element(By.CLASS_NAME, 'queue').text                      # Modalidad de juego\n",
    "    rank = driver.find_element(By.CLASS_NAME, 'highlight').text                  # Rank mundial \n",
    "    rank_per = driver.find_element(By.CLASS_NAME, 'topRankPercentage').text      # Rank del jugador en porcentaje\n",
    "    wins = int(driver.find_element(By.CLASS_NAME, 'winsNumber').text)            # Nº de victorias\n",
    "    loses = int(driver.find_element(By.CLASS_NAME, 'lossesNumber').text)         # Nº de derrotas\n",
    "    n_games = int(driver.find_element(By.ID, 'graphDD2').text)                   # Nº de partidas en la Season\n",
    "    winrate_total = driver.find_element(By.ID, 'graphDD3').text         \n",
    "    winrate_total = float(winrate_total[:-1])                                    # Winrate total del jugador\n",
    "    \n",
    "    \n",
    "    champs_name = [driver.find_elements(By.CLASS_NAME, 'name')[i].text for i in range(len(driver.find_elements(By.CLASS_NAME,       'name')))]\n",
    "    \n",
    "    # Nombre de los campeones más jugados por el jugador\n",
    "    \n",
    "    campeones = champs_name[1:9]\n",
    "    \n",
    "    champ_1 = campeones[0]\n",
    "    champ_2 = campeones[1]\n",
    "    champ_3 = campeones[2]\n",
    "    champ_4 = campeones[3]\n",
    "    champ_5 = campeones[4]\n",
    "    champ_6 = campeones[5]\n",
    "    champ_7 = campeones[6]\n",
    "    champ_8 = campeones[7]\n",
    "    \n",
    "    regional_rank = [driver.find_elements(By.CLASS_NAME, 'regionalRank')[i].text for i in             range(len(driver.find_elements(By.CLASS_NAME, 'regionalRank')))]\n",
    "    \n",
    "    # Rank por regiones de los campeones más jugados por el jugador\n",
    "    \n",
    "    regional_rank_1 = regional_rank[0]\n",
    "    regional_rank_2 = regional_rank[1]\n",
    "    regional_rank_3 = regional_rank[2]\n",
    "    regional_rank_4 = regional_rank[3]\n",
    "    regional_rank_5 = regional_rank[4]\n",
    "    regional_rank_6 = regional_rank[5]\n",
    "    regional_rank_7 = regional_rank[6]\n",
    "    regional_rank_8 = regional_rank[7]\n",
    "    \n",
    "    \n",
    "    # KDA de los campeones más jugados por el jugador\n",
    "    \n",
    "    kda = [driver.find_elements(By.CLASS_NAME, 'kda')[i].text for i in range(len(driver.find_elements(By.CLASS_NAME, 'kda')))]\n",
    "    \n",
    "    count = 0\n",
    "    i = len(kda) - 1\n",
    "    while count < 8 and i >= 0:\n",
    "        if kda[i] != '':\n",
    "            count += 1\n",
    "        i -= 1\n",
    "\n",
    "    if count == 8:\n",
    "        result = kda_4[i+1:]\n",
    "        result = result[:8]\n",
    "    \n",
    "    \n",
    "    \n",
    "    \n",
    "    \n",
    "    \n",
    "    \n",
    "    \n",
    "    \n",
    "    progress_bar = [driver.find_elements(By.CLASS_NAME, 'progressBarTxt')[i].text for i in range(len(driver.find_elements(By.CLASS_NAME, 'progressBarTxt')))]\n",
    "    \n",
    "    driver.quit()\n",
    "    \n",
    "    # Número de partidas jugadas de los campeones más jugados por el jugador\n",
    "    \n",
    "    games_per_champ = progress_bar[:16:2]\n",
    "    \n",
    "    games_champ_1 = int(games_per_champ[0])\n",
    "    games_champ_2 = int(games_per_champ[1])\n",
    "    games_champ_3 = int(games_per_champ[2])\n",
    "    games_champ_4 = int(games_per_champ[3])\n",
    "    games_champ_5 = int(games_per_champ[4])\n",
    "    games_champ_6 = int(games_per_champ[5])\n",
    "    games_champ_7 = int(games_per_champ[6])\n",
    "    games_champ_8 = int(games_per_champ[7])\n",
    "    \n",
    "    \n",
    "    # Winrate de los campeones más jugados por el jugador\n",
    "    \n",
    "    winrate_per_champ = progress_bar[1:16:2]\n",
    "    \n",
    "    winrate_champ_1 = winrate_per_champ[0]\n",
    "    winrate_champ_2 = winrate_per_champ[1]\n",
    "    winrate_champ_3 = winrate_per_champ[2]\n",
    "    winrate_champ_4 = winrate_per_champ[3]\n",
    "    winrate_champ_5 = winrate_per_champ[4]\n",
    "    winrate_champ_6 = winrate_per_champ[5]\n",
    "    winrate_champ_7 = winrate_per_champ[6]\n",
    "    winrate_champ_8 = winrate_per_champ[7]\n",
    "    \n",
    "    winrate_champ_1 = float(winrate_champ_1[:-1])              # Quitamos '%' y transformamos a float\n",
    "    winrate_champ_2 = float(winrate_champ_2[:-1])\n",
    "    winrate_champ_3 = float(winrate_champ_3[:-1])\n",
    "    winrate_champ_4 = float(winrate_champ_4[:-1])\n",
    "    winrate_champ_5 = float(winrate_champ_5[:-1])\n",
    "    winrate_champ_6 = float(winrate_champ_6[:-1])\n",
    "    winrate_champ_7 = float(winrate_champ_7[:-1])\n",
    "    winrate_champ_8 = float(winrate_champ_8[:-1])\n",
    "    \n",
    "    \n",
    "    # Roles + jugados por el jugador\n",
    "    \n",
    "    roles = champs_name[-9:-6]\n",
    "    \n",
    "    rol_1 = roles[0]\n",
    "    rol_2 = roles[1]\n",
    "    rol_3 = roles[2]\n",
    "    \n",
    "    \n",
    "    # Partidas en cada rol jugado por el jugador\n",
    "    \n",
    "    games_per_rol = progress_bar[-6::2]\n",
    "    \n",
    "    games_per_rol_1 = int(games_per_rol[0])\n",
    "    games_per_rol_2 = int(games_per_rol[1])\n",
    "    games_per_rol_3 = int(games_per_rol[2])\n",
    "    \n",
    "    \n",
    "    # Winrate para cada rol jugado por el jugador\n",
    "    \n",
    "    winrate_per_rol = progress_bar[-5::2]\n",
    "    \n",
    "    winrate_per_rol_1 = winrate_per_rol[0]\n",
    "    winrate_per_rol_2 = winrate_per_rol[1]\n",
    "    winrate_per_rol_3 = winrate_per_rol[2]\n",
    "    \n",
    "    winrate_per_rol_1 = float(winrate_per_rol_1[:-1])       # Quitamos '%' y transformamos a float\n",
    "    winrate_per_rol_2 = float(winrate_per_rol_2[:-1])\n",
    "    winrate_per_rol_3 = float(winrate_per_rol_3[:-1])\n",
    "    \n",
    "    \n",
    "    #KDA jugador\n",
    "    \n",
    "    kills_player_kda = float(kills[-4])\n",
    "    deaths_player_kda = float(deaths[-4])\n",
    "    assists_player_kda = float(assists[-4])\n",
    "    \n",
    "    \n",
    "    data = {'nombre_invocador':nombre,              # Preparamos nuestros datos scrapeados en un diccionario donde la key\n",
    "            'region':region,                        # será el nombre de la columna y el value una lista con nuestros datos\n",
    "            'liga': liga,\n",
    "            'lps':lp,\n",
    "            'cola':cola,\n",
    "            'ranking_mundial':rank,\n",
    "            'ranking_porcentaje':rank_per,\n",
    "            \n",
    "            'wins':wins,\n",
    "            'loses':loses,\n",
    "            'n_games':n_games,\n",
    "            'winrate_total':winrate_total,\n",
    "            \n",
    "            'kills_player_kda':kills_player_kda,\n",
    "            'deaths_player_kda':deaths_player_kda,\n",
    "            'assists_player_kda':assists_player_kda,\n",
    "            \n",
    "            'rol_1':rol_1,\n",
    "            'games_per_rol_1':games_per_rol_1,\n",
    "            'winrate_per_rol_1':winrate_per_rol_1,\n",
    "            \n",
    "            'rol_2':rol_2,\n",
    "            'games_per_rol_2':games_per_rol_2,\n",
    "            'winrate_per_rol_2':winrate_per_rol_2,\n",
    "            \n",
    "            'rol_3':rol_3,\n",
    "            'games_per_rol_3':games_per_rol_3,\n",
    "            'winrate_per_rol_3':winrate_per_rol_3,\n",
    "            \n",
    "            'champ_1':champ_1,\n",
    "            'regional_rank_1':regional_rank_1,\n",
    "            'kills_champ_1':kills_champ_1,\n",
    "            'deaths_champ_1':deaths_champ_1,\n",
    "            'assists_champ_1':winrate_total,\n",
    "            'games_champ_1':games_champ_1,\n",
    "            'winrate_champ_1':winrate_champ_1,\n",
    "            \n",
    "            'champ_2':champ_2,\n",
    "            'regional_rank_2':regional_rank_2,\n",
    "            'kills_champ_2':kills_champ_2,\n",
    "            'deaths_champ_2':deaths_champ_2,\n",
    "            'assists_champ_2':assists_champ_2,\n",
    "            'games_champ_2':games_champ_2,\n",
    "            'winrate_champ_2':winrate_champ_2,\n",
    "            \n",
    "            'champ_3':champ_3,\n",
    "            'regional_rank_3':regional_rank_3,\n",
    "            'kills_champ_3':kills_champ_3,\n",
    "            'deaths_champ_3':deaths_champ_3,\n",
    "            'assists_champ_3':assists_champ_3,\n",
    "            'games_champ_3':games_champ_3,\n",
    "            'winrate_champ_3':winrate_champ_3,\n",
    "            \n",
    "            'champ_4':champ_4,\n",
    "            'regional_rank_4':regional_rank_4,\n",
    "            'kills_champ_4':kills_champ_4,\n",
    "            'deaths_champ_4':deaths_champ_4,\n",
    "            'assists_champ_4':assists_champ_4,\n",
    "            'games_champ_4':games_champ_4,\n",
    "            'winrate_champ_4':winrate_champ_4,\n",
    "            \n",
    "            'champ_5':champ_5,\n",
    "            'regional_rank_5':regional_rank_5,\n",
    "            'kills_champ_5':kills_champ_5,\n",
    "            'deaths_champ_5':deaths_champ_5,\n",
    "            'assists_champ_5':assists_champ_5,\n",
    "            'games_champ_5':games_champ_5,\n",
    "            'winrate_champ_5':winrate_champ_5,\n",
    "            \n",
    "            'champ_6':champ_6,\n",
    "            'regional_rank_6':regional_rank_6,\n",
    "            'kills_champ_6':kills_champ_6,\n",
    "            'deaths_champ_6':deaths_champ_6,\n",
    "            'assists_champ_6':assists_champ_6,\n",
    "            'games_champ_6':games_champ_6,\n",
    "            'winrate_champ_6':winrate_champ_6,\n",
    "            \n",
    "            'champ_7':champ_7,\n",
    "            'regional_rank_7':regional_rank_7,\n",
    "            'kills_champ_7':kills_champ_7,\n",
    "            'deaths_champ_7':deaths_champ_7,\n",
    "            'assists_champ_7':assists_champ_7,\n",
    "            'games_champ_7':games_champ_7,\n",
    "            'winrate_champ_7':winrate_champ_7,\n",
    "            \n",
    "            'champ_8':champ_8,\n",
    "            'regional_rank_8':regional_rank_8,\n",
    "            'kills_champ_8':kills_champ_8,\n",
    "            'deaths_champ_8':deaths_champ_8,\n",
    "            'assists_champ_8':assists_champ_8,\n",
    "            'games_champ_8':games_champ_8,\n",
    "            'winrate_champ_8':winrate_champ_8,\n",
    "            }\n",
    "    \n",
    "    return data"
   ]
  }
 ],
 "metadata": {
  "kernelspec": {
   "display_name": "Python 3 (ipykernel)",
   "language": "python",
   "name": "python3"
  },
  "language_info": {
   "codemirror_mode": {
    "name": "ipython",
    "version": 3
   },
   "file_extension": ".py",
   "mimetype": "text/x-python",
   "name": "python",
   "nbconvert_exporter": "python",
   "pygments_lexer": "ipython3",
   "version": "3.9.13"
  }
 },
 "nbformat": 4,
 "nbformat_minor": 5
}
