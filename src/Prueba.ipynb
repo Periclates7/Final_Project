{
 "cells": [
  {
   "cell_type": "code",
   "execution_count": 1,
   "id": "73a0dc66",
   "metadata": {},
   "outputs": [],
   "source": [
    "import numpy as np\n",
    "import pandas as pd\n",
    "import time\n",
    "\n",
    "pd.set_option('display.max_rows', None)\n",
    "pd.set_option('display.max_columns', None)\n",
    "\n",
    "import warnings\n",
    "warnings.filterwarnings('ignore')\n"
   ]
  },
  {
   "cell_type": "code",
   "execution_count": 2,
   "id": "45cff59f",
   "metadata": {},
   "outputs": [
    {
     "name": "stderr",
     "output_type": "stream",
     "text": [
      "[WDM] - Downloading: 100%|█████████████████| 8.82M/8.82M [00:03<00:00, 2.89MB/s]\n"
     ]
    }
   ],
   "source": [
    "from selenium.webdriver.chrome.options import Options\n",
    "from webdriver_manager.chrome import ChromeDriverManager\n",
    "from selenium import webdriver\n",
    "from selenium.webdriver.common.by import By\n",
    "PATH=ChromeDriverManager().install()\n",
    "\n",
    "import requests\n",
    "from bs4 import BeautifulSoup"
   ]
  },
  {
   "cell_type": "code",
   "execution_count": 3,
   "id": "f0081a8b",
   "metadata": {},
   "outputs": [],
   "source": [
    "url = 'https://www.leagueofgraphs.com/es/rankings/summoners'\n",
    "\n",
    "driver=webdriver.Chrome(PATH)               \n",
    "driver.get(url)"
   ]
  },
  {
   "cell_type": "code",
   "execution_count": 4,
   "id": "ef7cc7f9",
   "metadata": {},
   "outputs": [],
   "source": [
    "links_invo = [driver.find_elements(By.TAG_NAME, 'a')[i].get_attribute('href') for i in range(len(driver.find_elements(By.TAG_NAME, 'a')))]\n",
    "driver.quit()"
   ]
  },
  {
   "cell_type": "code",
   "execution_count": 30,
   "id": "96d2f3c9",
   "metadata": {},
   "outputs": [],
   "source": [
    "links_1 = links_invo[302:-23]"
   ]
  },
  {
   "cell_type": "code",
   "execution_count": 32,
   "id": "53492f27",
   "metadata": {},
   "outputs": [
    {
     "data": {
      "text/plain": [
       "'https://www.leagueofgraphs.com/es/summoner/euw/Yagiao'"
      ]
     },
     "execution_count": 32,
     "metadata": {},
     "output_type": "execute_result"
    }
   ],
   "source": [
    "links_1[-1]"
   ]
  },
  {
   "cell_type": "code",
   "execution_count": 13,
   "id": "0a85aa28",
   "metadata": {},
   "outputs": [
    {
     "data": {
      "text/plain": [
       "'6K OnFleek (NA)'"
      ]
     },
     "execution_count": 13,
     "metadata": {},
     "output_type": "execute_result"
    }
   ],
   "source": [
    "url = 'https://www.leagueofgraphs.com/es/summoner/na/6K+OnFleek'\n",
    "\n",
    "driver=webdriver.Chrome(PATH)               \n",
    "driver.get(url)\n",
    "\n",
    "name_reg= driver.find_element(By.TAG_NAME, 'h2').text\n",
    "driver.quit()\n",
    "\n",
    "name_reg"
   ]
  },
  {
   "cell_type": "code",
   "execution_count": 114,
   "id": "096d1afd",
   "metadata": {
    "scrolled": false
   },
   "outputs": [
    {
     "data": {
      "text/plain": [
       "('6K OnFleek',\n",
       " 'NA',\n",
       " 'Challenger',\n",
       " 1859,\n",
       " 'Soloqueue',\n",
       " 1,\n",
       " 'Top 0.000010%',\n",
       " 150,\n",
       " 111,\n",
       " 260,\n",
       " 57.7)"
      ]
     },
     "execution_count": 114,
     "metadata": {},
     "output_type": "execute_result"
    }
   ],
   "source": [
    "url = 'https://www.leagueofgraphs.com/es/summoner/na/6K+OnFleek'\n",
    "\n",
    "driver=webdriver.Chrome(PATH)               \n",
    "driver.get(url)\n",
    "\n",
    "name_reg= driver.find_element(By.TAG_NAME, 'h2').text \n",
    "nombre = name_reg.split('(')[0][:-1]\n",
    "region = name_reg.split('(')[1].rstrip(')')\n",
    "\n",
    "liga = driver.find_element(By.CLASS_NAME, 'leagueTier').text\n",
    "liga = liga.split(' ')[0]\n",
    "\n",
    "lp = driver.find_element(By.CLASS_NAME, 'leaguePoints').text\n",
    "lp = int(lp[:-3])\n",
    "\n",
    "cola = driver.find_element(By.CLASS_NAME, 'queue').text\n",
    "rank = int(driver.find_element(By.CLASS_NAME, 'highlight').text)\n",
    "rank_per = driver.find_element(By.CLASS_NAME, 'topRankPercentage').text\n",
    "wins = int(driver.find_element(By.CLASS_NAME, 'winsNumber').text)\n",
    "loses = int(driver.find_element(By.CLASS_NAME, 'lossesNumber').text)\n",
    "n_games = int(driver.find_element(By.ID, 'graphDD2').text)\n",
    "winrate_total = driver.find_element(By.ID, 'graphDD3').text\n",
    "winrate_total = float(winrate_total[:-1])\n",
    "\n",
    "\n",
    "driver.quit()\n",
    "\n",
    "nombre , region, liga, lp, cola, rank, rank_per, wins, loses, n_games, winrate_total"
   ]
  },
  {
   "cell_type": "markdown",
   "id": "cf6e7a6c",
   "metadata": {},
   "source": [
    "**KDA**"
   ]
  },
  {
   "cell_type": "code",
   "execution_count": 105,
   "id": "b80dbe43",
   "metadata": {},
   "outputs": [
    {
     "data": {
      "text/plain": [
       "'6.4'"
      ]
     },
     "execution_count": 105,
     "metadata": {},
     "output_type": "execute_result"
    }
   ],
   "source": [
    "kills_player_kda = kills[-4]\n",
    "kills_player_kda"
   ]
  },
  {
   "cell_type": "code",
   "execution_count": 106,
   "id": "a69e756a",
   "metadata": {},
   "outputs": [
    {
     "data": {
      "text/plain": [
       "'4.6'"
      ]
     },
     "execution_count": 106,
     "metadata": {},
     "output_type": "execute_result"
    }
   ],
   "source": [
    "deaths_player_kda = deaths[-4]\n",
    "deaths_player_kda"
   ]
  },
  {
   "cell_type": "code",
   "execution_count": 107,
   "id": "3785dc1f",
   "metadata": {},
   "outputs": [
    {
     "data": {
      "text/plain": [
       "'7.4'"
      ]
     },
     "execution_count": 107,
     "metadata": {},
     "output_type": "execute_result"
    }
   ],
   "source": [
    "assists_player_kda = assists[-4]\n",
    "assists_player_kda"
   ]
  },
  {
   "cell_type": "markdown",
   "id": "a6358b2c",
   "metadata": {},
   "source": [
    "**NOMBRE CAMPEONES + JUGADOS POR JUGADOR**"
   ]
  },
  {
   "cell_type": "code",
   "execution_count": 26,
   "id": "9f16b00e",
   "metadata": {},
   "outputs": [],
   "source": [
    "url = 'https://www.leagueofgraphs.com/es/summoner/na/6K+OnFleek'\n",
    "\n",
    "driver=webdriver.Chrome(PATH)               \n",
    "driver.get(url)\n",
    "\n",
    "champs_name = [driver.find_elements(By.CLASS_NAME, 'name')[i].text for i in range(len(driver.find_elements(By.CLASS_NAME, 'name')))]\n",
    "driver.quit()"
   ]
  },
  {
   "cell_type": "code",
   "execution_count": 44,
   "id": "0ab0150d",
   "metadata": {},
   "outputs": [
    {
     "data": {
      "text/plain": [
       "['Sylas', 'Jax', 'Vi', 'Lee Sin', 'Elise', 'Viego', 'Maokai', 'Kindred']"
      ]
     },
     "execution_count": 44,
     "metadata": {},
     "output_type": "execute_result"
    }
   ],
   "source": [
    "campeones = champs_name[1:9]\n",
    "campeones"
   ]
  },
  {
   "cell_type": "code",
   "execution_count": 43,
   "id": "ac2fc7f5",
   "metadata": {},
   "outputs": [
    {
     "data": {
      "text/plain": [
       "'Kindred'"
      ]
     },
     "execution_count": 43,
     "metadata": {},
     "output_type": "execute_result"
    }
   ],
   "source": [
    "champ_1 = campeones[0]\n",
    "champ_2 = campeones[1]\n",
    "champ_3 = campeones[2]\n",
    "champ_4 = campeones[3]\n",
    "champ_5 = campeones[4]\n",
    "champ_6 = campeones[5]\n",
    "champ_7 = campeones[6]\n",
    "champ_8 = campeones[7]\n",
    "\n",
    "champ_8"
   ]
  },
  {
   "cell_type": "markdown",
   "id": "e561a55e",
   "metadata": {},
   "source": [
    "**RANK CAMPEONES + JUGADOS POR JUGADOR**"
   ]
  },
  {
   "cell_type": "code",
   "execution_count": 49,
   "id": "c830bbc3",
   "metadata": {},
   "outputs": [],
   "source": [
    "driver=webdriver.Chrome(PATH)               \n",
    "driver.get(url)\n",
    "\n",
    "regional_rank = [driver.find_elements(By.CLASS_NAME, 'regionalRank')[i].text for i in range(len(driver.find_elements(By.CLASS_NAME, 'regionalRank')))]\n",
    "driver.quit()"
   ]
  },
  {
   "cell_type": "code",
   "execution_count": 50,
   "id": "09591cd1",
   "metadata": {},
   "outputs": [
    {
     "data": {
      "text/plain": [
       "['125', '142', '101', '304', '451', '241', '1,819', '908']"
      ]
     },
     "execution_count": 50,
     "metadata": {},
     "output_type": "execute_result"
    }
   ],
   "source": [
    "regional_rank = regional_rank[1:9]\n",
    "regional_rank"
   ]
  },
  {
   "cell_type": "code",
   "execution_count": 51,
   "id": "e632db02",
   "metadata": {},
   "outputs": [
    {
     "data": {
      "text/plain": [
       "'908'"
      ]
     },
     "execution_count": 51,
     "metadata": {},
     "output_type": "execute_result"
    }
   ],
   "source": [
    "regional_rank_1 = regional_rank[0]\n",
    "regional_rank_2 = regional_rank[1]\n",
    "regional_rank_3 = regional_rank[2]\n",
    "regional_rank_4 = regional_rank[3]\n",
    "regional_rank_5 = regional_rank[4]\n",
    "regional_rank_6 = regional_rank[5]\n",
    "regional_rank_7 = regional_rank[6]\n",
    "regional_rank_8 = regional_rank[7]\n",
    "regional_rank_8"
   ]
  },
  {
   "cell_type": "markdown",
   "id": "4d58a9e4",
   "metadata": {},
   "source": [
    "**KILLS CAMPEONES + JUGADOS POR JUGADOR**"
   ]
  },
  {
   "cell_type": "code",
   "execution_count": 94,
   "id": "6ca281c3",
   "metadata": {},
   "outputs": [],
   "source": [
    "url = 'https://www.leagueofgraphs.com/es/summoner/na/6K+OnFleek'\n",
    "\n",
    "driver=webdriver.Chrome(PATH)               \n",
    "driver.get(url)\n",
    "\n",
    "kills = [driver.find_elements(By.CLASS_NAME, 'kills')[i].text for i in range(len(driver.find_elements(By.CLASS_NAME, 'kills')))]\n",
    "driver.quit()\n",
    "\n"
   ]
  },
  {
   "cell_type": "code",
   "execution_count": 95,
   "id": "3bfa8517",
   "metadata": {},
   "outputs": [
    {
     "data": {
      "text/plain": [
       "['9.1', '5.5', '6.2', '6.3', '6.9', '6.3', '4.6', '6.3']"
      ]
     },
     "execution_count": 95,
     "metadata": {},
     "output_type": "execute_result"
    }
   ],
   "source": [
    "kills_champs = kills[29:37]\n",
    "kills_champs"
   ]
  },
  {
   "cell_type": "code",
   "execution_count": 96,
   "id": "722bf414",
   "metadata": {},
   "outputs": [
    {
     "data": {
      "text/plain": [
       "'6.3'"
      ]
     },
     "execution_count": 96,
     "metadata": {},
     "output_type": "execute_result"
    }
   ],
   "source": [
    "kills_champ_1 = kills_champs[0]\n",
    "kills_champ_2 = kills_champs[1]\n",
    "kills_champ_3 = kills_champs[2]\n",
    "kills_champ_4 = kills_champs[3]\n",
    "kills_champ_5 = kills_champs[4]\n",
    "kills_champ_6 = kills_champs[5]\n",
    "kills_champ_7 = kills_champs[6]\n",
    "kills_champ_8 = kills_champs[7]\n",
    "kills_champ_8"
   ]
  },
  {
   "cell_type": "markdown",
   "id": "37c6aa8c",
   "metadata": {},
   "source": [
    "**MUERTES CAMPEONES + JUGADOS POR JUGADOR**"
   ]
  },
  {
   "cell_type": "code",
   "execution_count": 97,
   "id": "70f8b3f2",
   "metadata": {},
   "outputs": [],
   "source": [
    "url = 'https://www.leagueofgraphs.com/es/summoner/na/6K+OnFleek'\n",
    "\n",
    "driver=webdriver.Chrome(PATH)               \n",
    "driver.get(url)\n",
    "\n",
    "deaths = [driver.find_elements(By.CLASS_NAME, 'deaths')[i].text for i in range(len(driver.find_elements(By.CLASS_NAME, 'deaths')))]\n",
    "driver.quit()"
   ]
  },
  {
   "cell_type": "code",
   "execution_count": 98,
   "id": "9c9b19f5",
   "metadata": {
    "scrolled": false
   },
   "outputs": [
    {
     "data": {
      "text/plain": [
       "['4.8', '4.5', '5.1', '4.4', '4.4', '4.7', '4.1', '6.2']"
      ]
     },
     "execution_count": 98,
     "metadata": {},
     "output_type": "execute_result"
    }
   ],
   "source": [
    "deaths_champs = deaths[29:37]\n",
    "deaths_champs"
   ]
  },
  {
   "cell_type": "code",
   "execution_count": 99,
   "id": "975f509d",
   "metadata": {},
   "outputs": [
    {
     "data": {
      "text/plain": [
       "'6.2'"
      ]
     },
     "execution_count": 99,
     "metadata": {},
     "output_type": "execute_result"
    }
   ],
   "source": [
    "deaths_champ_1 = deaths_champs[0]\n",
    "deaths_champ_2 = deaths_champs[1]\n",
    "deaths_champ_3 = deaths_champs[2]\n",
    "deaths_champ_4 = deaths_champs[3]\n",
    "deaths_champ_5 = deaths_champs[4]\n",
    "deaths_champ_6 = deaths_champs[5]\n",
    "deaths_champ_7 = deaths_champs[6]\n",
    "deaths_champ_8 = deaths_champs[7]\n",
    "deaths_champ_8"
   ]
  },
  {
   "cell_type": "markdown",
   "id": "bbfc97a0",
   "metadata": {},
   "source": [
    "**ASSISTS CAMPEONES + JUGADOS POR JUGADOR**"
   ]
  },
  {
   "cell_type": "code",
   "execution_count": 100,
   "id": "f26ccaab",
   "metadata": {},
   "outputs": [],
   "source": [
    "url = 'https://www.leagueofgraphs.com/es/summoner/na/6K+OnFleek'\n",
    "\n",
    "driver=webdriver.Chrome(PATH)               \n",
    "driver.get(url)\n",
    "\n",
    "assists = [driver.find_elements(By.CLASS_NAME, 'assists')[i].text for i in range(len(driver.find_elements(By.CLASS_NAME, 'assists')))]\n",
    "driver.quit()\n"
   ]
  },
  {
   "cell_type": "code",
   "execution_count": 101,
   "id": "014264de",
   "metadata": {},
   "outputs": [
    {
     "data": {
      "text/plain": [
       "['6.5', '3.2', '8.9', '7.6', '8.9', '7.4', '9.9', '8.6']"
      ]
     },
     "execution_count": 101,
     "metadata": {},
     "output_type": "execute_result"
    }
   ],
   "source": [
    "assists_champs = assists[29:37]\n",
    "assists_champs"
   ]
  },
  {
   "cell_type": "code",
   "execution_count": 102,
   "id": "9c48c5b3",
   "metadata": {
    "scrolled": true
   },
   "outputs": [
    {
     "data": {
      "text/plain": [
       "'8.6'"
      ]
     },
     "execution_count": 102,
     "metadata": {},
     "output_type": "execute_result"
    }
   ],
   "source": [
    "assists_champ_1 = assists_champs[0]\n",
    "assists_champ_2 = assists_champs[1]\n",
    "assists_champ_3 = assists_champs[2]\n",
    "assists_champ_4 = assists_champs[3]\n",
    "assists_champ_5 = assists_champs[4]\n",
    "assists_champ_6 = assists_champs[5]\n",
    "assists_champ_7 = assists_champs[6]\n",
    "assists_champ_8 = assists_champs[7]\n",
    "assists_champ_8"
   ]
  },
  {
   "cell_type": "markdown",
   "id": "ffb70672",
   "metadata": {},
   "source": [
    "**PARTIDAS POR CAMPEÓN**"
   ]
  },
  {
   "cell_type": "code",
   "execution_count": 67,
   "id": "7a429aa8",
   "metadata": {},
   "outputs": [],
   "source": [
    "driver=webdriver.Chrome(PATH)               \n",
    "driver.get(url)\n",
    "\n",
    "progress_bar = [driver.find_elements(By.CLASS_NAME, 'progressBarTxt')[i].text for i in range(len(driver.find_elements(By.CLASS_NAME, 'progressBarTxt')))]\n",
    "driver.quit()"
   ]
  },
  {
   "cell_type": "code",
   "execution_count": 71,
   "id": "76f4eb47",
   "metadata": {},
   "outputs": [],
   "source": [
    "games_per_champ = progress_bar[:16:2]"
   ]
  },
  {
   "cell_type": "code",
   "execution_count": 73,
   "id": "db65bf10",
   "metadata": {},
   "outputs": [
    {
     "data": {
      "text/plain": [
       "['44', '32', '30', '24', '16', '16', '16', '13']"
      ]
     },
     "execution_count": 73,
     "metadata": {},
     "output_type": "execute_result"
    }
   ],
   "source": [
    "games_per_champ"
   ]
  },
  {
   "cell_type": "code",
   "execution_count": 72,
   "id": "a2c4e34f",
   "metadata": {},
   "outputs": [
    {
     "data": {
      "text/plain": [
       "'13'"
      ]
     },
     "execution_count": 72,
     "metadata": {},
     "output_type": "execute_result"
    }
   ],
   "source": [
    "games_champ_1 = games_per_champ[0]\n",
    "games_champ_2 = games_per_champ[1]\n",
    "games_champ_3 = games_per_champ[2]\n",
    "games_champ_4 = games_per_champ[3]\n",
    "games_champ_5 = games_per_champ[4]\n",
    "games_champ_6 = games_per_champ[5]\n",
    "games_champ_7 = games_per_champ[6]\n",
    "games_champ_8 = games_per_champ[7]\n",
    "games_champ_8"
   ]
  },
  {
   "cell_type": "markdown",
   "id": "0444a45c",
   "metadata": {},
   "source": [
    "**WINRATE POR CAMPEON**"
   ]
  },
  {
   "cell_type": "code",
   "execution_count": 74,
   "id": "8d56a940",
   "metadata": {},
   "outputs": [
    {
     "data": {
      "text/plain": [
       "['50.0%', '65.6%', '63.3%', '58.3%', '68.8%', '68.8%', '56.3%', '53.8%']"
      ]
     },
     "execution_count": 74,
     "metadata": {},
     "output_type": "execute_result"
    }
   ],
   "source": [
    "winrate_per_champ = progress_bar[1:16:2]\n",
    "winrate_per_champ"
   ]
  },
  {
   "cell_type": "code",
   "execution_count": 79,
   "id": "cfb63fb6",
   "metadata": {},
   "outputs": [
    {
     "data": {
      "text/plain": [
       "'53.8%'"
      ]
     },
     "execution_count": 79,
     "metadata": {},
     "output_type": "execute_result"
    }
   ],
   "source": [
    "winrate_champ_1 = winrate_per_champ[0]\n",
    "winrate_champ_2 = winrate_per_champ[1]\n",
    "winrate_champ_3 = winrate_per_champ[2]\n",
    "winrate_champ_4 = winrate_per_champ[3]\n",
    "winrate_champ_5 = winrate_per_champ[4]\n",
    "winrate_champ_6 = winrate_per_champ[5]\n",
    "winrate_champ_7 = winrate_per_champ[6]\n",
    "winrate_champ_8 = winrate_per_champ[7]\n",
    "winrate_champ_8"
   ]
  },
  {
   "cell_type": "code",
   "execution_count": 80,
   "id": "d813b0b7",
   "metadata": {},
   "outputs": [
    {
     "data": {
      "text/plain": [
       "'53.8'"
      ]
     },
     "execution_count": 80,
     "metadata": {},
     "output_type": "execute_result"
    }
   ],
   "source": [
    "winrate_champ_1 = winrate_champ_1[:-1]\n",
    "winrate_champ_2 = winrate_champ_2[:-1]\n",
    "winrate_champ_3 = winrate_champ_3[:-1]\n",
    "winrate_champ_4 = winrate_champ_4[:-1]\n",
    "winrate_champ_5 = winrate_champ_5[:-1]\n",
    "winrate_champ_6 = winrate_champ_6[:-1]\n",
    "winrate_champ_7 = winrate_champ_7[:-1]\n",
    "winrate_champ_8 = winrate_champ_8[:-1]\n",
    "winrate_champ_8"
   ]
  },
  {
   "cell_type": "markdown",
   "id": "face1199",
   "metadata": {},
   "source": [
    "**ESTADISTICAS POR ROL**"
   ]
  },
  {
   "cell_type": "code",
   "execution_count": 82,
   "id": "deb26b97",
   "metadata": {},
   "outputs": [
    {
     "data": {
      "text/plain": [
       "['199', '58.3%', '56', '58.9%', '5', '20.0%']"
      ]
     },
     "execution_count": 82,
     "metadata": {},
     "output_type": "execute_result"
    }
   ],
   "source": [
    "progress_bar[-6::]"
   ]
  },
  {
   "cell_type": "code",
   "execution_count": 85,
   "id": "5b67a4d0",
   "metadata": {},
   "outputs": [
    {
     "data": {
      "text/plain": [
       "['Jungler', 'Top', 'Mid']"
      ]
     },
     "execution_count": 85,
     "metadata": {},
     "output_type": "execute_result"
    }
   ],
   "source": [
    "champs_name[-9:-6]"
   ]
  },
  {
   "cell_type": "code",
   "execution_count": 91,
   "id": "d025f992",
   "metadata": {},
   "outputs": [
    {
     "data": {
      "text/plain": [
       "['Jungler', 'Top', 'Mid']"
      ]
     },
     "execution_count": 91,
     "metadata": {},
     "output_type": "execute_result"
    }
   ],
   "source": [
    "roles = champs_name[-9:-6]\n",
    "roles"
   ]
  },
  {
   "cell_type": "code",
   "execution_count": 92,
   "id": "5bc5e0fe",
   "metadata": {},
   "outputs": [
    {
     "data": {
      "text/plain": [
       "'Mid'"
      ]
     },
     "execution_count": 92,
     "metadata": {},
     "output_type": "execute_result"
    }
   ],
   "source": [
    "rol_1 = roles[0]\n",
    "rol_2 = roles[1]\n",
    "rol_3 = roles[2]\n",
    "rol_3"
   ]
  },
  {
   "cell_type": "code",
   "execution_count": 86,
   "id": "f13e246a",
   "metadata": {},
   "outputs": [
    {
     "data": {
      "text/plain": [
       "['199', '56', '5']"
      ]
     },
     "execution_count": 86,
     "metadata": {},
     "output_type": "execute_result"
    }
   ],
   "source": [
    "games_per_rol = progress_bar[-6::2]\n",
    "games_per_rol"
   ]
  },
  {
   "cell_type": "code",
   "execution_count": 87,
   "id": "ea08e2b6",
   "metadata": {},
   "outputs": [
    {
     "data": {
      "text/plain": [
       "'5'"
      ]
     },
     "execution_count": 87,
     "metadata": {},
     "output_type": "execute_result"
    }
   ],
   "source": [
    "games_per_rol_1 = games_per_rol[0]\n",
    "games_per_rol_2 = games_per_rol[1]\n",
    "games_per_rol_3 = games_per_rol[2]\n",
    "games_per_rol_3"
   ]
  },
  {
   "cell_type": "code",
   "execution_count": 88,
   "id": "e05f71b0",
   "metadata": {},
   "outputs": [
    {
     "data": {
      "text/plain": [
       "['58.3%', '58.9%', '20.0%']"
      ]
     },
     "execution_count": 88,
     "metadata": {},
     "output_type": "execute_result"
    }
   ],
   "source": [
    "winrate_per_rol = progress_bar[-5::2]\n",
    "winrate_per_rol"
   ]
  },
  {
   "cell_type": "code",
   "execution_count": 89,
   "id": "1f339c89",
   "metadata": {},
   "outputs": [
    {
     "data": {
      "text/plain": [
       "'20.0%'"
      ]
     },
     "execution_count": 89,
     "metadata": {},
     "output_type": "execute_result"
    }
   ],
   "source": [
    "winrate_per_rol_1 = winrate_per_rol[0]\n",
    "winrate_per_rol_2 = winrate_per_rol[1]\n",
    "winrate_per_rol_3 = winrate_per_rol[2]\n",
    "winrate_per_rol_3"
   ]
  },
  {
   "cell_type": "code",
   "execution_count": 90,
   "id": "eebc8a9d",
   "metadata": {},
   "outputs": [
    {
     "data": {
      "text/plain": [
       "'20.0'"
      ]
     },
     "execution_count": 90,
     "metadata": {},
     "output_type": "execute_result"
    }
   ],
   "source": [
    "winrate_per_rol_1 = winrate_per_rol_1[:-1]\n",
    "winrate_per_rol_2 = winrate_per_rol_2[:-1]\n",
    "winrate_per_rol_3 = winrate_per_rol_3[:-1]\n",
    "winrate_per_rol_3"
   ]
  },
  {
   "cell_type": "code",
   "execution_count": null,
   "id": "26429467",
   "metadata": {},
   "outputs": [],
   "source": []
  }
 ],
 "metadata": {
  "kernelspec": {
   "display_name": "Python 3 (ipykernel)",
   "language": "python",
   "name": "python3"
  },
  "language_info": {
   "codemirror_mode": {
    "name": "ipython",
    "version": 3
   },
   "file_extension": ".py",
   "mimetype": "text/x-python",
   "name": "python",
   "nbconvert_exporter": "python",
   "pygments_lexer": "ipython3",
   "version": "3.9.13"
  }
 },
 "nbformat": 4,
 "nbformat_minor": 5
}
