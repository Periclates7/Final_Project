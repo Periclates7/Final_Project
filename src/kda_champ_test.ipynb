{
 "cells": [
  {
   "cell_type": "code",
   "execution_count": 1,
   "id": "7c799da9",
   "metadata": {},
   "outputs": [],
   "source": [
    "import numpy as np\n",
    "import pandas as pd\n",
    "import time\n",
    "\n",
    "pd.set_option('display.max_rows', None)\n",
    "pd.set_option('display.max_columns', None)\n",
    "\n",
    "import warnings\n",
    "warnings.filterwarnings('ignore')"
   ]
  },
  {
   "cell_type": "code",
   "execution_count": 2,
   "id": "7b02b670",
   "metadata": {},
   "outputs": [],
   "source": [
    "from selenium.webdriver.chrome.options import Options\n",
    "from webdriver_manager.chrome import ChromeDriverManager\n",
    "from selenium import webdriver\n",
    "from selenium.webdriver.common.by import By\n",
    "PATH=ChromeDriverManager().install()\n",
    "\n",
    "import requests\n",
    "from bs4 import BeautifulSoup"
   ]
  },
  {
   "cell_type": "code",
   "execution_count": 9,
   "id": "d431507a",
   "metadata": {},
   "outputs": [],
   "source": [
    "url = 'https://www.leagueofgraphs.com/es/summoner/br/FURIA+Ayu'\n",
    "\n",
    "driver=webdriver.Chrome(PATH)               \n",
    "driver.get(url)\n",
    "\n",
    "tabla_rol= driver.find_elements(By.TAG_NAME, 'tbody')\n",
    "driver.quit()"
   ]
  },
  {
   "cell_type": "code",
   "execution_count": 27,
   "id": "452d0dd3",
   "metadata": {},
   "outputs": [
    {
     "data": {
      "text/plain": [
       "[[], ['Support', '146', '58.9%'], ['AD Carry', '50', '68.0%']]"
      ]
     },
     "execution_count": 27,
     "metadata": {},
     "output_type": "execute_result"
    }
   ],
   "source": [
    "\n",
    "\n",
    "driver=webdriver.Chrome(PATH)               \n",
    "driver.get(url)\n",
    "\n",
    "\n",
    "tabla = driver.find_elements(By.TAG_NAME, 'tbody')[7]\n",
    "\n",
    "filas = tabla.find_elements(By.TAG_NAME, 'tr')\n",
    "\n",
    "roles = []\n",
    "\n",
    "for f in filas:\n",
    "    \n",
    "    elems=f.find_elements(By.TAG_NAME, 'td')\n",
    "    \n",
    "    tmp=[]\n",
    "    \n",
    "    for e in elems:\n",
    "        tmp.append(e.text)\n",
    "        \n",
    "    roles.append(tmp)\n",
    "    \n",
    "    \n",
    "roles"
   ]
  },
  {
   "cell_type": "code",
   "execution_count": null,
   "id": "d6fa9551",
   "metadata": {},
   "outputs": [],
   "source": []
  }
 ],
 "metadata": {
  "kernelspec": {
   "display_name": "Python 3 (ipykernel)",
   "language": "python",
   "name": "python3"
  },
  "language_info": {
   "codemirror_mode": {
    "name": "ipython",
    "version": 3
   },
   "file_extension": ".py",
   "mimetype": "text/x-python",
   "name": "python",
   "nbconvert_exporter": "python",
   "pygments_lexer": "ipython3",
   "version": "3.9.13"
  }
 },
 "nbformat": 4,
 "nbformat_minor": 5
}
